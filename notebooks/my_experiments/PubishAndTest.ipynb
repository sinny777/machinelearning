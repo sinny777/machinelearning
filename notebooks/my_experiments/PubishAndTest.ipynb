{
 "cells": [
  {
   "cell_type": "code",
   "execution_count": 1,
   "metadata": {},
   "outputs": [
    {
     "name": "stderr",
     "output_type": "stream",
     "text": [
      "/anaconda3/lib/python3.6/importlib/_bootstrap.py:219: RuntimeWarning: numpy.dtype size changed, may indicate binary incompatibility. Expected 96, got 88\n",
      "  return f(*args, **kwds)\n",
      "/anaconda3/lib/python3.6/importlib/_bootstrap.py:219: RuntimeWarning: numpy.dtype size changed, may indicate binary incompatibility. Expected 96, got 88\n",
      "  return f(*args, **kwds)\n",
      "/anaconda3/lib/python3.6/importlib/_bootstrap.py:219: RuntimeWarning: numpy.dtype size changed, may indicate binary incompatibility. Expected 96, got 88\n",
      "  return f(*args, **kwds)\n"
     ]
    }
   ],
   "source": [
    "import pandas as pd\n",
    "import numpy as np\n",
    "import random\n",
    "\n",
    "import os.path\n",
    "from os import path\n",
    "import pickle\n",
    "from sklearn.externals import joblib\n",
    "from sklearn.model_selection import train_test_split\n",
    "from sklearn.pipeline import Pipeline\n",
    "# from sklearn.naive_bayes import GaussianNB\n",
    "# from sklearn.naive_bayes import MultinomialNB\n",
    "from sklearn.feature_extraction.text import CountVectorizer, TfidfTransformer"
   ]
  },
  {
   "cell_type": "code",
   "execution_count": 2,
   "metadata": {},
   "outputs": [
    {
     "data": {
      "text/html": [
       "<div>\n",
       "<table border=\"1\" class=\"dataframe\">\n",
       "  <thead>\n",
       "    <tr style=\"text-align: right;\">\n",
       "      <th></th>\n",
       "      <th>utterances</th>\n",
       "      <th>intent</th>\n",
       "    </tr>\n",
       "  </thead>\n",
       "  <tbody>\n",
       "    <tr>\n",
       "      <th>0</th>\n",
       "      <td>Tell me something about yourself</td>\n",
       "      <td>about_me</td>\n",
       "    </tr>\n",
       "    <tr>\n",
       "      <th>1</th>\n",
       "      <td>Tell me something about you ?</td>\n",
       "      <td>about_me</td>\n",
       "    </tr>\n",
       "    <tr>\n",
       "      <th>2</th>\n",
       "      <td>Tell me about yourself ?</td>\n",
       "      <td>about_me</td>\n",
       "    </tr>\n",
       "    <tr>\n",
       "      <th>3</th>\n",
       "      <td>Who are you ?</td>\n",
       "      <td>about_me</td>\n",
       "    </tr>\n",
       "    <tr>\n",
       "      <th>4</th>\n",
       "      <td>What's your name ?</td>\n",
       "      <td>about_me</td>\n",
       "    </tr>\n",
       "  </tbody>\n",
       "</table>\n",
       "</div>"
      ],
      "text/plain": [
       "                         utterances    intent\n",
       "0  Tell me something about yourself  about_me\n",
       "1     Tell me something about you ?  about_me\n",
       "2          Tell me about yourself ?  about_me\n",
       "3                     Who are you ?  about_me\n",
       "4                What's your name ?  about_me"
      ]
     },
     "execution_count": 2,
     "metadata": {},
     "output_type": "execute_result"
    }
   ],
   "source": [
    "df = pd.read_csv('data/data.csv', header=0, delimiter=\",\")\n",
    "df.head()"
   ]
  },
  {
   "cell_type": "code",
   "execution_count": 3,
   "metadata": {},
   "outputs": [
    {
     "name": "stdout",
     "output_type": "stream",
     "text": [
      "Training Data Length:  302\n",
      "Training Data Target Length:  302\n",
      "X_train Length:  271\n",
      "Y_train Target Length:  271\n",
      "X_test Length:  31\n",
      "Y_test Target Length:  31\n"
     ]
    }
   ],
   "source": [
    "X = df[\"utterances\"].values\n",
    "Y = df[\"intent\"].values\n",
    "\n",
    "unique_intents = df[\"intent\"].unique()\n",
    "unique_intents = sorted(list(set(unique_intents)))\n",
    "\n",
    "print(\"Training Data Length: \", len(X))\n",
    "print(\"Training Data Target Length: \", len(Y))\n",
    "X_train, X_test, Y_train, Y_test = train_test_split(X, Y, test_size = 0.10, random_state = 42)\n",
    "print(\"X_train Length: \", len(X_train))\n",
    "print(\"Y_train Target Length: \", len(Y_train))\n",
    "print(\"X_test Length: \", len(X_test))\n",
    "print(\"Y_test Target Length: \", len(Y_test))"
   ]
  },
  {
   "cell_type": "code",
   "execution_count": 4,
   "metadata": {},
   "outputs": [
    {
     "name": "stdout",
     "output_type": "stream",
     "text": [
      "SGD Classifier Performance: >>>  0.8064516129032258\n"
     ]
    }
   ],
   "source": [
    "from sklearn.linear_model import SGDClassifier\n",
    "\n",
    "ERROR_THRESHOLD = 0.01\n",
    "\n",
    "model = Pipeline([('vect', CountVectorizer()), ('tfidf', TfidfTransformer()),\n",
    "                         ('clf-svm', SGDClassifier(loss='squared_loss', penalty='l2',alpha=1e-3, max_iter=5, random_state=42))])\n",
    "model = model.fit(X_train, Y_train)\n",
    "predicted = model.predict(X_test)\n",
    "print(\"SGD Classifier Performance: >>> \", np.mean(predicted == Y_test))\n",
    "# print(metrics.classification_report(Y_test, predicted, target_names=Y_test))"
   ]
  },
  {
   "cell_type": "code",
   "execution_count": 5,
   "metadata": {},
   "outputs": [
    {
     "name": "stdout",
     "output_type": "stream",
     "text": [
      "<<<<<<<< ML MODEL CREATED AND SAVED >>>>>>>>>>>\n",
      "\n",
      "\n"
     ]
    }
   ],
   "source": [
    "saved_model = joblib.dump(model, 'nlc_model.pkl')\n",
    "print(\"<<<<<<<< ML MODEL CREATED AND SAVED >>>>>>>>>>>\\n\\n\")"
   ]
  },
  {
   "cell_type": "code",
   "execution_count": 6,
   "metadata": {},
   "outputs": [
    {
     "name": "stdout",
     "output_type": "stream",
     "text": [
      "Lets Publish the model...\n",
      "Username: >>  gurvsin3\n",
      "Model Path: >>  nlc_model.pkl\n",
      "2018-09-10 17:20:08,155 - watson_machine_learning_client.metanames - WARNING - 'AUTHOR_EMAIL' meta prop is deprecated. It will be ignored.\n",
      "{'metadata': {'guid': '1cfa9bd2-fdbe-4b36-a310-66a2ced7bcc1', 'url': 'https://us-south.ml.cloud.ibm.com/v3/wml_instances/e7e44faf-ff8d-4183-9f37-434e2dcd6852/published_models/1cfa9bd2-fdbe-4b36-a310-66a2ced7bcc1', 'created_at': '2018-09-10T11:50:09.351Z', 'modified_at': '2018-09-10T11:50:09.405Z'}, 'entity': {'runtime_environment': 'python-3.5', 'learning_configuration_url': 'https://us-south.ml.cloud.ibm.com/v3/wml_instances/e7e44faf-ff8d-4183-9f37-434e2dcd6852/published_models/1cfa9bd2-fdbe-4b36-a310-66a2ced7bcc1/learning_configuration', 'author': {'name': 'gurvsin3'}, 'name': 'gurvsin3', 'tags': [], 'learning_iterations_url': 'https://us-south.ml.cloud.ibm.com/v3/wml_instances/e7e44faf-ff8d-4183-9f37-434e2dcd6852/published_models/1cfa9bd2-fdbe-4b36-a310-66a2ced7bcc1/learning_iterations', 'feedback_url': 'https://us-south.ml.cloud.ibm.com/v3/wml_instances/e7e44faf-ff8d-4183-9f37-434e2dcd6852/published_models/1cfa9bd2-fdbe-4b36-a310-66a2ced7bcc1/feedback', 'latest_version': {'url': 'https://us-south.ml.cloud.ibm.com/v3/ml_assets/models/1cfa9bd2-fdbe-4b36-a310-66a2ced7bcc1/versions/bde9467a-9620-4e24-b357-d1e7d61d8c54', 'guid': 'bde9467a-9620-4e24-b357-d1e7d61d8c54', 'created_at': '2018-09-10T11:50:09.405Z'}, 'model_type': 'scikit-learn-0.19', 'deployments': {'count': 0, 'url': 'https://us-south.ml.cloud.ibm.com/v3/wml_instances/e7e44faf-ff8d-4183-9f37-434e2dcd6852/published_models/1cfa9bd2-fdbe-4b36-a310-66a2ced7bcc1/deployments'}, 'evaluation_metrics_url': 'https://us-south.ml.cloud.ibm.com/v3/wml_instances/e7e44faf-ff8d-4183-9f37-434e2dcd6852/published_models/1cfa9bd2-fdbe-4b36-a310-66a2ced7bcc1/evaluation_metrics'}}\n",
      "\n",
      "\n",
      "#######################################################################################\n",
      "\n",
      "Synchronous deployment creation for uid: '1cfa9bd2-fdbe-4b36-a310-66a2ced7bcc1' started\n",
      "\n",
      "#######################################################################################\n",
      "\n",
      "\n",
      "INITIALIZING\n",
      "DEPLOY_SUCCESS\n",
      "\n",
      "\n",
      "------------------------------------------------------------------------------------------------\n",
      "Successfully finished deployment creation, deployment_uid='4812f496-99fd-478f-b5eb-310121b72704'\n",
      "------------------------------------------------------------------------------------------------\n",
      "\n",
      "\n",
      "https://ibm-watson-ml.mybluemix.net/v3/wml_instances/e7e44faf-ff8d-4183-9f37-434e2dcd6852/deployments/4812f496-99fd-478f-b5eb-310121b72704/online\n",
      "matches_found: >>  11\n",
      "miss_matched: >>  1\n",
      "accurace: >>>  91.66666666666666\n"
     ]
    }
   ],
   "source": [
    "!python publish.py --username \"gurvsin3\" --model_path \"nlc_model.pkl\" "
   ]
  }
 ],
 "metadata": {
  "kernelspec": {
   "display_name": "Python 3",
   "language": "python",
   "name": "python3"
  },
  "language_info": {
   "codemirror_mode": {
    "name": "ipython",
    "version": 3
   },
   "file_extension": ".py",
   "mimetype": "text/x-python",
   "name": "python",
   "nbconvert_exporter": "python",
   "pygments_lexer": "ipython3",
   "version": "3.6.4"
  }
 },
 "nbformat": 4,
 "nbformat_minor": 2
}
