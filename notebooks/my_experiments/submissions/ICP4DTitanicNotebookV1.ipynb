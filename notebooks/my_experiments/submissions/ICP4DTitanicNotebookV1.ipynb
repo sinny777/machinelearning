{
 "cells": [
  {
   "cell_type": "code",
   "execution_count": 1,
   "metadata": {
    "collapsed": false,
    "deletable": true,
    "editable": true
   },
   "outputs": [
    {
     "data": {
      "text/html": [
       "<div>\n",
       "<table border=\"1\" class=\"dataframe\">\n",
       "  <thead>\n",
       "    <tr style=\"text-align: right;\">\n",
       "      <th></th>\n",
       "      <th>PassengerId</th>\n",
       "      <th>Survived</th>\n",
       "      <th>Pclass</th>\n",
       "      <th>Name</th>\n",
       "      <th>Sex</th>\n",
       "      <th>Age</th>\n",
       "      <th>SibSp</th>\n",
       "      <th>Parch</th>\n",
       "      <th>Ticket</th>\n",
       "      <th>Fare</th>\n",
       "      <th>Cabin</th>\n",
       "      <th>Embarked</th>\n",
       "    </tr>\n",
       "  </thead>\n",
       "  <tbody>\n",
       "    <tr>\n",
       "      <th>0</th>\n",
       "      <td>1</td>\n",
       "      <td>0</td>\n",
       "      <td>3</td>\n",
       "      <td>Braund, Mr. Owen Harris</td>\n",
       "      <td>male</td>\n",
       "      <td>22.0</td>\n",
       "      <td>1</td>\n",
       "      <td>0</td>\n",
       "      <td>A/5 21171</td>\n",
       "      <td>7.2500</td>\n",
       "      <td>NaN</td>\n",
       "      <td>S</td>\n",
       "    </tr>\n",
       "    <tr>\n",
       "      <th>1</th>\n",
       "      <td>5</td>\n",
       "      <td>0</td>\n",
       "      <td>3</td>\n",
       "      <td>Allen, Mr. William Henry</td>\n",
       "      <td>male</td>\n",
       "      <td>35.0</td>\n",
       "      <td>0</td>\n",
       "      <td>0</td>\n",
       "      <td>373450</td>\n",
       "      <td>8.0500</td>\n",
       "      <td>NaN</td>\n",
       "      <td>S</td>\n",
       "    </tr>\n",
       "    <tr>\n",
       "      <th>2</th>\n",
       "      <td>6</td>\n",
       "      <td>0</td>\n",
       "      <td>3</td>\n",
       "      <td>Moran, Mr. James</td>\n",
       "      <td>male</td>\n",
       "      <td>NaN</td>\n",
       "      <td>0</td>\n",
       "      <td>0</td>\n",
       "      <td>330877</td>\n",
       "      <td>8.4583</td>\n",
       "      <td>NaN</td>\n",
       "      <td>Q</td>\n",
       "    </tr>\n",
       "    <tr>\n",
       "      <th>3</th>\n",
       "      <td>7</td>\n",
       "      <td>0</td>\n",
       "      <td>1</td>\n",
       "      <td>McCarthy, Mr. Timothy J</td>\n",
       "      <td>male</td>\n",
       "      <td>54.0</td>\n",
       "      <td>0</td>\n",
       "      <td>0</td>\n",
       "      <td>17463</td>\n",
       "      <td>51.8625</td>\n",
       "      <td>E46</td>\n",
       "      <td>S</td>\n",
       "    </tr>\n",
       "    <tr>\n",
       "      <th>4</th>\n",
       "      <td>8</td>\n",
       "      <td>0</td>\n",
       "      <td>3</td>\n",
       "      <td>Palsson, Master. Gosta Leonard</td>\n",
       "      <td>male</td>\n",
       "      <td>2.0</td>\n",
       "      <td>3</td>\n",
       "      <td>1</td>\n",
       "      <td>349909</td>\n",
       "      <td>21.0750</td>\n",
       "      <td>NaN</td>\n",
       "      <td>S</td>\n",
       "    </tr>\n",
       "  </tbody>\n",
       "</table>\n",
       "</div>"
      ],
      "text/plain": [
       "   PassengerId  Survived  Pclass                            Name   Sex   Age  \\\n",
       "0            1         0       3         Braund, Mr. Owen Harris  male  22.0   \n",
       "1            5         0       3        Allen, Mr. William Henry  male  35.0   \n",
       "2            6         0       3                Moran, Mr. James  male   NaN   \n",
       "3            7         0       1         McCarthy, Mr. Timothy J  male  54.0   \n",
       "4            8         0       3  Palsson, Master. Gosta Leonard  male   2.0   \n",
       "\n",
       "   SibSp  Parch     Ticket     Fare Cabin Embarked  \n",
       "0      1      0  A/5 21171   7.2500   NaN        S  \n",
       "1      0      0     373450   8.0500   NaN        S  \n",
       "2      0      0     330877   8.4583   NaN        Q  \n",
       "3      0      0      17463  51.8625   E46        S  \n",
       "4      3      1     349909  21.0750   NaN        S  "
      ]
     },
     "execution_count": 1,
     "metadata": {},
     "output_type": "execute_result"
    }
   ],
   "source": [
    "import os, pandas as pd\n",
    "# Add asset from file system\n",
    "\n",
    "df_data_1 = pd.read_csv(os.environ['DSX_PROJECT_DIR']+'/datasets/Titanictrain.csv')\n",
    "df_data_1.head()"
   ]
  },
  {
   "cell_type": "code",
   "execution_count": 2,
   "metadata": {
    "collapsed": true,
    "deletable": true,
    "editable": true
   },
   "outputs": [],
   "source": [
    "from sklearn.linear_model import LogisticRegression\n",
    "from sklearn.model_selection import train_test_split\n",
    "from sklearn import preprocessing\n",
    "from sklearn.metrics import confusion_matrix, precision_recall_curve, roc_curve, auc, log_loss\n",
    "from sklearn.metrics import accuracy_score, classification_report, precision_score, recall_score "
   ]
  },
  {
   "cell_type": "code",
   "execution_count": 3,
   "metadata": {
    "collapsed": false,
    "deletable": true,
    "editable": true
   },
   "outputs": [
    {
     "data": {
      "text/html": [
       "<div>\n",
       "<table border=\"1\" class=\"dataframe\">\n",
       "  <thead>\n",
       "    <tr style=\"text-align: right;\">\n",
       "      <th></th>\n",
       "      <th>Survived</th>\n",
       "      <th>Age</th>\n",
       "      <th>SibSp</th>\n",
       "      <th>Parch</th>\n",
       "      <th>Fare</th>\n",
       "      <th>Pclass_1</th>\n",
       "      <th>Pclass_2</th>\n",
       "      <th>Pclass_3</th>\n",
       "      <th>Embarked_C</th>\n",
       "      <th>Embarked_Q</th>\n",
       "      <th>Embarked_S</th>\n",
       "      <th>Sex_male</th>\n",
       "    </tr>\n",
       "  </thead>\n",
       "  <tbody>\n",
       "    <tr>\n",
       "      <th>0</th>\n",
       "      <td>0</td>\n",
       "      <td>22.0</td>\n",
       "      <td>1</td>\n",
       "      <td>0</td>\n",
       "      <td>7.2500</td>\n",
       "      <td>0.0</td>\n",
       "      <td>0.0</td>\n",
       "      <td>1.0</td>\n",
       "      <td>0.0</td>\n",
       "      <td>0.0</td>\n",
       "      <td>1.0</td>\n",
       "      <td>1.0</td>\n",
       "    </tr>\n",
       "    <tr>\n",
       "      <th>1</th>\n",
       "      <td>0</td>\n",
       "      <td>35.0</td>\n",
       "      <td>0</td>\n",
       "      <td>0</td>\n",
       "      <td>8.0500</td>\n",
       "      <td>0.0</td>\n",
       "      <td>0.0</td>\n",
       "      <td>1.0</td>\n",
       "      <td>0.0</td>\n",
       "      <td>0.0</td>\n",
       "      <td>1.0</td>\n",
       "      <td>1.0</td>\n",
       "    </tr>\n",
       "    <tr>\n",
       "      <th>2</th>\n",
       "      <td>0</td>\n",
       "      <td>28.0</td>\n",
       "      <td>0</td>\n",
       "      <td>0</td>\n",
       "      <td>8.4583</td>\n",
       "      <td>0.0</td>\n",
       "      <td>0.0</td>\n",
       "      <td>1.0</td>\n",
       "      <td>0.0</td>\n",
       "      <td>1.0</td>\n",
       "      <td>0.0</td>\n",
       "      <td>1.0</td>\n",
       "    </tr>\n",
       "    <tr>\n",
       "      <th>3</th>\n",
       "      <td>0</td>\n",
       "      <td>54.0</td>\n",
       "      <td>0</td>\n",
       "      <td>0</td>\n",
       "      <td>51.8625</td>\n",
       "      <td>1.0</td>\n",
       "      <td>0.0</td>\n",
       "      <td>0.0</td>\n",
       "      <td>0.0</td>\n",
       "      <td>0.0</td>\n",
       "      <td>1.0</td>\n",
       "      <td>1.0</td>\n",
       "    </tr>\n",
       "    <tr>\n",
       "      <th>4</th>\n",
       "      <td>0</td>\n",
       "      <td>2.0</td>\n",
       "      <td>3</td>\n",
       "      <td>1</td>\n",
       "      <td>21.0750</td>\n",
       "      <td>0.0</td>\n",
       "      <td>0.0</td>\n",
       "      <td>1.0</td>\n",
       "      <td>0.0</td>\n",
       "      <td>0.0</td>\n",
       "      <td>1.0</td>\n",
       "      <td>1.0</td>\n",
       "    </tr>\n",
       "  </tbody>\n",
       "</table>\n",
       "</div>"
      ],
      "text/plain": [
       "   Survived   Age  SibSp  Parch     Fare  Pclass_1  Pclass_2  Pclass_3  \\\n",
       "0         0  22.0      1      0   7.2500       0.0       0.0       1.0   \n",
       "1         0  35.0      0      0   8.0500       0.0       0.0       1.0   \n",
       "2         0  28.0      0      0   8.4583       0.0       0.0       1.0   \n",
       "3         0  54.0      0      0  51.8625       1.0       0.0       0.0   \n",
       "4         0   2.0      3      1  21.0750       0.0       0.0       1.0   \n",
       "\n",
       "   Embarked_C  Embarked_Q  Embarked_S  Sex_male  \n",
       "0         0.0         0.0         1.0       1.0  \n",
       "1         0.0         0.0         1.0       1.0  \n",
       "2         0.0         1.0         0.0       1.0  \n",
       "3         0.0         0.0         1.0       1.0  \n",
       "4         0.0         0.0         1.0       1.0  "
      ]
     },
     "execution_count": 3,
     "metadata": {},
     "output_type": "execute_result"
    }
   ],
   "source": [
    "df_train = pd.get_dummies(df_data_1, columns=[\"Pclass\",\"Embarked\",\"Sex\"])\n",
    "df_train.fillna(df_train[\"Age\"].median(skipna=True), inplace=True)\n",
    "df_train.drop('Sex_female', axis=1, inplace=True)\n",
    "df_train.drop('PassengerId', axis=1, inplace=True)\n",
    "df_train.drop('Name', axis=1, inplace=True)\n",
    "df_train.drop('Ticket', axis=1, inplace=True)\n",
    "df_train.drop('Cabin', axis=1, inplace=True)\n",
    "df_train.head()"
   ]
  },
  {
   "cell_type": "code",
   "execution_count": 4,
   "metadata": {
    "collapsed": false,
    "deletable": true,
    "editable": true
   },
   "outputs": [],
   "source": [
    "X = df_train[[\"Age\",\"SibSp\",\"Parch\",\"Fare\",\"Pclass_1\",\"Pclass_2\",\"Pclass_3\",\"Embarked_C\",\"Embarked_Q\",\"Embarked_S\",\"Sex_male\"]]\n",
    "y = df_train['Survived']"
   ]
  },
  {
   "cell_type": "code",
   "execution_count": 5,
   "metadata": {
    "collapsed": false,
    "deletable": true,
    "editable": true
   },
   "outputs": [],
   "source": [
    "X_train, X_test, y_train, y_test = train_test_split(X, y, test_size=0.2, random_state=2)"
   ]
  },
  {
   "cell_type": "code",
   "execution_count": 6,
   "metadata": {
    "collapsed": false,
    "deletable": true,
    "editable": true
   },
   "outputs": [],
   "source": [
    "logreg = LogisticRegression()\n",
    "logreg.fit(X_train, y_train)\n",
    "y_pred = logreg.predict(X_test)\n",
    "y_pred_proba = logreg.predict_proba(X_test)[:, 1]\n",
    "[fpr, tpr, thr] = roc_curve(y_test, y_pred_proba)"
   ]
  },
  {
   "cell_type": "code",
   "execution_count": 7,
   "metadata": {
    "collapsed": false,
    "deletable": true,
    "editable": true
   },
   "outputs": [
    {
     "name": "stdout",
     "output_type": "stream",
     "text": [
      "Train/Test split results:\n",
      "LogisticRegression accuracy is 0.811\n",
      "LogisticRegression log_loss is 0.472\n",
      "LogisticRegression auc is 0.830\n"
     ]
    }
   ],
   "source": [
    "print('Train/Test split results:')\n",
    "print(logreg.__class__.__name__+\" accuracy is %2.3f\" % accuracy_score(y_test, y_pred))\n",
    "print(logreg.__class__.__name__+\" log_loss is %2.3f\" % log_loss(y_test, y_pred_proba))\n",
    "print(logreg.__class__.__name__+\" auc is %2.3f\" % auc(fpr, tpr))"
   ]
  },
  {
   "cell_type": "code",
   "execution_count": 8,
   "metadata": {
    "collapsed": false,
    "deletable": true,
    "editable": true
   },
   "outputs": [
    {
     "name": "stdout",
     "output_type": "stream",
     "text": [
      "<<<<<<<< ML MODEL CREATED AND SAVED >>>>>>>>>>>\n",
      "\n",
      "\n"
     ]
    }
   ],
   "source": [
    "from sklearn.externals import joblib\n",
    "saved_model = joblib.dump(logreg, 'my_model.pkl')\n",
    "print(\"<<<<<<<< ML MODEL CREATED AND SAVED >>>>>>>>>>>\\n\\n\")"
   ]
  },
  {
   "cell_type": "code",
   "execution_count": 9,
   "metadata": {
    "collapsed": false,
    "deletable": true,
    "editable": true
   },
   "outputs": [
    {
     "name": "stdout",
     "output_type": "stream",
     "text": [
      "Lets Deploy your model...\n",
      "\n",
      "\n",
      "2018-09-14 07:39:30,389 - watson_machine_learning_client.metanames - WARNING - 'AUTHOR_EMAIL' meta prop is deprecated. It will be ignored.\n",
      "{'entity': {'author': {'name': 'gurvsin3'}, 'learning_iterations_url': 'https://us-south.ml.cloud.ibm.com/v3/wml_instances/5b0ab00a-3bc8-4c6b-9ba2-c6362e633958/published_models/50ac5ed2-fe48-4d0f-938e-82915589931a/learning_iterations', 'deployments': {'url': 'https://us-south.ml.cloud.ibm.com/v3/wml_instances/5b0ab00a-3bc8-4c6b-9ba2-c6362e633958/published_models/50ac5ed2-fe48-4d0f-938e-82915589931a/deployments', 'count': 0}, 'model_type': 'scikit-learn-0.19', 'latest_version': {'guid': 'f4564159-8520-434f-896b-f6bd260a6d7b', 'url': 'https://us-south.ml.cloud.ibm.com/v3/ml_assets/models/50ac5ed2-fe48-4d0f-938e-82915589931a/versions/f4564159-8520-434f-896b-f6bd260a6d7b', 'created_at': '2018-09-14T07:39:30.764Z'}, 'feedback_url': 'https://us-south.ml.cloud.ibm.com/v3/wml_instances/5b0ab00a-3bc8-4c6b-9ba2-c6362e633958/published_models/50ac5ed2-fe48-4d0f-938e-82915589931a/feedback', 'evaluation_metrics_url': 'https://us-south.ml.cloud.ibm.com/v3/wml_instances/5b0ab00a-3bc8-4c6b-9ba2-c6362e633958/published_models/50ac5ed2-fe48-4d0f-938e-82915589931a/evaluation_metrics', 'runtime_environment': 'python-3.5', 'tags': [], 'learning_configuration_url': 'https://us-south.ml.cloud.ibm.com/v3/wml_instances/5b0ab00a-3bc8-4c6b-9ba2-c6362e633958/published_models/50ac5ed2-fe48-4d0f-938e-82915589931a/learning_configuration', 'name': 'model_gurvsin3'}, 'metadata': {'modified_at': '2018-09-14T07:39:30.764Z', 'guid': '50ac5ed2-fe48-4d0f-938e-82915589931a', 'url': 'https://us-south.ml.cloud.ibm.com/v3/wml_instances/5b0ab00a-3bc8-4c6b-9ba2-c6362e633958/published_models/50ac5ed2-fe48-4d0f-938e-82915589931a', 'created_at': '2018-09-14T07:39:30.697Z'}}\n",
      "\n",
      "\n",
      "#######################################################################################\n",
      "\n",
      "Synchronous deployment creation for uid: '50ac5ed2-fe48-4d0f-938e-82915589931a' started\n",
      "\n",
      "#######################################################################################\n",
      "\n",
      "\n",
      "INITIALIZING\n",
      "DEPLOY_SUCCESS\n",
      "\n",
      "\n",
      "------------------------------------------------------------------------------------------------\n",
      "Successfully finished deployment creation, deployment_uid='cc5f9888-1e6b-4ca9-b8e9-62dadd89326d'\n",
      "------------------------------------------------------------------------------------------------\n",
      "\n",
      "\n",
      "RESULTS: >>>  {'username': 'gurvsin3', 'model_uid': '50ac5ed2-fe48-4d0f-938e-82915589931a', 'scoring_url': 'https://us-south.ml.cloud.ibm.com/v3/wml_instances/5b0ab00a-3bc8-4c6b-9ba2-c6362e633958/deployments/cc5f9888-1e6b-4ca9-b8e9-62dadd89326d/online'}\n",
      "\n",
      "\n",
      "wml_credentials: >>  {'password': '2f068d39-881b-421a-b185-6246193aaee2', 'iam_serviceid_crn': 'crn:v1:bluemix:public:iam-identity::a/7081a1b17b89ae7f7c9b01f40e0be431::serviceid:ServiceId-3d715295-c209-4c04-ac02-943d9fd6cbfd', 'username': 'dd250624-9978-4dfa-9a55-8107eca3bc24', 'instance_id': '5b0ab00a-3bc8-4c6b-9ba2-c6362e633958', 'iam_role_crn': 'crn:v1:bluemix:public:iam::::serviceRole:Writer', 'iam_apikey_description': 'Auto generated apikey during resource-key operation for Instance - crn:v1:bluemix:public:pm-20:us-south:a/7081a1b17b89ae7f7c9b01f40e0be431:5b0ab00a-3bc8-4c6b-9ba2-c6362e633958::', 'iam_apikey_name': 'auto-generated-apikey-dd250624-9978-4dfa-9a55-8107eca3bc24', 'apikey': 'bzD4Q2pxSX9Ug15pYGpwtQopmvletsJ5Dpkks5cscaWO', 'url': 'https://us-south.ml.cloud.ibm.com'}\n"
     ]
    }
   ],
   "source": [
    "!python $DSX_PROJECT_DIR/scripts/deploy.py --username \"gurvsin3\" --model_path \"my_model.pkl\""
   ]
  },
  {
   "cell_type": "code",
   "execution_count": null,
   "metadata": {
    "collapsed": true,
    "deletable": true,
    "editable": true
   },
   "outputs": [],
   "source": []
  }
 ],
 "metadata": {
  "kernelspec": {
   "display_name": "Python3.5",
   "language": "python",
   "name": "py3localspark"
  },
  "language_info": {
   "codemirror_mode": {
    "name": "ipython",
    "version": 3
   },
   "file_extension": ".py",
   "mimetype": "text/x-python",
   "name": "python",
   "nbconvert_exporter": "python",
   "pygments_lexer": "ipython3",
   "version": "3.5.2"
  }
 },
 "nbformat": 4,
 "nbformat_minor": 2
}
