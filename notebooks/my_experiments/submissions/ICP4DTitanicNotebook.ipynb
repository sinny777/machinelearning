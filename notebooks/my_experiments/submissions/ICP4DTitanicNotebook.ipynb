{
 "cells": [
  {
   "cell_type": "code",
   "execution_count": null,
   "metadata": {
    "collapsed": false,
    "deletable": true,
    "editable": true
   },
   "outputs": [],
   "source": [
    "import os, pandas as pd\n",
    "df_data_1 = pd.read_csv(os.environ['DSX_PROJECT_DIR']+'/datasets/Titanictrain.csv')\n",
    "df_data_1.head()"
   ]
  },
  {
   "cell_type": "code",
   "execution_count": null,
   "metadata": {
    "collapsed": true,
    "deletable": true,
    "editable": true
   },
   "outputs": [],
   "source": [
    "from sklearn.linear_model import LogisticRegression\n",
    "from sklearn.model_selection import train_test_split\n",
    "from sklearn import preprocessing\n",
    "from sklearn.metrics import confusion_matrix, precision_recall_curve, roc_curve, auc, log_loss\n",
    "from sklearn.metrics import accuracy_score, classification_report, precision_score, recall_score "
   ]
  },
  {
   "cell_type": "code",
   "execution_count": null,
   "metadata": {
    "collapsed": false,
    "deletable": true,
    "editable": true
   },
   "outputs": [],
   "source": [
    "df_train = pd.get_dummies(df_data_1, columns=[\"Pclass\",\"Embarked\",\"Sex\"])\n",
    "df_train.fillna(df_train[\"Age\"].median(skipna=True), inplace=True)\n",
    "df_train.drop('Sex_female', axis=1, inplace=True)\n",
    "df_train.drop('PassengerId', axis=1, inplace=True)\n",
    "df_train.drop('Name', axis=1, inplace=True)\n",
    "df_train.drop('Ticket', axis=1, inplace=True)\n",
    "df_train.drop('Cabin', axis=1, inplace=True)\n",
    "df_train.head()"
   ]
  },
  {
   "cell_type": "code",
   "execution_count": null,
   "metadata": {
    "collapsed": false,
    "deletable": true,
    "editable": true
   },
   "outputs": [],
   "source": [
    "X = df_train[[\"Age\",\"SibSp\",\"Parch\",\"Fare\",\"Pclass_1\",\"Pclass_2\",\"Pclass_3\",\"Embarked_C\",\"Embarked_Q\",\"Embarked_S\",\"Sex_male\"]]\n",
    "# y = df_train['Survived'].values.tolist()\n",
    "y = pd.DataFrame(df_train['Survived'])"
   ]
  },
  {
   "cell_type": "code",
   "execution_count": null,
   "metadata": {
    "collapsed": false,
    "deletable": true,
    "editable": true
   },
   "outputs": [],
   "source": [
    "X_train, X_test, y_train, y_test = train_test_split(X, y, test_size=0.2, random_state=2)"
   ]
  },
  {
   "cell_type": "code",
   "execution_count": null,
   "metadata": {
    "collapsed": false,
    "deletable": true,
    "editable": true
   },
   "outputs": [],
   "source": [
    "logreg = LogisticRegression()\n",
    "logreg.fit(X_train, y_train)\n",
    "y_pred = logreg.predict(X_test)\n",
    "y_pred_proba = logreg.predict_proba(X_test)[:, 1]\n",
    "[fpr, tpr, thr] = roc_curve(y_test, y_pred_proba)"
   ]
  },
  {
   "cell_type": "code",
   "execution_count": null,
   "metadata": {
    "collapsed": false,
    "deletable": true,
    "editable": true
   },
   "outputs": [],
   "source": [
    "print('Train/Test split results:')\n",
    "print(logreg.__class__.__name__+\" accuracy is %2.3f\" % accuracy_score(y_test, y_pred))\n",
    "print(logreg.__class__.__name__+\" log_loss is %2.3f\" % log_loss(y_test, y_pred_proba))\n",
    "print(logreg.__class__.__name__+\" auc is %2.3f\" % auc(fpr, tpr))"
   ]
  },
  {
   "cell_type": "code",
   "execution_count": null,
   "metadata": {
    "collapsed": false,
    "deletable": true,
    "editable": true
   },
   "outputs": [],
   "source": [
    "from dsx_ml.ml import save\n",
    "save_model_resp = save(name='GurvinderScikitRegression', \n",
    "     model=logreg, \n",
    "     algorithm_type = 'Regression', \n",
    "     x_test=X_test,\n",
    "     y_test=y_test,\n",
    "     source='GurvinderTitanicNotebook-Copy1.ipynb',\n",
    "     description='This is my first model for Titanic')\n",
    "print(save_model_resp)"
   ]
  },
  {
   "cell_type": "markdown",
   "metadata": {
    "deletable": true,
    "editable": true
   },
   "source": [
    "## Test Local Saved Model"
   ]
  },
  {
   "cell_type": "code",
   "execution_count": null,
   "metadata": {
    "collapsed": false,
    "deletable": true,
    "editable": true
   },
   "outputs": [],
   "source": [
    "from sklearn.externals import joblib\n",
    "\n",
    "df_test = pd.read_csv(os.environ['DSX_PROJECT_DIR']+'/datasets/Titanictrain -- Blinddataset.csv')\n",
    "df_test = pd.get_dummies(df_test, columns=[\"Pclass\",\"Embarked\",\"Sex\"])\n",
    "df_test.fillna(df_train[\"Age\"].median(skipna=True), inplace=True)\n",
    "df_test.drop('Sex_female', axis=1, inplace=True)\n",
    "df_test.drop('PassengerId', axis=1, inplace=True)\n",
    "df_test.drop('Name', axis=1, inplace=True)\n",
    "df_test.drop('Ticket', axis=1, inplace=True)\n",
    "df_test.drop('Cabin', axis=1, inplace=True)\n",
    "df_test.head()\n",
    "X_test = df_test[[\"Age\",\"SibSp\",\"Parch\",\"Fare\",\"Pclass_1\",\"Pclass_2\",\"Pclass_3\",\"Embarked_C\",\"Embarked_Q\",\"Embarked_S\",\"Sex_male\"]]\n",
    "\n",
    "model_path = os.getenv(\"DSX_PROJECT_DIR\") + \"/models/GurvinderScikitRegression/4/model\"\n",
    "\n",
    "# load the model from disk\n",
    "loaded_model = joblib.load(open(model_path, 'rb'))\n",
    "\n",
    "# predictions\n",
    "scoring_result = loaded_model.predict(X_test)\n",
    "\n",
    "df_results = df_test.join(pd.DataFrame({'prediction': scoring_result}))\n",
    "print(df_results.head())\n",
    "df_results.to_csv(os.environ['DSX_PROJECT_DIR']+'/datasets/gurvsin3_test_results.csv', index=False)"
   ]
  },
  {
   "cell_type": "markdown",
   "metadata": {
    "deletable": true,
    "editable": true
   },
   "source": [
    "# Test Using Scoring Endpoint"
   ]
  },
  {
   "cell_type": "code",
   "execution_count": null,
   "metadata": {
    "collapsed": false,
    "deletable": true,
    "editable": true
   },
   "outputs": [],
   "source": [
    "import requests, json, os\n",
    "import numpy as np\n",
    "\n",
    "X_json = X_test.to_json(orient='records')\n",
    "# json_payload = {'values': X.values.tolist()}  \n",
    "# json_payload = {'values': X_json}\n",
    "     \n",
    "to_predict_arr = np.asarray(X_test)\n",
    "json_payload = {'values': to_predict_arr.tolist()}\n",
    "\n",
    "header_online = {'Content-Type': 'application/json', 'Authorization':os.environ['DSX_TOKEN']}\n",
    "response_scoring = requests.post(save_model_resp[\"scoring_endpoint\"], json=json_payload, headers=header_online)\n",
    "print(response_scoring)\n",
    "print(\"\\n\\n******************\\n\\n\")\n",
    "print(response_scoring.content)\n",
    "print(\"\\n\\n******************\\n\\n\")\n",
    "resp = response_scoring.json()\n",
    "print(resp)\n",
    "     "
   ]
  },
  {
   "cell_type": "code",
   "execution_count": null,
   "metadata": {
    "collapsed": false,
    "deletable": true,
    "editable": true
   },
   "outputs": [],
   "source": [
    "\n",
    "import dsx_core_utils, requests, jaydebeapi, os, io, sys\n",
    "from pyspark.sql import SparkSession\n",
    "import pandas as pd\n",
    "df1 = None\n",
    "dataSet = dsx_core_utils.get_remote_data_set_info('submissions')\n",
    "dataSource = dsx_core_utils.get_data_source_info(dataSet['datasource'])\n",
    "table_name = (dataSet['schema'] + '.' if (len(dataSet['schema'].strip()) != 0) else '') + dataSet['table']\n",
    "if (sys.version_info >= (3, 0)):\n",
    "\tconn = jaydebeapi.connect(dataSource['driver_class'], dataSource['URL'], [dataSource['user'], dataSource['password']])\n",
    "else:\n",
    "\tconn = jaydebeapi.connect(dataSource['driver_class'], [dataSource['URL'], dataSource['user'], dataSource['password']])\n",
    "query = 'select * from ' + table_name\n",
    "df1 = pd.read_sql(query, con=conn)\n",
    "df1.head()\n",
    "\n"
   ]
  },
  {
   "cell_type": "code",
   "execution_count": null,
   "metadata": {
    "collapsed": false,
    "deletable": true,
    "editable": true
   },
   "outputs": [],
   "source": [
    "!python $DSX_PROJECT_DIR/scripts/submission.py --username gurvsin3"
   ]
  }
 ],
 "metadata": {
  "kernelspec": {
   "display_name": "Python3.5",
   "language": "python",
   "name": "py3localspark"
  },
  "language_info": {
   "codemirror_mode": {
    "name": "ipython",
    "version": 3
   },
   "file_extension": ".py",
   "mimetype": "text/x-python",
   "name": "python",
   "nbconvert_exporter": "python",
   "pygments_lexer": "ipython3",
   "version": "3.5.2"
  }
 },
 "nbformat": 4,
 "nbformat_minor": 2
}
