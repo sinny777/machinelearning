{
 "cells": [
  {
   "cell_type": "markdown",
   "metadata": {},
   "source": [
    "# Natural Language Classification"
   ]
  },
  {
   "cell_type": "code",
   "execution_count": 1,
   "metadata": {},
   "outputs": [
    {
     "name": "stderr",
     "output_type": "stream",
     "text": [
      "/anaconda3/lib/python3.6/importlib/_bootstrap.py:219: RuntimeWarning: numpy.dtype size changed, may indicate binary incompatibility. Expected 96, got 88\n",
      "  return f(*args, **kwds)\n",
      "/anaconda3/lib/python3.6/importlib/_bootstrap.py:219: RuntimeWarning: numpy.dtype size changed, may indicate binary incompatibility. Expected 96, got 88\n",
      "  return f(*args, **kwds)\n",
      "/anaconda3/lib/python3.6/importlib/_bootstrap.py:219: RuntimeWarning: numpy.dtype size changed, may indicate binary incompatibility. Expected 96, got 88\n",
      "  return f(*args, **kwds)\n"
     ]
    }
   ],
   "source": [
    "import pandas as pd\n",
    "import numpy as np\n",
    "import random\n",
    "import re\n",
    "import json\n",
    "\n",
    "import os.path\n",
    "from os import path\n",
    "import matplotlib.pyplot as plt"
   ]
  },
  {
   "cell_type": "code",
   "execution_count": 2,
   "metadata": {},
   "outputs": [
    {
     "name": "stdout",
     "output_type": "stream",
     "text": [
      "{'DATA_DIR': 'data/', 'RESULT_DIR': 'results/', 'DATA_FILE_PATH': 'data/InsuranceAgentIntents.csv', 'MODEL_PATH': 'results/model/my_nlc_model.h5'}\n"
     ]
    }
   ],
   "source": [
    "MODEL_CONFIG = {\n",
    "                  \"model_name\": \"my_nlc_model.h5\",\n",
    "                  \"model_weights\": \"my_nlc_model.hdf5\",\n",
    "                  \"log_dir\": \"tensorboard_logs\",\n",
    "                  \"max_features\": 500,\n",
    "                  \"maxlen\": 50,\n",
    "                  \"epochs\": 200,\n",
    "                  \"batch_size\": 32,\n",
    "                  \"activation\": \"softmax\",\n",
    "                  \"loss\": \"binary_crossentropy\",\n",
    "                  \"optimizer\": \"adam\",\n",
    "                  \"metrics\": [\"accuracy\"],\n",
    "                  \"patience\": 20\n",
    "                }\n",
    "\n",
    "CONFIG = {\n",
    "            \"DATA_DIR\": 'data/',\n",
    "            \"RESULT_DIR\": 'results/',\n",
    "            \"DATA_FILE_PATH\": 'data/InsuranceAgentIntents.csv',\n",
    "            \"MODEL_PATH\": 'results/model/'+MODEL_CONFIG['model_name']\n",
    "         }\n",
    "\n",
    "print(CONFIG)"
   ]
  },
  {
   "cell_type": "code",
   "execution_count": 3,
   "metadata": {},
   "outputs": [
    {
     "data": {
      "text/html": [
       "<div>\n",
       "<table border=\"1\" class=\"dataframe\">\n",
       "  <thead>\n",
       "    <tr style=\"text-align: right;\">\n",
       "      <th></th>\n",
       "      <th>utterances</th>\n",
       "      <th>intent</th>\n",
       "    </tr>\n",
       "  </thead>\n",
       "  <tbody>\n",
       "    <tr>\n",
       "      <th>0</th>\n",
       "      <td>tes</td>\n",
       "      <td>AFFIRM</td>\n",
       "    </tr>\n",
       "    <tr>\n",
       "      <th>1</th>\n",
       "      <td>Yes that's right</td>\n",
       "      <td>AFFIRM</td>\n",
       "    </tr>\n",
       "    <tr>\n",
       "      <th>2</th>\n",
       "      <td>Yes</td>\n",
       "      <td>AFFIRM</td>\n",
       "    </tr>\n",
       "    <tr>\n",
       "      <th>3</th>\n",
       "      <td>ye</td>\n",
       "      <td>AFFIRM</td>\n",
       "    </tr>\n",
       "    <tr>\n",
       "      <th>4</th>\n",
       "      <td>sure</td>\n",
       "      <td>AFFIRM</td>\n",
       "    </tr>\n",
       "  </tbody>\n",
       "</table>\n",
       "</div>"
      ],
      "text/plain": [
       "         utterances  intent\n",
       "0               tes  AFFIRM\n",
       "1  Yes that's right  AFFIRM\n",
       "2               Yes  AFFIRM\n",
       "3                ye  AFFIRM\n",
       "4              sure  AFFIRM"
      ]
     },
     "execution_count": 3,
     "metadata": {},
     "output_type": "execute_result"
    }
   ],
   "source": [
    "# LOAD DATA\n",
    "df = pd.read_csv(CONFIG['DATA_FILE_PATH'], sep=',')\n",
    "df.head()"
   ]
  },
  {
   "cell_type": "markdown",
   "metadata": {},
   "source": [
    "## Check the Quality of data for training"
   ]
  },
  {
   "cell_type": "code",
   "execution_count": 4,
   "metadata": {},
   "outputs": [
    {
     "data": {
      "image/png": "[encoded data removed]",
      "text/plain": [
       "<Figure size 1440x720 with 1 Axes>"
      ]
     },
     "metadata": {},
     "output_type": "display_data"
    }
   ],
   "source": [
    "# df_quality_counts.plot()\n",
    "# print(df_quality_counts.keys())\n",
    "# print(df_quality_counts.values)\n",
    "# df_quality_counts = df['intent'].value_counts().to_frame()\n",
    "# df_quality_counts.rename(columns={'intent': 'value_counts'}, inplace=True)\n",
    "# df_quality_counts.index.name = 'intent'\n",
    "# print(df_quality_counts)\n",
    "# print(df_quality_counts[\"value_counts\"].unique())\n",
    "\n",
    "# df_quality_counts = df['intent'].value_counts()\n",
    "# df_quality_counts\n",
    "df_quality_counts = df['intent'].value_counts().head(10)\n",
    "plt.figure(figsize=(20,10))\n",
    "plt.title(\"Data Quality\")\n",
    "# plt.ylim()\n",
    "plt.xlabel(\"Intents\")\n",
    "plt.xticks(rotation=60)\n",
    "plt.ylabel(\"Count\")\n",
    "plt.bar(df_quality_counts.keys(), df_quality_counts.values)\n",
    "plt.show()  "
   ]
  },
  {
   "cell_type": "code",
   "execution_count": 5,
   "metadata": {},
   "outputs": [],
   "source": [
    "X_train = df['utterances']\n",
    "Y_train = df['intent']\n",
    "X_test = pd.Series([\"turn on the living room tubelight\", \"how is the weather in Bangalore\"])\n",
    "Y_test = pd.Series([\"turn_on\", \"weather\"])"
   ]
  },
  {
   "cell_type": "markdown",
   "metadata": {},
   "source": [
    "## Using Scikit Learn for Classification"
   ]
  },
  {
   "cell_type": "code",
   "execution_count": 6,
   "metadata": {},
   "outputs": [
    {
     "name": "stdout",
     "output_type": "stream",
     "text": [
      "(198, 253)\n",
      "(198, 253)\n"
     ]
    }
   ],
   "source": [
    "from sklearn.feature_extraction.text import CountVectorizer\n",
    "from sklearn.feature_extraction.text import TfidfTransformer\n",
    "\n",
    "count_vect = CountVectorizer()\n",
    "X_train_counts = count_vect.fit_transform(X_train)\n",
    "print(X_train_counts.shape)\n",
    "tfidf_transformer = TfidfTransformer()\n",
    "X_train_tfidf = tfidf_transformer.fit_transform(X_train_counts)\n",
    "print(X_train_tfidf.shape)"
   ]
  },
  {
   "cell_type": "code",
   "execution_count": 7,
   "metadata": {},
   "outputs": [
    {
     "name": "stdout",
     "output_type": "stream",
     "text": [
      "\n",
      "\n",
      "Prediction using MultinomialNB: >>  ['appliance_action' 'weather']\n"
     ]
    }
   ],
   "source": [
    "from sklearn.naive_bayes import MultinomialNB\n",
    "clf = MultinomialNB().fit(X_train_tfidf, Y_train)\n",
    "print(\"\\n\\nPrediction using MultinomialNB: >> \", clf.predict(count_vect.transform(X_test)))"
   ]
  },
  {
   "cell_type": "markdown",
   "metadata": {},
   "source": [
    "## Using Tensorflow and Keras for Classification"
   ]
  },
  {
   "cell_type": "code",
   "execution_count": 8,
   "metadata": {},
   "outputs": [
    {
     "name": "stderr",
     "output_type": "stream",
     "text": [
      "Using TensorFlow backend.\n"
     ]
    }
   ],
   "source": [
    "import tensorflow as tf\n",
    "import keras\n",
    "from sklearn.model_selection import train_test_split\n",
    "from keras.models import Sequential\n",
    "from keras.layers import Dense, Input, concatenate, Activation\n",
    "from keras.callbacks import EarlyStopping, ModelCheckpoint\n",
    "from keras.layers import Dense, Embedding, LSTM, SpatialDropout1D\n",
    "from keras.layers.convolutional import Conv1D, MaxPooling1D\n",
    "from keras.layers.embeddings import Embedding\n",
    "# from tf.keras.layers.pooling import GlobalMaxPooling1D, MaxPooling1D\n",
    "# from tf.keras.layers.core import Dropout\n",
    "from keras import backend as K\n",
    "from keras.models import load_model\n",
    "\n",
    "from keras.preprocessing.text import Tokenizer\n",
    "from keras.preprocessing.sequence import pad_sequences"
   ]
  },
  {
   "cell_type": "code",
   "execution_count": 9,
   "metadata": {},
   "outputs": [],
   "source": [
    "class DataSet(object):\n",
    "    def __init__(self, utterances, intents):\n",
    "        self._utterances = utterances\n",
    "        self._intents = intents\n",
    "\n",
    "    @property\n",
    "    def utterances(self):\n",
    "        return self._utterances\n",
    "\n",
    "    @property\n",
    "    def intents(self):\n",
    "        return self._intents"
   ]
  },
  {
   "cell_type": "code",
   "execution_count": 10,
   "metadata": {},
   "outputs": [],
   "source": [
    "!mkdir results\n",
    "!mkdir results/model"
   ]
  },
  {
   "cell_type": "code",
   "execution_count": 11,
   "metadata": {},
   "outputs": [],
   "source": [
    "def get_tokenizer():\n",
    "        tokenizer = Tokenizer(num_words=MODEL_CONFIG[\"max_features\"], split=' ')\n",
    "        tokenizer.fit_on_texts(df[\"utterances\"].values)\n",
    "        return tokenizer"
   ]
  },
  {
   "cell_type": "code",
   "execution_count": 12,
   "metadata": {},
   "outputs": [],
   "source": [
    "def get_training_data():\n",
    "        documents = []\n",
    "        X = get_tokenizer().texts_to_sequences(df[\"utterances\"].values)\n",
    "        X = pad_sequences(X, maxlen=MODEL_CONFIG[\"maxlen\"])\n",
    "        intents = df[\"intent\"].unique()\n",
    "        intents = sorted(list(set(intents)))\n",
    "        output_empty = [0] * len(intents)\n",
    "        Y = []\n",
    "        for i in range( 0, len(X)):\n",
    "            output_row = list(output_empty)\n",
    "            intent = df[\"intent\"][i]\n",
    "            output_row[intents.index(intent)] = 1\n",
    "            Y.append(output_row)\n",
    "\n",
    "        print(\"Length of X: >> \", len(X))\n",
    "        print(\"Length of Y: >> \", len(Y))\n",
    "        return X, Y"
   ]
  },
  {
   "cell_type": "code",
   "execution_count": 13,
   "metadata": {},
   "outputs": [],
   "source": [
    "class DataSets(object):\n",
    "            pass\n",
    "datasets = DataSets()\n",
    "def prepare_data():\n",
    "        X, Y = get_training_data()\n",
    "        print(\"Training Data Length: \", len(X))\n",
    "        print(\"Training Data Target Length: \", len(Y))\n",
    "        X_train, X_test, Y_train, Y_test = train_test_split(X, Y, test_size = 0.10, random_state = 42)\n",
    "        datasets.train = DataSet(X_train, Y_train)\n",
    "        datasets.test = DataSet(X_test, Y_test)"
   ]
  },
  {
   "cell_type": "code",
   "execution_count": 14,
   "metadata": {},
   "outputs": [],
   "source": [
    "def create_model():\n",
    "        K.clear_session()\n",
    "        tf.reset_default_graph()\n",
    "        init_g = tf.global_variables_initializer()\n",
    "        init_l = tf.local_variables_initializer()\n",
    "        with tf.Session() as sess:\n",
    "          sess.run(init_g)\n",
    "          sess.run(init_l)\n",
    "          # Create the network definition based on Gated Recurrent Unit (Cho et al. 2014).\n",
    "          embedding_vector_length = 32\n",
    "\n",
    "          model = Sequential()\n",
    "          model.add(Embedding(MODEL_CONFIG[\"max_features\"], embedding_vector_length, input_length=MODEL_CONFIG[\"maxlen\"]))\n",
    "          model.add(Conv1D(filters=32, kernel_size=3, padding='same', activation='relu'))\n",
    "          model.add(MaxPooling1D(pool_size=2))\n",
    "          model.add(LSTM(100))\n",
    "          model.add(Dense(len(datasets.train.intents[0]), activation=MODEL_CONFIG[\"activation\"]))\n",
    "          model.compile(loss=MODEL_CONFIG[\"loss\"], optimizer=MODEL_CONFIG[\"optimizer\"], metrics=MODEL_CONFIG[\"metrics\"])\n",
    "          print(model.summary())\n",
    "\n",
    "          tbCallBack = tf.keras.callbacks.TensorBoard(log_dir=CONFIG[\"RESULT_DIR\"]+MODEL_CONFIG[\"log_dir\"], write_graph=True)\n",
    "\n",
    "          monitor = EarlyStopping(monitor='val_loss', min_delta=1e-3, patience=MODEL_CONFIG[\"patience\"], verbose=0, mode='auto')\n",
    "          # checkpointer = ModelCheckpoint(filepath=self.CONFIG[\"MODEL_WEIGHTS_PATH\"], verbose=0, save_best_only=True) # Save best model\n",
    "          model.fit(np.asarray(datasets.train.utterances), np.asarray(datasets.train.intents), epochs=MODEL_CONFIG[\"epochs\"], batch_size=MODEL_CONFIG[\"batch_size\"],  verbose=1, validation_split=0.02, callbacks=[tbCallBack, monitor])\n",
    "          # model.load_weights(self.CONFIG[\"MODEL_WEIGHTS_PATH\"]) # load weights from best model\n",
    "          scores = model.evaluate(np.asarray(datasets.test.utterances), np.asarray(datasets.test.intents))\n",
    "          print(\"\\n%s: %.2f%%\" % (model.metrics_names[1], scores[1]*100))\n",
    "          model.save(CONFIG[\"MODEL_PATH\"])\n",
    "          print(\"<<<<<<<< ML MODEL CREATED AND SAVED LOCALLY AT: \", CONFIG[\"MODEL_PATH\"])\n",
    "          word_index_file = os.path.join(CONFIG[\"DATA_DIR\"], 'word_index.json')\n",
    "          with open(word_index_file, 'w') as outfile:\n",
    "               json.dump(get_tokenizer().word_index, outfile)                \n",
    "          print(\"word_index.json file uploaded successfully....\")"
   ]
  },
  {
   "cell_type": "code",
   "execution_count": 15,
   "metadata": {},
   "outputs": [
    {
     "name": "stdout",
     "output_type": "stream",
     "text": [
      "Length of X: >>  198\n",
      "Length of Y: >>  198\n",
      "Training Data Length:  198\n",
      "Training Data Target Length:  198\n",
      "WARNING:tensorflow:From /anaconda3/lib/python3.6/site-packages/keras/backend/tensorflow_backend.py:1247: calling reduce_sum (from tensorflow.python.ops.math_ops) with keep_dims is deprecated and will be removed in a future version.\n",
      "Instructions for updating:\n",
      "keep_dims is deprecated, use keepdims instead\n",
      "WARNING:tensorflow:From /anaconda3/lib/python3.6/site-packages/keras/backend/tensorflow_backend.py:1349: calling reduce_mean (from tensorflow.python.ops.math_ops) with keep_dims is deprecated and will be removed in a future version.\n",
      "Instructions for updating:\n",
      "keep_dims is deprecated, use keepdims instead\n",
      "_________________________________________________________________\n",
      "Layer (type)                 Output Shape              Param #   \n",
      "=================================================================\n",
      "embedding_1 (Embedding)      (None, 50, 32)            16000     \n",
      "_________________________________________________________________\n",
      "conv1d_1 (Conv1D)            (None, 50, 32)            3104      \n",
      "_________________________________________________________________\n",
      "max_pooling1d_1 (MaxPooling1 (None, 25, 32)            0         \n",
      "_________________________________________________________________\n",
      "lstm_1 (LSTM)                (None, 100)               53200     \n",
      "_________________________________________________________________\n",
      "dense_1 (Dense)              (None, 12)                1212      \n",
      "=================================================================\n",
      "Total params: 73,516\n",
      "Trainable params: 73,516\n",
      "Non-trainable params: 0\n",
      "_________________________________________________________________\n",
      "None\n",
      "Train on 174 samples, validate on 4 samples\n",
      "Epoch 1/200\n",
      "174/174 [==============================] - 2s 9ms/step - loss: 0.2862 - acc: 0.9167 - val_loss: 0.2863 - val_acc: 0.9167\n",
      "Epoch 2/200\n",
      "174/174 [==============================] - 0s 2ms/step - loss: 0.2831 - acc: 0.9167 - val_loss: 0.2863 - val_acc: 0.9167\n",
      "Epoch 3/200\n",
      "174/174 [==============================] - 0s 2ms/step - loss: 0.2763 - acc: 0.9167 - val_loss: 0.3023 - val_acc: 0.9167\n",
      "Epoch 4/200\n",
      "174/174 [==============================] - 0s 2ms/step - loss: 0.2749 - acc: 0.9167 - val_loss: 0.2861 - val_acc: 0.9167\n",
      "Epoch 5/200\n",
      "174/174 [==============================] - 0s 2ms/step - loss: 0.2723 - acc: 0.9167 - val_loss: 0.2851 - val_acc: 0.9167\n",
      "Epoch 6/200\n",
      "174/174 [==============================] - 0s 3ms/step - loss: 0.2709 - acc: 0.9167 - val_loss: 0.2824 - val_acc: 0.9167\n",
      "Epoch 7/200\n",
      "174/174 [==============================] - 0s 2ms/step - loss: 0.2699 - acc: 0.9167 - val_loss: 0.2753 - val_acc: 0.9167\n",
      "Epoch 8/200\n",
      "174/174 [==============================] - 0s 2ms/step - loss: 0.2684 - acc: 0.9167 - val_loss: 0.2756 - val_acc: 0.9167\n",
      "Epoch 9/200\n",
      "174/174 [==============================] - 0s 2ms/step - loss: 0.2661 - acc: 0.9167 - val_loss: 0.2798 - val_acc: 0.9167\n",
      "Epoch 10/200\n",
      "174/174 [==============================] - 0s 2ms/step - loss: 0.2633 - acc: 0.9167 - val_loss: 0.2777 - val_acc: 0.9167\n",
      "Epoch 11/200\n",
      "174/174 [==============================] - 0s 2ms/step - loss: 0.2580 - acc: 0.9167 - val_loss: 0.2711 - val_acc: 0.9167\n",
      "Epoch 12/200\n",
      "174/174 [==============================] - 0s 2ms/step - loss: 0.2503 - acc: 0.9167 - val_loss: 0.2745 - val_acc: 0.9167\n",
      "Epoch 13/200\n",
      "174/174 [==============================] - 0s 2ms/step - loss: 0.2410 - acc: 0.9167 - val_loss: 0.2703 - val_acc: 0.9167\n",
      "Epoch 14/200\n",
      "174/174 [==============================] - 0s 2ms/step - loss: 0.2296 - acc: 0.9205 - val_loss: 0.2644 - val_acc: 0.9167\n",
      "Epoch 15/200\n",
      "174/174 [==============================] - 0s 2ms/step - loss: 0.2199 - acc: 0.9181 - val_loss: 0.2619 - val_acc: 0.9167\n",
      "Epoch 16/200\n",
      "174/174 [==============================] - 0s 2ms/step - loss: 0.2075 - acc: 0.9210 - val_loss: 0.2708 - val_acc: 0.9167\n",
      "Epoch 17/200\n",
      "174/174 [==============================] - 0s 2ms/step - loss: 0.1949 - acc: 0.9224 - val_loss: 0.2640 - val_acc: 0.9167\n",
      "Epoch 18/200\n",
      "174/174 [==============================] - 0s 2ms/step - loss: 0.1807 - acc: 0.9286 - val_loss: 0.2536 - val_acc: 0.9167\n",
      "Epoch 19/200\n",
      "174/174 [==============================] - 0s 2ms/step - loss: 0.1687 - acc: 0.9373 - val_loss: 0.2526 - val_acc: 0.9167\n",
      "Epoch 20/200\n",
      "174/174 [==============================] - 0s 1ms/step - loss: 0.1533 - acc: 0.9420 - val_loss: 0.2580 - val_acc: 0.9167\n",
      "Epoch 21/200\n",
      "174/174 [==============================] - 0s 1ms/step - loss: 0.1384 - acc: 0.9526 - val_loss: 0.2401 - val_acc: 0.9167\n",
      "Epoch 22/200\n",
      "174/174 [==============================] - 0s 2ms/step - loss: 0.1257 - acc: 0.9626 - val_loss: 0.2383 - val_acc: 0.9375\n",
      "Epoch 23/200\n",
      "174/174 [==============================] - 0s 1ms/step - loss: 0.1088 - acc: 0.9674 - val_loss: 0.2202 - val_acc: 0.9167\n",
      "Epoch 24/200\n",
      "174/174 [==============================] - 0s 1ms/step - loss: 0.0935 - acc: 0.9761 - val_loss: 0.2496 - val_acc: 0.8958\n",
      "Epoch 25/200\n",
      "174/174 [==============================] - 0s 1ms/step - loss: 0.0795 - acc: 0.9789 - val_loss: 0.2271 - val_acc: 0.9167\n",
      "Epoch 26/200\n",
      "174/174 [==============================] - 0s 2ms/step - loss: 0.0677 - acc: 0.9808 - val_loss: 0.2657 - val_acc: 0.8750\n",
      "Epoch 27/200\n",
      "174/174 [==============================] - 0s 2ms/step - loss: 0.0573 - acc: 0.9832 - val_loss: 0.2384 - val_acc: 0.8750\n",
      "Epoch 28/200\n",
      "174/174 [==============================] - 0s 2ms/step - loss: 0.0487 - acc: 0.9861 - val_loss: 0.2547 - val_acc: 0.8750\n",
      "Epoch 29/200\n",
      "174/174 [==============================] - 0s 2ms/step - loss: 0.0427 - acc: 0.9866 - val_loss: 0.2308 - val_acc: 0.8958\n",
      "Epoch 30/200\n",
      "174/174 [==============================] - 0s 2ms/step - loss: 0.0383 - acc: 0.9885 - val_loss: 0.2682 - val_acc: 0.8750\n",
      "Epoch 31/200\n",
      "174/174 [==============================] - 0s 2ms/step - loss: 0.0333 - acc: 0.9890 - val_loss: 0.2635 - val_acc: 0.8750\n",
      "Epoch 32/200\n",
      "174/174 [==============================] - 0s 2ms/step - loss: 0.0295 - acc: 0.9928 - val_loss: 0.2085 - val_acc: 0.9167\n",
      "Epoch 33/200\n",
      "174/174 [==============================] - 0s 2ms/step - loss: 0.0258 - acc: 0.9933 - val_loss: 0.2618 - val_acc: 0.8750\n",
      "Epoch 34/200\n",
      "174/174 [==============================] - 0s 2ms/step - loss: 0.0233 - acc: 0.9943 - val_loss: 0.2362 - val_acc: 0.8958\n",
      "Epoch 35/200\n",
      "174/174 [==============================] - 0s 1ms/step - loss: 0.0199 - acc: 0.9947 - val_loss: 0.2179 - val_acc: 0.9167\n",
      "Epoch 36/200\n",
      "174/174 [==============================] - 0s 2ms/step - loss: 0.0189 - acc: 0.9957 - val_loss: 0.2335 - val_acc: 0.8958\n",
      "Epoch 37/200\n",
      "174/174 [==============================] - 0s 2ms/step - loss: 0.0166 - acc: 0.9957 - val_loss: 0.2490 - val_acc: 0.9167\n",
      "Epoch 38/200\n",
      "174/174 [==============================] - 0s 2ms/step - loss: 0.0147 - acc: 0.9957 - val_loss: 0.2370 - val_acc: 0.9167\n",
      "Epoch 39/200\n",
      "174/174 [==============================] - 0s 1ms/step - loss: 0.0132 - acc: 0.9962 - val_loss: 0.2246 - val_acc: 0.9375\n",
      "Epoch 40/200\n",
      "174/174 [==============================] - 0s 1ms/step - loss: 0.0122 - acc: 0.9976 - val_loss: 0.2304 - val_acc: 0.9167\n",
      "Epoch 41/200\n",
      "174/174 [==============================] - 0s 1ms/step - loss: 0.0108 - acc: 0.9976 - val_loss: 0.2412 - val_acc: 0.9167\n",
      "Epoch 42/200\n",
      "174/174 [==============================] - 0s 1ms/step - loss: 0.0099 - acc: 0.9986 - val_loss: 0.2270 - val_acc: 0.9167\n",
      "Epoch 43/200\n",
      "174/174 [==============================] - 0s 1ms/step - loss: 0.0100 - acc: 0.9981 - val_loss: 0.2240 - val_acc: 0.9375\n",
      "Epoch 44/200\n",
      "174/174 [==============================] - 0s 1ms/step - loss: 0.0097 - acc: 0.9981 - val_loss: 0.2636 - val_acc: 0.9167\n",
      "Epoch 45/200\n",
      "174/174 [==============================] - 0s 1ms/step - loss: 0.0090 - acc: 0.9971 - val_loss: 0.2588 - val_acc: 0.9167\n",
      "Epoch 46/200\n",
      "174/174 [==============================] - 0s 1ms/step - loss: 0.0078 - acc: 0.9976 - val_loss: 0.2359 - val_acc: 0.9167\n",
      "Epoch 47/200\n",
      "174/174 [==============================] - 0s 1ms/step - loss: 0.0073 - acc: 0.9981 - val_loss: 0.2348 - val_acc: 0.9167\n",
      "Epoch 48/200\n",
      "174/174 [==============================] - 0s 1ms/step - loss: 0.0077 - acc: 0.9981 - val_loss: 0.2593 - val_acc: 0.9167\n",
      "Epoch 49/200\n"
     ]
    },
    {
     "name": "stdout",
     "output_type": "stream",
     "text": [
      "174/174 [==============================] - 0s 1ms/step - loss: 0.0064 - acc: 0.9986 - val_loss: 0.2601 - val_acc: 0.9167\n",
      "Epoch 50/200\n",
      "174/174 [==============================] - 0s 1ms/step - loss: 0.0068 - acc: 0.9981 - val_loss: 0.2526 - val_acc: 0.9167\n",
      "Epoch 51/200\n",
      "174/174 [==============================] - 0s 2ms/step - loss: 0.0058 - acc: 0.9976 - val_loss: 0.2451 - val_acc: 0.9167\n",
      "Epoch 52/200\n",
      "174/174 [==============================] - 0s 1ms/step - loss: 0.0060 - acc: 0.9981 - val_loss: 0.2486 - val_acc: 0.9167\n",
      "20/20 [==============================] - 0s 313us/step\n",
      "\n",
      "acc: 95.83%\n",
      "<<<<<<<< ML MODEL CREATED AND SAVED LOCALLY AT:  results/model/my_nlc_model.h5\n",
      "word_index.json file uploaded successfully....\n"
     ]
    }
   ],
   "source": [
    "prepare_data()\n",
    "create_model()"
   ]
  },
  {
   "cell_type": "code",
   "execution_count": 16,
   "metadata": {},
   "outputs": [],
   "source": [
    "def convert_to_predict(texts):\n",
    "        preprocessed_records = []\n",
    "        for text in texts:\n",
    "            cleanString = re.sub(r\"[!\\\"#$%&()*+,-./:;<=>?@[\\]^_`{|}~]\", \"\", text)\n",
    "            splitted_text = cleanString.split()[:MODEL_CONFIG[\"maxlen\"]]\n",
    "            hashed_tokens = []\n",
    "            for token in splitted_text:\n",
    "                index = get_tokenizer().word_index.get(token, 0)\n",
    "                # index = scoring_params[\"word_index\"].get(token, 0)\n",
    "                if index < 501 and index > 0:\n",
    "                    hashed_tokens.append(index)\n",
    "\n",
    "            hashed_tokens_size = len(hashed_tokens)\n",
    "            padded_tokens = [0]*(MODEL_CONFIG[\"maxlen\"] - hashed_tokens_size) + hashed_tokens\n",
    "            preprocessed_records.append(padded_tokens)\n",
    "        return preprocessed_records"
   ]
  },
  {
   "cell_type": "code",
   "execution_count": 23,
   "metadata": {},
   "outputs": [],
   "source": [
    "def get_intents():\n",
    "        intents = df[\"intent\"].unique()\n",
    "        intents = sorted(list(set(intents)))\n",
    "        return intents"
   ]
  },
  {
   "cell_type": "code",
   "execution_count": 35,
   "metadata": {},
   "outputs": [],
   "source": [
    "def get_results(sentences):\n",
    "    print(sentences)\n",
    "    ERROR_THRESHOLD = 0.15\n",
    "    scoring_data = None\n",
    "    to_predict_list = []\n",
    "    toPredict = convert_to_predict(sentences)\n",
    "    model = load_model(CONFIG[\"MODEL_PATH\"])\n",
    "    predictions = model.predict(np.asarray(toPredict))\n",
    "    intents = get_intents()\n",
    "    return_list = []\n",
    "    for result in predictions:\n",
    "        result = [[i,r] for i,r in enumerate(result) if r>ERROR_THRESHOLD]\n",
    "        result.sort(key=lambda x: x[1], reverse=True)\n",
    "        classifyResp = []\n",
    "        for r in result:\n",
    "            classifyResp.append((intents[r[0]], r[1]))\n",
    "        return_list.append(classifyResp)\n",
    "    return return_list\n",
    "   "
   ]
  },
  {
   "cell_type": "code",
   "execution_count": 37,
   "metadata": {},
   "outputs": [
    {
     "name": "stdout",
     "output_type": "stream",
     "text": [
      "['Turn off the kitchen fan ', ' how is the weather outside ', ' are you a bot ?']\n",
      "[[('appliance_action', 0.90204954)], [('weather', 0.9920359)], [('General_Human_or_Bot', 0.8770767)]]\n"
     ]
    }
   ],
   "source": [
    "query = \"Turn off the kitchen fan ## how is the weather outside ## are you a bot ?\"\n",
    "print(get_results(query.split(\"##\")))"
   ]
  }
 ],
 "metadata": {
  "kernelspec": {
   "display_name": "Python 3",
   "language": "python",
   "name": "python3"
  },
  "language_info": {
   "codemirror_mode": {
    "name": "ipython",
    "version": 3
   },
   "file_extension": ".py",
   "mimetype": "text/x-python",
   "name": "python",
   "nbconvert_exporter": "python",
   "pygments_lexer": "ipython3",
   "version": "3.6.4"
  }
 },
 "nbformat": 4,
 "nbformat_minor": 2
}
