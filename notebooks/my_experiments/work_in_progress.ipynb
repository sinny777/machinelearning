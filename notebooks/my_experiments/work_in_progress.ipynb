{
 "cells": [
  {
   "cell_type": "markdown",
   "metadata": {},
   "source": [
    "# Natural Language Classification"
   ]
  },
  {
   "cell_type": "code",
   "execution_count": 1,
   "metadata": {},
   "outputs": [],
   "source": [
    "import pandas as pd\n",
    "import numpy as np\n",
    "import matplotlib.pyplot as plt"
   ]
  },
  {
   "cell_type": "code",
   "execution_count": 2,
   "metadata": {},
   "outputs": [],
   "source": [
    "# LOAD DATA\n",
    "#df = pd.read_csv('../../data/raw_home_automation.csv', sep=',')\n",
    "df = pd.read_csv('../../data/raw_car_dashboard.csv', sep=',')"
   ]
  },
  {
   "cell_type": "markdown",
   "metadata": {},
   "source": [
    "## Check the Quality of data for training"
   ]
  },
  {
   "cell_type": "code",
   "execution_count": 3,
   "metadata": {},
   "outputs": [
    {
     "data": {
      "image/png": "[encoded data removed]",
      "text/plain": [
       "<matplotlib.figure.Figure at 0x104aaf1d0>"
      ]
     },
     "metadata": {},
     "output_type": "display_data"
    }
   ],
   "source": [
    "# df_quality_counts.plot()\n",
    "# print(df_quality_counts.keys())\n",
    "# print(df_quality_counts.values)\n",
    "# df_quality_counts = df['intent'].value_counts().to_frame()\n",
    "# df_quality_counts.rename(columns={'intent': 'value_counts'}, inplace=True)\n",
    "# df_quality_counts.index.name = 'intent'\n",
    "# print(df_quality_counts)\n",
    "# print(df_quality_counts[\"value_counts\"].unique())\n",
    "\n",
    "# df_quality_counts = df['intent'].value_counts()\n",
    "# df_quality_counts\n",
    "df_quality_counts = df['intent'].value_counts().head(10)\n",
    "plt.figure(figsize=(20,10))\n",
    "plt.title(\"Data Quality\")\n",
    "# plt.ylim()\n",
    "plt.xlabel(\"Intents\")\n",
    "plt.ylabel(\"Count\")\n",
    "plt.bar(df_quality_counts.keys(), df_quality_counts.values)\n",
    "plt.show()  "
   ]
  },
  {
   "cell_type": "code",
   "execution_count": 4,
   "metadata": {},
   "outputs": [],
   "source": [
    "X_train = df['utterances']\n",
    "Y_train = df['intent']\n",
    "X_test = pd.Series([\"turn on the living room tubelight\", \"how is the weather in Bangalore\"])\n",
    "Y_test = pd.Series([\"turn_on\", \"weather\"])"
   ]
  },
  {
   "cell_type": "markdown",
   "metadata": {},
   "source": [
    "## Using Scikit Learn for Classification"
   ]
  },
  {
   "cell_type": "code",
   "execution_count": 5,
   "metadata": {},
   "outputs": [
    {
     "name": "stdout",
     "output_type": "stream",
     "text": [
      "(188, 245)\n",
      "(188, 245)\n"
     ]
    }
   ],
   "source": [
    "from sklearn.feature_extraction.text import CountVectorizer\n",
    "from sklearn.feature_extraction.text import TfidfTransformer\n",
    "\n",
    "count_vect = CountVectorizer()\n",
    "X_train_counts = count_vect.fit_transform(X_train)\n",
    "print(X_train_counts.shape)\n",
    "tfidf_transformer = TfidfTransformer()\n",
    "X_train_tfidf = tfidf_transformer.fit_transform(X_train_counts)\n",
    "print(X_train_tfidf.shape)"
   ]
  },
  {
   "cell_type": "code",
   "execution_count": 6,
   "metadata": {},
   "outputs": [
    {
     "name": "stdout",
     "output_type": "stream",
     "text": [
      "\n",
      "\n",
      "Prediction using MultinomialNB: >>  ['appliance_action' 'weather']\n"
     ]
    }
   ],
   "source": [
    "from sklearn.naive_bayes import MultinomialNB\n",
    "clf = MultinomialNB().fit(X_train_tfidf, Y_train)\n",
    "print(\"\\n\\nPrediction using MultinomialNB: >> \", clf.predict(count_vect.transform(X_test)))"
   ]
  },
  {
   "cell_type": "markdown",
   "metadata": {},
   "source": [
    "## Using Tensorflow and Keras for Classification"
   ]
  },
  {
   "cell_type": "code",
   "execution_count": 7,
   "metadata": {},
   "outputs": [
    {
     "name": "stderr",
     "output_type": "stream",
     "text": [
      "/anaconda3/lib/python3.6/site-packages/h5py/__init__.py:36: FutureWarning: Conversion of the second argument of issubdtype from `float` to `np.floating` is deprecated. In future, it will be treated as `np.float64 == np.dtype(float).type`.\n",
      "  from ._conv import register_converters as _register_converters\n",
      "Using TensorFlow backend.\n"
     ]
    }
   ],
   "source": [
    "import tensorflow as tf\n",
    "from tensorflow import keras\n",
    "from keras.models import Sequential\n",
    "from keras.layers import Dense, Input, concatenate, Activation\n",
    "from keras.callbacks import EarlyStopping, ModelCheckpoint\n",
    "# from tf.keras.layers.pooling import GlobalMaxPooling1D, MaxPooling1D\n",
    "# from tf.keras.layers.core import Dropout\n",
    "from keras import backend as K\n",
    "\n",
    "from keras.preprocessing.text import Tokenizer\n",
    "from keras.preprocessing.sequence import pad_sequences\n",
    "from keras.utils.np_utils import to_categorical\n",
    "\n",
    "from bs4 import BeautifulSoup\n",
    "\n",
    "# from keras.layers import Embedding\n",
    "# from keras.layers import Dense, Input, Flatten\n",
    "# from keras.layers import Conv1D, MaxPooling1D, Embedding, Merge, Dropout\n",
    "# from keras.models import Model"
   ]
  },
  {
   "cell_type": "code",
   "execution_count": 23,
   "metadata": {},
   "outputs": [
    {
     "name": "stdout",
     "output_type": "stream",
     "text": [
      "mkdir: results: File exists\r\n"
     ]
    }
   ],
   "source": [
    "REMOTE = False\n",
    "MODEL_PATH = \"results/nlc_car_model.h5\"\n",
    "MODEL_WEIGHTS_PATH = \"results/nlc_car_weights.hdf5\"\n",
    "!mkdir results\n",
    "\n",
    "MAX_SEQUENCE_LENGTH = 1000\n",
    "MAX_NB_WORDS = 20000\n",
    "EMBEDDING_DIM = 100\n",
    "VALIDATION_SPLIT = 0.1"
   ]
  },
  {
   "cell_type": "code",
   "execution_count": 24,
   "metadata": {},
   "outputs": [],
   "source": [
    "def clean_str(string):\n",
    "    \"\"\"\n",
    "    Tokenization/string cleaning for dataset\n",
    "    Every dataset is lower cased except\n",
    "    \"\"\"\n",
    "#     string = re.sub(r\"\\\\\", \"\", string)\n",
    "#     string = re.sub(r\"\\'\", \"\", string)\n",
    "#     string = re.sub(r\"\\\"\", \"\", string)\n",
    "    return string.strip().lower()"
   ]
  },
  {
   "cell_type": "code",
   "execution_count": 25,
   "metadata": {},
   "outputs": [],
   "source": [
    "texts = []\n",
    "labels = []\n",
    "# output_empty = [0] * len(df[\"intent\"])\n",
    "labels_index = {}\n",
    "for i in range(len(df)):\n",
    "    text = BeautifulSoup(df[\"utterances\"][i], \"lxml\")\n",
    "    texts.append(clean_str(text.get_text()))\n",
    "    label_id = len(labels_index)\n",
    "    labels_index[df[\"intent\"][i]] = label_id\n",
    "    labels.append(label_id)\n"
   ]
  },
  {
   "cell_type": "code",
   "execution_count": 26,
   "metadata": {},
   "outputs": [
    {
     "name": "stderr",
     "output_type": "stream",
     "text": [
      "/anaconda3/lib/python3.6/site-packages/keras/preprocessing/text.py:145: UserWarning: The `nb_words` argument in `Tokenizer` has been renamed `num_words`.\n",
      "  warnings.warn('The `nb_words` argument in `Tokenizer` '\n"
     ]
    }
   ],
   "source": [
    "tokenizer = Tokenizer(nb_words=MAX_NB_WORDS)\n",
    "tokenizer.fit_on_texts(texts)\n",
    "sequences = tokenizer.texts_to_sequences(texts)"
   ]
  },
  {
   "cell_type": "code",
   "execution_count": 27,
   "metadata": {},
   "outputs": [
    {
     "name": "stdout",
     "output_type": "stream",
     "text": [
      "Found 258 unique tokens.\n"
     ]
    }
   ],
   "source": [
    "word_index = tokenizer.word_index\n",
    "print('Found %s unique tokens.' % len(word_index))"
   ]
  },
  {
   "cell_type": "code",
   "execution_count": 28,
   "metadata": {},
   "outputs": [],
   "source": [
    "data = pad_sequences(sequences, maxlen=MAX_SEQUENCE_LENGTH)"
   ]
  },
  {
   "cell_type": "code",
   "execution_count": 29,
   "metadata": {},
   "outputs": [
    {
     "name": "stdout",
     "output_type": "stream",
     "text": [
      "Shape of data tensor: (188, 1000)\n",
      "Shape of label tensor: (188, 13)\n"
     ]
    }
   ],
   "source": [
    "labels = to_categorical(np.asarray(labels))\n",
    "print('Shape of data tensor:', data.shape)\n",
    "print('Shape of label tensor:', labels.shape)"
   ]
  },
  {
   "cell_type": "code",
   "execution_count": 30,
   "metadata": {},
   "outputs": [
    {
     "name": "stdout",
     "output_type": "stream",
     "text": [
      "(170, 1000)\n",
      "(170, 13)\n",
      "(18, 1000)\n",
      "(18, 13)\n"
     ]
    }
   ],
   "source": [
    "indices = np.arange(data.shape[0])\n",
    "np.random.shuffle(indices)\n",
    "data = data[indices]\n",
    "labels = labels[indices]\n",
    "nb_validation_samples = int(VALIDATION_SPLIT * data.shape[0])\n",
    "\n",
    "x_train = data[:-nb_validation_samples]\n",
    "y_train = labels[:-nb_validation_samples]\n",
    "x_val = data[-nb_validation_samples:]\n",
    "y_val = labels[-nb_validation_samples:]\n",
    "\n",
    "print(x_train.shape)\n",
    "print(y_train.shape)\n",
    "print(x_val.shape)\n",
    "print(y_val.shape)\n"
   ]
  },
  {
   "cell_type": "code",
   "execution_count": 32,
   "metadata": {},
   "outputs": [
    {
     "name": "stdout",
     "output_type": "stream",
     "text": [
      "_________________________________________________________________\n",
      "Layer (type)                 Output Shape              Param #   \n",
      "=================================================================\n",
      "dense_1 (Dense)              (None, 8)                 8008      \n",
      "_________________________________________________________________\n",
      "dense_2 (Dense)              (None, 8)                 72        \n",
      "_________________________________________________________________\n",
      "dense_3 (Dense)              (None, 8)                 72        \n",
      "_________________________________________________________________\n",
      "dense_4 (Dense)              (None, 13)                117       \n",
      "=================================================================\n",
      "Total params: 8,269\n",
      "Trainable params: 8,269\n",
      "Non-trainable params: 0\n",
      "_________________________________________________________________\n",
      "Train on 153 samples, validate on 17 samples\n",
      "Epoch 1/200\n",
      "153/153 [==============================] - 0s 2ms/step - loss: 2.6427 - acc: 0.0458 - val_loss: 2.5082 - val_acc: 0.0588\n",
      "Epoch 2/200\n",
      "153/153 [==============================] - 0s 440us/step - loss: 2.5621 - acc: 0.0980 - val_loss: 2.4763 - val_acc: 0.0588\n",
      "Epoch 3/200\n",
      "153/153 [==============================] - 0s 415us/step - loss: 2.5345 - acc: 0.1046 - val_loss: 2.4596 - val_acc: 0.0000e+00\n",
      "Epoch 4/200\n",
      "153/153 [==============================] - 0s 468us/step - loss: 2.5157 - acc: 0.1503 - val_loss: 2.4725 - val_acc: 0.0588\n",
      "Epoch 5/200\n",
      "153/153 [==============================] - 0s 585us/step - loss: 2.5067 - acc: 0.1830 - val_loss: 2.4492 - val_acc: 0.1176\n",
      "Epoch 6/200\n",
      "153/153 [==============================] - 0s 689us/step - loss: 2.4866 - acc: 0.1634 - val_loss: 2.4467 - val_acc: 0.1176\n",
      "Epoch 7/200\n",
      "153/153 [==============================] - 0s 594us/step - loss: 2.4772 - acc: 0.1634 - val_loss: 2.4472 - val_acc: 0.1176\n",
      "Epoch 8/200\n",
      "153/153 [==============================] - 0s 488us/step - loss: 2.4619 - acc: 0.1765 - val_loss: 2.4472 - val_acc: 0.1176\n",
      "Epoch 9/200\n",
      "153/153 [==============================] - 0s 477us/step - loss: 2.4477 - acc: 0.1765 - val_loss: 2.4611 - val_acc: 0.1176\n",
      "Epoch 10/200\n",
      "153/153 [==============================] - 0s 543us/step - loss: 2.4294 - acc: 0.1569 - val_loss: 2.4715 - val_acc: 0.1176\n",
      "Epoch 11/200\n",
      "153/153 [==============================] - 0s 393us/step - loss: 2.4122 - acc: 0.1634 - val_loss: 2.4626 - val_acc: 0.1176\n",
      "Epoch 12/200\n",
      "153/153 [==============================] - 0s 513us/step - loss: 2.3908 - acc: 0.1699 - val_loss: 2.4535 - val_acc: 0.1176\n",
      "Epoch 13/200\n",
      "153/153 [==============================] - 0s 610us/step - loss: 2.3665 - acc: 0.1895 - val_loss: 2.4462 - val_acc: 0.1765\n",
      "Epoch 14/200\n",
      "153/153 [==============================] - 0s 639us/step - loss: 2.3477 - acc: 0.1895 - val_loss: 2.4055 - val_acc: 0.1176\n",
      "Epoch 15/200\n",
      "153/153 [==============================] - 0s 488us/step - loss: 2.3261 - acc: 0.2026 - val_loss: 2.4144 - val_acc: 0.1765\n",
      "Epoch 16/200\n",
      "153/153 [==============================] - 0s 430us/step - loss: 2.3069 - acc: 0.2418 - val_loss: 2.4167 - val_acc: 0.1765\n",
      "Epoch 17/200\n",
      "153/153 [==============================] - 0s 350us/step - loss: 2.2863 - acc: 0.2288 - val_loss: 2.4092 - val_acc: 0.1765\n",
      "Epoch 18/200\n",
      "153/153 [==============================] - 0s 297us/step - loss: 2.2641 - acc: 0.2484 - val_loss: 2.4168 - val_acc: 0.1765\n",
      "Epoch 19/200\n",
      "153/153 [==============================] - 0s 417us/step - loss: 2.2541 - acc: 0.2353 - val_loss: 2.3929 - val_acc: 0.1765\n",
      "Epoch 20/200\n",
      "153/153 [==============================] - 0s 458us/step - loss: 2.2436 - acc: 0.2614 - val_loss: 2.3770 - val_acc: 0.2353\n",
      "Epoch 21/200\n",
      "153/153 [==============================] - 0s 443us/step - loss: 2.2195 - acc: 0.2810 - val_loss: 2.3657 - val_acc: 0.2353\n",
      "Epoch 22/200\n",
      "153/153 [==============================] - 0s 315us/step - loss: 2.2061 - acc: 0.2680 - val_loss: 2.3803 - val_acc: 0.2353\n",
      "Epoch 23/200\n",
      "153/153 [==============================] - 0s 315us/step - loss: 2.1958 - acc: 0.2745 - val_loss: 2.3843 - val_acc: 0.2353\n",
      "Epoch 24/200\n",
      "153/153 [==============================] - 0s 427us/step - loss: 2.1721 - acc: 0.2941 - val_loss: 2.3858 - val_acc: 0.2353\n",
      "Epoch 25/200\n",
      "153/153 [==============================] - 0s 679us/step - loss: 2.1646 - acc: 0.2745 - val_loss: 2.3390 - val_acc: 0.2353\n",
      "Epoch 26/200\n",
      "153/153 [==============================] - 0s 572us/step - loss: 2.1494 - acc: 0.2745 - val_loss: 2.3789 - val_acc: 0.2353\n",
      "Epoch 27/200\n",
      "153/153 [==============================] - 0s 795us/step - loss: 2.1366 - acc: 0.2810 - val_loss: 2.3276 - val_acc: 0.2353\n",
      "Epoch 28/200\n",
      "153/153 [==============================] - 0s 385us/step - loss: 2.1297 - acc: 0.2941 - val_loss: 2.3602 - val_acc: 0.2353\n",
      "Epoch 29/200\n",
      "153/153 [==============================] - 0s 574us/step - loss: 2.1100 - acc: 0.2745 - val_loss: 2.3628 - val_acc: 0.2353\n",
      "Epoch 30/200\n",
      "153/153 [==============================] - 0s 343us/step - loss: 2.0974 - acc: 0.2876 - val_loss: 2.3831 - val_acc: 0.2353\n",
      "Epoch 31/200\n",
      "153/153 [==============================] - 0s 310us/step - loss: 2.0861 - acc: 0.2810 - val_loss: 2.3572 - val_acc: 0.2353\n",
      "Epoch 32/200\n",
      "153/153 [==============================] - 0s 309us/step - loss: 2.0703 - acc: 0.2876 - val_loss: 2.3384 - val_acc: 0.2353\n",
      "Epoch 33/200\n",
      "153/153 [==============================] - 0s 354us/step - loss: 2.0605 - acc: 0.2876 - val_loss: 2.3561 - val_acc: 0.2353\n",
      "Epoch 34/200\n",
      "153/153 [==============================] - 0s 1ms/step - loss: 2.0478 - acc: 0.2941 - val_loss: 2.3352 - val_acc: 0.2353\n",
      "Epoch 35/200\n",
      "153/153 [==============================] - 0s 416us/step - loss: 2.0313 - acc: 0.3007 - val_loss: 2.3441 - val_acc: 0.2353\n",
      "Epoch 36/200\n",
      "153/153 [==============================] - 0s 626us/step - loss: 2.0257 - acc: 0.3072 - val_loss: 2.3661 - val_acc: 0.2353\n",
      "Epoch 37/200\n",
      "153/153 [==============================] - 0s 673us/step - loss: 2.0055 - acc: 0.3137 - val_loss: 2.3931 - val_acc: 0.2353\n",
      "18/18 [==============================] - 0s 46us/step\n",
      "\n",
      "acc: 38.89%\n",
      "<<<<<<<< ML MODEL CREATED AND SAVED >>>>>>>>>>>\n",
      "\n",
      "\n"
     ]
    }
   ],
   "source": [
    "K.clear_session()\n",
    "# tf.global_variables_initializer()\n",
    "tf.reset_default_graph()\n",
    "\n",
    "model = Sequential()\n",
    "# model.add(Dense(output_dim=8,init ='uniform',activation='relu', input_dim=len(train_x[0])))\n",
    "model.add(Dense(8, activation='relu', input_shape=(x_train.shape[1], )))\n",
    "# model.add(Dense(8, activation='relu', input_dim=(len(train_x))))\n",
    "# model.add(Activation('relu'))\n",
    "# model.add(Dropout(0.3))\n",
    "model.add(Dense(8, activation='relu'))\n",
    "# model.add(Activation('relu'))\n",
    "# model.add(Dropout(0.3))\n",
    "model.add(Dense(8, activation='relu'))\n",
    "# model.add(Activation('relu'))\n",
    "# model.add(Dropout(0.3))\n",
    "model.add(Dense(y_train.shape[1], activation='softmax'))\n",
    "model.summary()\n",
    "\n",
    "tbCallBack = keras.callbacks.TensorBoard(log_dir='keras_logs', write_graph=True)\n",
    "\n",
    "# # model.compile(loss='sparse_categorical_crossentropy', optimizer='adam', metrics=['accuracy'])\n",
    "model.compile(loss='categorical_crossentropy', optimizer='rmsprop', metrics=['acc'])\n",
    "monitor = EarlyStopping(monitor='val_loss', min_delta=1e-3, patience=10, verbose=0, mode='auto')\n",
    "checkpointer = ModelCheckpoint(filepath=MODEL_WEIGHTS_PATH, verbose=0, save_best_only=True) # Save best model\n",
    "model.fit(x_train, y_train, epochs=200, batch_size=8,  verbose=1, validation_split=0.1, callbacks=[tbCallBack, monitor, checkpointer])\n",
    "model.load_weights(MODEL_WEIGHTS_PATH) # load weights from best model\n",
    "scores = model.evaluate(x_val, y_val)\n",
    "print(\"\\n%s: %.2f%%\" % (model.metrics_names[1], scores[1]*100))\n",
    "model.save(MODEL_PATH)\n",
    "print(\"<<<<<<<< ML MODEL CREATED AND SAVED >>>>>>>>>>>\\n\\n\")"
   ]
  }
 ],
 "metadata": {
  "kernelspec": {
   "display_name": "Python 3",
   "language": "python",
   "name": "python3"
  },
  "language_info": {
   "codemirror_mode": {
    "name": "ipython",
    "version": 3
   },
   "file_extension": ".py",
   "mimetype": "text/x-python",
   "name": "python",
   "nbconvert_exporter": "python",
   "pygments_lexer": "ipython3",
   "version": "3.6.4"
  }
 },
 "nbformat": 4,
 "nbformat_minor": 2
}
