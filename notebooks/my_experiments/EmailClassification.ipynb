{
 "cells": [
  {
   "cell_type": "markdown",
   "metadata": {},
   "source": [
    "# Natural Language Email Classification"
   ]
  },
  {
   "cell_type": "code",
   "execution_count": 1,
   "metadata": {},
   "outputs": [
    {
     "name": "stderr",
     "output_type": "stream",
     "text": [
      "/anaconda3/lib/python3.6/importlib/_bootstrap.py:219: RuntimeWarning: numpy.dtype size changed, may indicate binary incompatibility. Expected 96, got 88\n",
      "  return f(*args, **kwds)\n",
      "/anaconda3/lib/python3.6/importlib/_bootstrap.py:219: RuntimeWarning: numpy.dtype size changed, may indicate binary incompatibility. Expected 96, got 88\n",
      "  return f(*args, **kwds)\n",
      "/anaconda3/lib/python3.6/importlib/_bootstrap.py:219: RuntimeWarning: numpy.dtype size changed, may indicate binary incompatibility. Expected 96, got 88\n",
      "  return f(*args, **kwds)\n"
     ]
    }
   ],
   "source": [
    "import os\n",
    "import pandas as pd\n",
    "import numpy as np\n",
    "import matplotlib.pyplot as plt"
   ]
  },
  {
   "cell_type": "code",
   "execution_count": 2,
   "metadata": {},
   "outputs": [
    {
     "data": {
      "text/html": [
       "<div>\n",
       "<table border=\"1\" class=\"dataframe\">\n",
       "  <thead>\n",
       "    <tr style=\"text-align: right;\">\n",
       "      <th></th>\n",
       "      <th>Category</th>\n",
       "      <th>EmailContent</th>\n",
       "    </tr>\n",
       "  </thead>\n",
       "  <tbody>\n",
       "    <tr>\n",
       "      <th>0</th>\n",
       "      <td>secure</td>\n",
       "      <td>You have received a secure message</td>\n",
       "    </tr>\n",
       "    <tr>\n",
       "      <th>1</th>\n",
       "      <td>secure</td>\n",
       "      <td>Read your secure message by opening the attach...</td>\n",
       "    </tr>\n",
       "    <tr>\n",
       "      <th>2</th>\n",
       "      <td>secure</td>\n",
       "      <td>You have received an email message secured by ...</td>\n",
       "    </tr>\n",
       "    <tr>\n",
       "      <th>3</th>\n",
       "      <td>secure</td>\n",
       "      <td>Password is Summer26. Please let me know if yo...</td>\n",
       "    </tr>\n",
       "    <tr>\n",
       "      <th>4</th>\n",
       "      <td>secure</td>\n",
       "      <td>This is a secure encrypted message. To view th...</td>\n",
       "    </tr>\n",
       "  </tbody>\n",
       "</table>\n",
       "</div>"
      ],
      "text/plain": [
       "  Category                                       EmailContent\n",
       "0   secure                 You have received a secure message\n",
       "1   secure  Read your secure message by opening the attach...\n",
       "2   secure  You have received an email message secured by ...\n",
       "3   secure  Password is Summer26. Please let me know if yo...\n",
       "4   secure  This is a secure encrypted message. To view th..."
      ]
     },
     "execution_count": 2,
     "metadata": {},
     "output_type": "execute_result"
    }
   ],
   "source": [
    "# LOAD DATA\n",
    "df = pd.read_csv('../../data/glic-emails-v14.tsv', sep='\\t')\n",
    "df.head()"
   ]
  },
  {
   "cell_type": "markdown",
   "metadata": {},
   "source": [
    "## Check the Quality of data for training"
   ]
  },
  {
   "cell_type": "code",
   "execution_count": 3,
   "metadata": {},
   "outputs": [
    {
     "data": {
      "image/png": "[encoded data removed]",
      "text/plain": [
       "<Figure size 1440x720 with 1 Axes>"
      ]
     },
     "metadata": {},
     "output_type": "display_data"
    }
   ],
   "source": [
    "df_quality_counts = df['Category'].value_counts().head(10)\n",
    "plt.figure(figsize=(20,10))\n",
    "plt.title(\"Data Quality\")\n",
    "# plt.ylim()\n",
    "plt.xlabel(\"Category\")\n",
    "plt.ylabel(\"Count\")\n",
    "plt.bar(df_quality_counts.keys(), df_quality_counts.values)\n",
    "plt.show()  "
   ]
  },
  {
   "cell_type": "markdown",
   "metadata": {},
   "source": [
    "## Using Tensorflow and Keras for Classification"
   ]
  },
  {
   "cell_type": "code",
   "execution_count": 4,
   "metadata": {},
   "outputs": [
    {
     "name": "stderr",
     "output_type": "stream",
     "text": [
      "Using TensorFlow backend.\n"
     ]
    },
    {
     "name": "stdout",
     "output_type": "stream",
     "text": [
      "1.9.0\n"
     ]
    }
   ],
   "source": [
    "import tensorflow as tf\n",
    "import keras\n",
    "from sklearn.model_selection import train_test_split\n",
    "from keras.models import Sequential\n",
    "from keras.layers import Dense, Input, concatenate, Activation\n",
    "from keras.callbacks import EarlyStopping, ModelCheckpoint\n",
    "from keras.layers import Dense, Embedding, LSTM, SpatialDropout1D\n",
    "from keras.layers.convolutional import Conv1D, MaxPooling1D\n",
    "from keras.layers.embeddings import Embedding\n",
    "\n",
    "print(tf.__version__)"
   ]
  },
  {
   "cell_type": "code",
   "execution_count": 5,
   "metadata": {},
   "outputs": [
    {
     "name": "stdout",
     "output_type": "stream",
     "text": [
      "Length of X: >>  135\n",
      "Length of Y: >>  135\n"
     ]
    }
   ],
   "source": [
    "from keras.preprocessing.text import Tokenizer\n",
    "from keras.preprocessing.sequence import pad_sequences\n",
    "\n",
    "tokenizer = Tokenizer(num_words=500, split=' ')\n",
    "tokenizer.fit_on_texts(df[\"EmailContent\"].values)\n",
    "\n",
    "X = tokenizer.texts_to_sequences(df[\"EmailContent\"].values)\n",
    "X = pad_sequences(X, maxlen=50)\n",
    "categories = df[\"Category\"].unique()\n",
    "categories = sorted(list(set(categories)))\n",
    "output_empty = [0] * len(categories)\n",
    "Y = []\n",
    "for i in range( 0, len(X)):\n",
    "    output_row = list(output_empty)\n",
    "    category = df[\"Category\"][i]\n",
    "    output_row[categories.index(category)] = 1\n",
    "    Y.append(output_row)\n",
    "\n",
    "print(\"Length of X: >> \", len(X))\n",
    "print(\"Length of Y: >> \", len(Y))\n",
    "X_train, X_test, Y_train, Y_test = train_test_split(X, Y, test_size = 0.10, random_state = 42)"
   ]
  },
  {
   "cell_type": "code",
   "execution_count": 6,
   "metadata": {},
   "outputs": [],
   "source": [
    "CONFIG = {\n",
    "  \"MODEL_PATH\": \"results/model/\",\n",
    "  \"model_name\": \"EmailClassification_Model.h5\",\n",
    "  \"model_weights\": \"EmailClassification_Model_weights.hdf5\",\n",
    "  \"log_dir\": \"tensorboard_logs\",\n",
    "  \"epochs\": 200,\n",
    "  \"batch_size\": 32,\n",
    "  \"activation\": \"softmax\",\n",
    "  \"loss\": \"binary_crossentropy\",\n",
    "  \"optimizer\": \"adam\",\n",
    "  \"metrics\": [\"accuracy\"],\n",
    "  \"patience\": 20\n",
    "}\n",
    "\n",
    "if not os.path.exists(CONFIG[\"MODEL_PATH\"]):\n",
    "    os.makedirs(CONFIG[\"MODEL_PATH\"], exist_ok=True)"
   ]
  },
  {
   "cell_type": "code",
   "execution_count": 7,
   "metadata": {},
   "outputs": [
    {
     "name": "stdout",
     "output_type": "stream",
     "text": [
      "WARNING:tensorflow:From /anaconda3/lib/python3.6/site-packages/keras/backend/tensorflow_backend.py:1247: calling reduce_sum (from tensorflow.python.ops.math_ops) with keep_dims is deprecated and will be removed in a future version.\n",
      "Instructions for updating:\n",
      "keep_dims is deprecated, use keepdims instead\n",
      "WARNING:tensorflow:From /anaconda3/lib/python3.6/site-packages/keras/backend/tensorflow_backend.py:1349: calling reduce_mean (from tensorflow.python.ops.math_ops) with keep_dims is deprecated and will be removed in a future version.\n",
      "Instructions for updating:\n",
      "keep_dims is deprecated, use keepdims instead\n",
      "_________________________________________________________________\n",
      "Layer (type)                 Output Shape              Param #   \n",
      "=================================================================\n",
      "embedding_1 (Embedding)      (None, 50, 32)            16000     \n",
      "_________________________________________________________________\n",
      "conv1d_1 (Conv1D)            (None, 50, 32)            3104      \n",
      "_________________________________________________________________\n",
      "max_pooling1d_1 (MaxPooling1 (None, 25, 32)            0         \n",
      "_________________________________________________________________\n",
      "lstm_1 (LSTM)                (None, 100)               53200     \n",
      "_________________________________________________________________\n",
      "dense_1 (Dense)              (None, 6)                 606       \n",
      "=================================================================\n",
      "Total params: 72,910\n",
      "Trainable params: 72,910\n",
      "Non-trainable params: 0\n",
      "_________________________________________________________________\n",
      "None\n",
      "Train on 118 samples, validate on 3 samples\n",
      "Epoch 1/200\n",
      "118/118 [==============================] - 2s 16ms/step - loss: 0.4499 - acc: 0.8333 - val_loss: 0.4489 - val_acc: 0.8333\n",
      "Epoch 2/200\n",
      "118/118 [==============================] - 0s 3ms/step - loss: 0.4461 - acc: 0.8333 - val_loss: 0.4434 - val_acc: 0.8333\n",
      "Epoch 3/200\n",
      "118/118 [==============================] - 0s 4ms/step - loss: 0.4408 - acc: 0.8333 - val_loss: 0.4334 - val_acc: 0.8333\n",
      "Epoch 4/200\n",
      "118/118 [==============================] - 0s 3ms/step - loss: 0.4321 - acc: 0.8333 - val_loss: 0.4252 - val_acc: 0.8333\n",
      "Epoch 5/200\n",
      "118/118 [==============================] - 0s 3ms/step - loss: 0.4243 - acc: 0.8333 - val_loss: 0.4164 - val_acc: 0.8333\n",
      "Epoch 6/200\n",
      "118/118 [==============================] - 0s 2ms/step - loss: 0.4181 - acc: 0.8333 - val_loss: 0.4218 - val_acc: 0.8333\n",
      "Epoch 7/200\n",
      "118/118 [==============================] - 0s 2ms/step - loss: 0.4060 - acc: 0.8333 - val_loss: 0.4404 - val_acc: 0.8333\n",
      "Epoch 8/200\n",
      "118/118 [==============================] - 0s 2ms/step - loss: 0.3907 - acc: 0.8347 - val_loss: 0.4427 - val_acc: 0.8333\n",
      "Epoch 9/200\n",
      "118/118 [==============================] - 0s 1ms/step - loss: 0.3809 - acc: 0.8432 - val_loss: 0.4915 - val_acc: 0.8333\n",
      "Epoch 10/200\n",
      "118/118 [==============================] - 0s 2ms/step - loss: 0.3753 - acc: 0.8390 - val_loss: 0.4703 - val_acc: 0.8333\n",
      "Epoch 11/200\n",
      "118/118 [==============================] - 0s 2ms/step - loss: 0.3742 - acc: 0.8545 - val_loss: 0.4306 - val_acc: 0.8333\n",
      "Epoch 12/200\n",
      "118/118 [==============================] - 0s 2ms/step - loss: 0.3563 - acc: 0.8602 - val_loss: 0.4598 - val_acc: 0.8333\n",
      "Epoch 13/200\n",
      "118/118 [==============================] - 0s 2ms/step - loss: 0.3433 - acc: 0.8573 - val_loss: 0.4308 - val_acc: 0.8889\n",
      "Epoch 14/200\n",
      "118/118 [==============================] - 0s 3ms/step - loss: 0.3192 - acc: 0.8531 - val_loss: 0.3625 - val_acc: 0.8889\n",
      "Epoch 15/200\n",
      "118/118 [==============================] - 0s 3ms/step - loss: 0.3090 - acc: 0.8644 - val_loss: 0.3571 - val_acc: 0.8889\n",
      "Epoch 16/200\n",
      "118/118 [==============================] - 0s 2ms/step - loss: 0.2863 - acc: 0.8785 - val_loss: 0.3340 - val_acc: 0.8889\n",
      "Epoch 17/200\n",
      "118/118 [==============================] - 0s 3ms/step - loss: 0.2673 - acc: 0.8898 - val_loss: 0.3204 - val_acc: 0.9444\n",
      "Epoch 18/200\n",
      "118/118 [==============================] - 0s 3ms/step - loss: 0.2477 - acc: 0.9068 - val_loss: 0.2705 - val_acc: 0.9444\n",
      "Epoch 19/200\n",
      "118/118 [==============================] - 0s 2ms/step - loss: 0.2351 - acc: 0.9025 - val_loss: 0.2893 - val_acc: 0.9444\n",
      "Epoch 20/200\n",
      "118/118 [==============================] - 0s 2ms/step - loss: 0.2252 - acc: 0.9138 - val_loss: 0.3136 - val_acc: 0.9444\n",
      "Epoch 21/200\n",
      "118/118 [==============================] - 0s 2ms/step - loss: 0.2165 - acc: 0.9025 - val_loss: 0.2862 - val_acc: 0.9444\n",
      "Epoch 22/200\n",
      "118/118 [==============================] - 0s 2ms/step - loss: 0.1943 - acc: 0.9138 - val_loss: 0.3259 - val_acc: 0.9444\n",
      "Epoch 23/200\n",
      "118/118 [==============================] - 0s 2ms/step - loss: 0.1797 - acc: 0.9280 - val_loss: 0.3074 - val_acc: 0.9444\n",
      "Epoch 24/200\n",
      "118/118 [==============================] - 0s 2ms/step - loss: 0.1605 - acc: 0.9421 - val_loss: 0.2748 - val_acc: 0.9444\n",
      "Epoch 25/200\n",
      "118/118 [==============================] - 0s 2ms/step - loss: 0.1454 - acc: 0.9520 - val_loss: 0.3213 - val_acc: 0.9444\n",
      "Epoch 26/200\n",
      "118/118 [==============================] - 0s 2ms/step - loss: 0.1350 - acc: 0.9435 - val_loss: 0.2905 - val_acc: 0.8889\n",
      "Epoch 27/200\n",
      "118/118 [==============================] - 0s 2ms/step - loss: 0.1237 - acc: 0.9534 - val_loss: 0.2884 - val_acc: 0.8889\n",
      "Epoch 28/200\n",
      "118/118 [==============================] - 0s 2ms/step - loss: 0.1021 - acc: 0.9718 - val_loss: 0.3333 - val_acc: 0.8889\n",
      "Epoch 29/200\n",
      "118/118 [==============================] - 0s 2ms/step - loss: 0.0907 - acc: 0.9732 - val_loss: 0.3942 - val_acc: 0.7778\n",
      "Epoch 30/200\n",
      "118/118 [==============================] - 0s 2ms/step - loss: 0.0825 - acc: 0.9746 - val_loss: 0.3834 - val_acc: 0.8333\n",
      "Epoch 31/200\n",
      "118/118 [==============================] - 0s 2ms/step - loss: 0.0724 - acc: 0.9816 - val_loss: 0.3982 - val_acc: 0.7778\n",
      "Epoch 32/200\n",
      "118/118 [==============================] - 0s 2ms/step - loss: 0.0650 - acc: 0.9831 - val_loss: 0.4105 - val_acc: 0.7778\n",
      "Epoch 33/200\n",
      "118/118 [==============================] - 0s 2ms/step - loss: 0.0675 - acc: 0.9746 - val_loss: 0.4445 - val_acc: 0.7778\n",
      "Epoch 34/200\n",
      "118/118 [==============================] - 0s 2ms/step - loss: 0.0644 - acc: 0.9802 - val_loss: 0.4247 - val_acc: 0.7778\n",
      "Epoch 35/200\n",
      "118/118 [==============================] - 0s 2ms/step - loss: 0.0523 - acc: 0.9845 - val_loss: 0.4641 - val_acc: 0.7778\n",
      "Epoch 36/200\n",
      "118/118 [==============================] - 0s 4ms/step - loss: 0.0528 - acc: 0.9802 - val_loss: 0.5285 - val_acc: 0.7778\n",
      "Epoch 37/200\n",
      "118/118 [==============================] - 0s 3ms/step - loss: 0.0481 - acc: 0.9873 - val_loss: 0.5261 - val_acc: 0.7778\n",
      "Epoch 38/200\n",
      "118/118 [==============================] - 0s 3ms/step - loss: 0.0435 - acc: 0.9859 - val_loss: 0.5162 - val_acc: 0.7778\n",
      "14/14 [==============================] - 0s 450us/step\n",
      "\n",
      "acc: 89.29%\n",
      "<<<<<<<< ML MODEL CREATED AND SAVED LOCALLY AT:  results/model/EmailClassification_Model.h5\n"
     ]
    }
   ],
   "source": [
    "from keras import backend as K\n",
    "from keras.models import load_model\n",
    "K.clear_session()\n",
    "tf.reset_default_graph()\n",
    "init_g = tf.global_variables_initializer()\n",
    "init_l = tf.local_variables_initializer()\n",
    "with tf.Session() as sess:\n",
    "    sess.run(init_g)\n",
    "    sess.run(init_l)\n",
    "    embedding_vector_length = 32\n",
    "\n",
    "    model = Sequential()\n",
    "    model.add(Embedding(500, embedding_vector_length, input_length=50))\n",
    "    model.add(Conv1D(filters=32, kernel_size=3, padding='same', activation=\"relu\"))\n",
    "    model.add(MaxPooling1D(pool_size=2))\n",
    "    model.add(LSTM(100))\n",
    "    model.add(Dense(len(Y_train[0]), activation=CONFIG[\"activation\"]))\n",
    "    model.compile(loss=CONFIG[\"loss\"], optimizer=CONFIG[\"optimizer\"], metrics=CONFIG[\"metrics\"])\n",
    "    print(model.summary())\n",
    "\n",
    "    tbCallBack = tf.keras.callbacks.TensorBoard(log_dir=\"tensorboard_logs\", write_graph=True)\n",
    "\n",
    "    monitor = EarlyStopping(monitor='val_loss', min_delta=1e-3, patience=CONFIG[\"patience\"], verbose=0, mode='auto')\n",
    "    checkpointer = ModelCheckpoint(filepath=CONFIG[\"MODEL_PATH\"]+CONFIG[\"model_weights\"], verbose=0, save_best_only=True) # Save best model\n",
    "    model.fit(np.asarray(X_train), np.asarray(Y_train), epochs=CONFIG[\"epochs\"], batch_size=CONFIG[\"batch_size\"],  verbose=1, validation_split=0.02, callbacks=[tbCallBack, monitor, checkpointer])\n",
    "    model.load_weights(CONFIG[\"MODEL_PATH\"]+CONFIG[\"model_weights\"]) # load weights from best model\n",
    "    scores = model.evaluate(np.asarray(X_test), np.asarray(Y_test))\n",
    "    print(\"\\n%s: %.2f%%\" % (model.metrics_names[1], scores[1]*100))\n",
    "    model.save(CONFIG[\"MODEL_PATH\"]+CONFIG[\"model_name\"])\n",
    "    print(\"<<<<<<<< ML MODEL CREATED AND SAVED LOCALLY AT: \", CONFIG[\"MODEL_PATH\"]+CONFIG[\"model_name\"])\n"
   ]
  },
  {
   "cell_type": "code",
   "execution_count": 8,
   "metadata": {},
   "outputs": [],
   "source": [
    "import re\n",
    "def convert_to_predict(texts):\n",
    "    preprocessed_records = []\n",
    "    maxlen = 50\n",
    "    for text in texts:\n",
    "        cleanString = re.sub(r\"[!\\\"#$%&()*+,-./:;<=>?@[\\]^_`{|}~]\", \"\", text)\n",
    "        splitted_text = cleanString.split()[:maxlen]\n",
    "        hashed_tokens = []\n",
    "        for token in splitted_text:\n",
    "            index = tokenizer.word_index.get(token, 0)\n",
    "            # index = scoring_params[\"word_index\"].get(token, 0)\n",
    "            if index < 501 and index > 0:\n",
    "                hashed_tokens.append(index)\n",
    "\n",
    "        hashed_tokens_size = len(hashed_tokens)\n",
    "        padded_tokens = [0]*(maxlen - hashed_tokens_size) + hashed_tokens\n",
    "        preprocessed_records.append(padded_tokens)\n",
    "    return preprocessed_records"
   ]
  },
  {
   "cell_type": "code",
   "execution_count": 9,
   "metadata": {},
   "outputs": [],
   "source": [
    "def predict(texts):\n",
    "    model = load_model(CONFIG[\"MODEL_PATH\"]+CONFIG[\"model_name\"])\n",
    "    toPredict = convert_to_predict(texts)\n",
    "    predictions = model.predict(np.asarray(toPredict))[0]\n",
    "    return predictions"
   ]
  },
  {
   "cell_type": "code",
   "execution_count": 10,
   "metadata": {},
   "outputs": [
    {
     "name": "stdout",
     "output_type": "stream",
     "text": [
      "[('secure', 0.883669)]\n"
     ]
    }
   ],
   "source": [
    "email_content = \"You have received an email message which is encrypted by Private Post. Please open the file called Encrypted_Message.htm to read the message.\"\n",
    "ERROR_THRESHOLD = 0.15\n",
    "result = predict([email_content])\n",
    "result = [[i,r] for i,r in enumerate(result) if r>ERROR_THRESHOLD]\n",
    "# sort by strength of probability\n",
    "result.sort(key=lambda x: x[1], reverse=True)\n",
    "return_list = []\n",
    "for r in result:\n",
    "    return_list.append((categories[r[0]], r[1]))\n",
    "\n",
    "print(return_list)"
   ]
  }
 ],
 "metadata": {
  "kernelspec": {
   "display_name": "Python 3",
   "language": "python",
   "name": "python3"
  },
  "language_info": {
   "codemirror_mode": {
    "name": "ipython",
    "version": 3
   },
   "file_extension": ".py",
   "mimetype": "text/x-python",
   "name": "python",
   "nbconvert_exporter": "python",
   "pygments_lexer": "ipython3",
   "version": "3.6.8"
  }
 },
 "nbformat": 4,
 "nbformat_minor": 2
}
