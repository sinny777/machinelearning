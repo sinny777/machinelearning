{
 "cells": [
  {
   "cell_type": "code",
   "execution_count": 1,
   "metadata": {},
   "outputs": [],
   "source": [
    "import pandas as pd\n",
    "import numpy as np\n",
    "import seaborn as sns\n",
    "from sklearn.linear_model import LinearRegression"
   ]
  },
  {
   "cell_type": "code",
   "execution_count": 4,
   "metadata": {},
   "outputs": [],
   "source": [
    "df = pd.read_csv('../data/cattles/cow_data1.csv', sep=',', parse_dates=['Date and Time'])"
   ]
  },
  {
   "cell_type": "code",
   "execution_count": 5,
   "metadata": {},
   "outputs": [
    {
     "data": {
      "text/html": [
       "<div>\n",
       "<style scoped>\n",
       "    .dataframe tbody tr th:only-of-type {\n",
       "        vertical-align: middle;\n",
       "    }\n",
       "\n",
       "    .dataframe tbody tr th {\n",
       "        vertical-align: top;\n",
       "    }\n",
       "\n",
       "    .dataframe thead th {\n",
       "        text-align: right;\n",
       "    }\n",
       "</style>\n",
       "<table border=\"1\" class=\"dataframe\">\n",
       "  <thead>\n",
       "    <tr style=\"text-align: right;\">\n",
       "      <th></th>\n",
       "      <th>Cow ID</th>\n",
       "      <th>Collar Name</th>\n",
       "      <th>Date and Time</th>\n",
       "      <th>Raw activity data</th>\n",
       "      <th>Index activity value</th>\n",
       "      <th>Raw Rumination Data</th>\n",
       "      <th>Index Rumination Data</th>\n",
       "    </tr>\n",
       "  </thead>\n",
       "  <tbody>\n",
       "    <tr>\n",
       "      <th>0</th>\n",
       "      <td>900</td>\n",
       "      <td>2073714</td>\n",
       "      <td>1434074400000000000</td>\n",
       "      <td>255</td>\n",
       "      <td>-9999</td>\n",
       "      <td>255</td>\n",
       "      <td>-9999</td>\n",
       "    </tr>\n",
       "    <tr>\n",
       "      <th>1</th>\n",
       "      <td>900</td>\n",
       "      <td>2073714</td>\n",
       "      <td>1434081600000000000</td>\n",
       "      <td>255</td>\n",
       "      <td>-9999</td>\n",
       "      <td>255</td>\n",
       "      <td>-9999</td>\n",
       "    </tr>\n",
       "    <tr>\n",
       "      <th>2</th>\n",
       "      <td>900</td>\n",
       "      <td>2073714</td>\n",
       "      <td>1434088800000000000</td>\n",
       "      <td>255</td>\n",
       "      <td>-9999</td>\n",
       "      <td>255</td>\n",
       "      <td>-9999</td>\n",
       "    </tr>\n",
       "    <tr>\n",
       "      <th>3</th>\n",
       "      <td>900</td>\n",
       "      <td>2073714</td>\n",
       "      <td>1434096000000000000</td>\n",
       "      <td>255</td>\n",
       "      <td>-9999</td>\n",
       "      <td>255</td>\n",
       "      <td>-9999</td>\n",
       "    </tr>\n",
       "    <tr>\n",
       "      <th>4</th>\n",
       "      <td>900</td>\n",
       "      <td>2073714</td>\n",
       "      <td>1434103200000000000</td>\n",
       "      <td>255</td>\n",
       "      <td>-9999</td>\n",
       "      <td>255</td>\n",
       "      <td>-9999</td>\n",
       "    </tr>\n",
       "  </tbody>\n",
       "</table>\n",
       "</div>"
      ],
      "text/plain": [
       "   Cow ID  Collar Name        Date and Time  Raw activity data  \\\n",
       "0     900      2073714  1434074400000000000                255   \n",
       "1     900      2073714  1434081600000000000                255   \n",
       "2     900      2073714  1434088800000000000                255   \n",
       "3     900      2073714  1434096000000000000                255   \n",
       "4     900      2073714  1434103200000000000                255   \n",
       "\n",
       "   Index activity value  Raw Rumination Data  Index Rumination Data  \n",
       "0                 -9999                  255                  -9999  \n",
       "1                 -9999                  255                  -9999  \n",
       "2                 -9999                  255                  -9999  \n",
       "3                 -9999                  255                  -9999  \n",
       "4                 -9999                  255                  -9999  "
      ]
     },
     "execution_count": 5,
     "metadata": {},
     "output_type": "execute_result"
    }
   ],
   "source": [
    "X = df\n",
    "X['Date and Time'] = pd.to_numeric(X['Date and Time'], errors='coerce')\n",
    "X.head()"
   ]
  },
  {
   "cell_type": "code",
   "execution_count": 14,
   "metadata": {},
   "outputs": [
    {
     "data": {
      "text/plain": [
       "<seaborn.axisgrid.PairGrid at 0x1a21942a90>"
      ]
     },
     "execution_count": 14,
     "metadata": {},
     "output_type": "execute_result"
    },
    {
     "data": {
      "image/png": "[encoded data removed]",
      "text/plain": [
       "<matplotlib.figure.Figure at 0x1a21942940>"
      ]
     },
     "metadata": {},
     "output_type": "display_data"
    }
   ],
   "source": [
    "sns.pairplot(X, x_vars=['Raw activity data'], y_vars='Index activity value', size=7, aspect=0.7, kind='reg')"
   ]
  }
 ],
 "metadata": {
  "kernelspec": {
   "display_name": "Python 3",
   "language": "python",
   "name": "python3"
  },
  "language_info": {
   "codemirror_mode": {
    "name": "ipython",
    "version": 3
   },
   "file_extension": ".py",
   "mimetype": "text/x-python",
   "name": "python",
   "nbconvert_exporter": "python",
   "pygments_lexer": "ipython3",
   "version": "3.6.4"
  }
 },
 "nbformat": 4,
 "nbformat_minor": 2
}
