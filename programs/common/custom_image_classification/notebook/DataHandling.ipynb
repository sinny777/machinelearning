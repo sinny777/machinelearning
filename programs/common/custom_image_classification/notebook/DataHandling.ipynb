{
 "cells": [
  {
   "cell_type": "code",
   "execution_count": null,
   "metadata": {},
   "outputs": [],
   "source": [
    "# !pip install pandas\n",
    "# !pip install numpy"
   ]
  },
  {
   "cell_type": "code",
   "execution_count": 17,
   "metadata": {},
   "outputs": [],
   "source": [
    "import pandas as pd\n",
    "import numpy as np\n",
    "import random\n",
    "import re\n",
    "import json\n",
    "import os\n",
    "import shutil"
   ]
  },
  {
   "cell_type": "code",
   "execution_count": 18,
   "metadata": {},
   "outputs": [
    {
     "data": {
      "text/html": [
       "<div>\n",
       "<style scoped>\n",
       "    .dataframe tbody tr th:only-of-type {\n",
       "        vertical-align: middle;\n",
       "    }\n",
       "\n",
       "    .dataframe tbody tr th {\n",
       "        vertical-align: top;\n",
       "    }\n",
       "\n",
       "    .dataframe thead th {\n",
       "        text-align: right;\n",
       "    }\n",
       "</style>\n",
       "<table border=\"1\" class=\"dataframe\">\n",
       "  <thead>\n",
       "    <tr style=\"text-align: right;\">\n",
       "      <th></th>\n",
       "      <th>image</th>\n",
       "      <th>class</th>\n",
       "      <th>subset</th>\n",
       "    </tr>\n",
       "  </thead>\n",
       "  <tbody>\n",
       "    <tr>\n",
       "      <th>0</th>\n",
       "      <td>image/0.jpeg</td>\n",
       "      <td>unknown</td>\n",
       "      <td>T</td>\n",
       "    </tr>\n",
       "    <tr>\n",
       "      <th>1</th>\n",
       "      <td>image/1.jpeg</td>\n",
       "      <td>head_lamp</td>\n",
       "      <td>T</td>\n",
       "    </tr>\n",
       "    <tr>\n",
       "      <th>2</th>\n",
       "      <td>image/2.jpeg</td>\n",
       "      <td>door_scratch</td>\n",
       "      <td>T</td>\n",
       "    </tr>\n",
       "    <tr>\n",
       "      <th>3</th>\n",
       "      <td>image/3.jpeg</td>\n",
       "      <td>head_lamp</td>\n",
       "      <td>T</td>\n",
       "    </tr>\n",
       "    <tr>\n",
       "      <th>4</th>\n",
       "      <td>image/4.jpeg</td>\n",
       "      <td>unknown</td>\n",
       "      <td>T</td>\n",
       "    </tr>\n",
       "  </tbody>\n",
       "</table>\n",
       "</div>"
      ],
      "text/plain": [
       "          image         class subset\n",
       "0  image/0.jpeg       unknown      T\n",
       "1  image/1.jpeg     head_lamp      T\n",
       "2  image/2.jpeg  door_scratch      T\n",
       "3  image/3.jpeg     head_lamp      T\n",
       "4  image/4.jpeg       unknown      T"
      ]
     },
     "execution_count": 18,
     "metadata": {},
     "output_type": "execute_result"
    }
   ],
   "source": [
    "PATH = '../data/preprocessed'\n",
    "index_file = os.path.join(PATH, 'index.csv')\n",
    "df = pd.read_csv(index_file, header=0, delimiter=\",\")\n",
    "df.head()"
   ]
  },
  {
   "cell_type": "code",
   "execution_count": 19,
   "metadata": {},
   "outputs": [
    {
     "data": {
      "text/plain": [
       "T    0.799875\n",
       "V    0.200125\n",
       "Name: subset, dtype: float64"
      ]
     },
     "execution_count": 19,
     "metadata": {},
     "output_type": "execute_result"
    }
   ],
   "source": [
    "# df['subset'].unique()\n",
    "df['subset'].value_counts(normalize=True)"
   ]
  },
  {
   "cell_type": "code",
   "execution_count": 20,
   "metadata": {},
   "outputs": [],
   "source": [
    "train_dir = os.path.join(PATH, 'train')\n",
    "val_dir = os.path.join(PATH, 'validation')\n",
    "if not os.path.exists(train_dir):\n",
    "        os.makedirs(train_dir)\n",
    "if not os.path.exists(val_dir):\n",
    "        os.makedirs(val_dir)"
   ]
  },
  {
   "cell_type": "code",
   "execution_count": 24,
   "metadata": {},
   "outputs": [],
   "source": [
    "for ind in df.index: \n",
    "#     print(df['image'][ind], df['class'][ind], df['subset'][ind])\n",
    "    if df['subset'][ind] == 'T':\n",
    "        class_label = os.path.join(train_dir, df['class'][ind])\n",
    "        if not os.path.exists(class_label):\n",
    "            os.makedirs(class_label)\n",
    "    elif df['subset'][ind] == 'V':\n",
    "        class_label = os.path.join(val_dir, df['class'][ind])\n",
    "        if not os.path.exists(class_label):\n",
    "            os.makedirs(class_label)\n",
    "#     os.rename(source, destination)\n",
    "    source = os.path.join(PATH, df['image'][ind])\n",
    "    destination = os.path.join(class_label, df['image'][ind])\n",
    "    destination = destination.replace('/image', '')\n",
    "#     print('Source: ', source, ' to Destination: ', destination)\n",
    "    shutil.copyfile(source, destination)\n",
    "    "
   ]
  },
  {
   "cell_type": "code",
   "execution_count": null,
   "metadata": {},
   "outputs": [],
   "source": [
    "# len(list(os.walk(PATH)))\n",
    "train_directories = os.listdir(train_dir)\n",
    "classes = []\n",
    "train_dirs = []\n",
    "validation_dirs = []\n",
    "total_train = 0\n",
    "total_val = 0\n",
    "for name in files:\n",
    "    full_path = os.path.join(train_dir, name)\n",
    "    inode = os.stat(full_path)\n",
    "    if os.path.isdir(full_path):\n",
    "        classes.append(name)\n",
    "        train_dirs.append(os.path.join(train_dir, name))\n",
    "        validation_dirs.append(os.path.join(validation_dir, name))\n",
    "        total_train = total_train + len(os.listdir(os.path.join(train_dir, name)))\n",
    "        total_val = total_val + len(os.listdir(os.path.join(validation_dir, name)))\n",
    "\n",
    "print(train_dirs)\n",
    "print(validation_dirs)   \n",
    "print(total_train)\n",
    "print(total_val)"
   ]
  }
 ],
 "metadata": {
  "kernelspec": {
   "display_name": "Python 3",
   "language": "python",
   "name": "python3"
  },
  "language_info": {
   "codemirror_mode": {
    "name": "ipython",
    "version": 3
   },
   "file_extension": ".py",
   "mimetype": "text/x-python",
   "name": "python",
   "nbconvert_exporter": "python",
   "pygments_lexer": "ipython3",
   "version": "3.7.6"
  }
 },
 "nbformat": 4,
 "nbformat_minor": 4
}
