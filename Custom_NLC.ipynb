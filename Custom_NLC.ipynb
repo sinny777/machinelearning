{
    "nbformat_minor": 1, 
    "cells": [
        {
            "execution_count": 1, 
            "cell_type": "code", 
            "metadata": {}, 
            "outputs": [
                {
                    "output_type": "stream", 
                    "name": "stdout", 
                    "text": "Requirement not upgraded as not directly required: ibm-cos-sdk in /opt/conda/envs/DSX-Python35/lib/python3.5/site-packages\nRequirement not upgraded as not directly required: ibm-cos-sdk-s3transfer==2.*,>=2.0.0 in /opt/conda/envs/DSX-Python35/lib/python3.5/site-packages (from ibm-cos-sdk)\nRequirement not upgraded as not directly required: ibm-cos-sdk-core==2.*,>=2.0.0 in /opt/conda/envs/DSX-Python35/lib/python3.5/site-packages (from ibm-cos-sdk)\nRequirement not upgraded as not directly required: docutils>=0.10 in /opt/conda/envs/DSX-Python35/lib/python3.5/site-packages (from ibm-cos-sdk-core==2.*,>=2.0.0->ibm-cos-sdk)\nRequirement not upgraded as not directly required: jmespath<1.0.0,>=0.7.1 in /opt/conda/envs/DSX-Python35/lib/python3.5/site-packages (from ibm-cos-sdk-core==2.*,>=2.0.0->ibm-cos-sdk)\nRequirement not upgraded as not directly required: python-dateutil<3.0.0,>=2.1 in /opt/conda/envs/DSX-Python35/lib/python3.5/site-packages (from ibm-cos-sdk-core==2.*,>=2.0.0->ibm-cos-sdk)\nRequirement not upgraded as not directly required: six>=1.5 in /opt/conda/envs/DSX-Python35/lib/python3.5/site-packages (from python-dateutil<3.0.0,>=2.1->ibm-cos-sdk-core==2.*,>=2.0.0->ibm-cos-sdk)\n"
                }
            ], 
            "source": "# Run the command if ibm_boto3 is not installed.\n!pip install ibm-cos-sdk"
        }, 
        {
            "execution_count": 2, 
            "cell_type": "code", 
            "metadata": {}, 
            "outputs": [], 
            "source": "# Install the boto library.\nimport ibm_boto3\nfrom ibm_botocore.client import Config"
        }, 
        {
            "execution_count": 3, 
            "cell_type": "code", 
            "metadata": {}, 
            "outputs": [], 
            "source": "# The code was removed by DSX for sharing."
        }, 
        {
            "execution_count": 4, 
            "cell_type": "code", 
            "metadata": {}, 
            "outputs": [], 
            "source": "# Define endpoint information.# Define endpoint information.\nservice_endpoint = 'https://s3-api.us-geo.objectstorage.softlayer.net'\n"
        }, 
        {
            "execution_count": 5, 
            "cell_type": "code", 
            "metadata": {}, 
            "outputs": [], 
            "source": "# Define the authorization endpoint.\nauth_endpoint = 'https://iam.bluemix.net/oidc/token'"
        }, 
        {
            "execution_count": 6, 
            "cell_type": "code", 
            "metadata": {}, 
            "outputs": [], 
            "source": "# Create a COS resource.\ncos = ibm_boto3.resource('s3',\n                         ibm_api_key_id=cos_credentials['apikey'],\n                         ibm_service_instance_id=cos_credentials['resource_instance_id'],\n                         ibm_auth_endpoint=auth_endpoint,\n                         config=Config(signature_version='oauth'),\n                         endpoint_url=service_endpoint)"
        }, 
        {
            "execution_count": 7, 
            "cell_type": "code", 
            "metadata": {}, 
            "outputs": [
                {
                    "output_type": "stream", 
                    "name": "stdout", 
                    "text": "Creating bucket \"training-data-b142d891-5901-4cd0-a83c-9dbe9a19c6ac\"...\nCreating bucket \"training-results-b142d891-5901-4cd0-a83c-9dbe9a19c6ac\"...\n"
                }
            ], 
            "source": "from uuid import uuid4\n\nbucket_uid = str(uuid4())\nbuckets = ['training-data-' + bucket_uid, 'training-results-' + bucket_uid]\n\nfor bucket in buckets:\n    if not cos.Bucket(bucket) in cos.buckets.all():\n        print('Creating bucket \"{}\"...'.format(bucket))\n        try:\n            cos.create_bucket(Bucket=bucket)\n        except ibm_boto3.exceptions.ibm_botocore.client.ClientError as e:\n            print('Error: {}.'.format(e.response['Error']['Message']))"
        }, 
        {
            "execution_count": 8, 
            "cell_type": "code", 
            "metadata": {}, 
            "outputs": [
                {
                    "output_type": "stream", 
                    "name": "stdout", 
                    "text": "[s3.Bucket(name='cowactivities-donotdelete-pr-ypzouqobqc7xp3'), s3.Bucket(name='myml-donotdelete-pr-zhsoop3fasxh7h'), s3.Bucket(name='mymlcatalog-datacatalog-hj9volj77'), s3.Bucket(name='training-data-b142d891-5901-4cd0-a83c-9dbe9a19c6ac'), s3.Bucket(name='training-results-b142d891-5901-4cd0-a83c-9dbe9a19c6ac')]\n"
                }
            ], 
            "source": "# Display a list of created buckets.\nprint(list(cos.buckets.all()))"
        }, 
        {
            "execution_count": 9, 
            "cell_type": "code", 
            "metadata": {}, 
            "outputs": [], 
            "source": "# Create a list of links.\ndata_links = ['https://raw.githubusercontent.com/sinny777/hukam/master/machinelearning/tf-nlc-model/data/data.csv']"
        }, 
        {
            "execution_count": 10, 
            "cell_type": "code", 
            "metadata": {}, 
            "outputs": [
                {
                    "output_type": "stream", 
                    "name": "stdout", 
                    "text": "Uploading data data.csv...\ndata.csv is uploaded.\n"
                }
            ], 
            "source": "# Upload files from the links to COS\nfrom urllib.request import urlopen\n\nbucket_obj = cos.Bucket(buckets[0])\n\nfor data_link in data_links:\n    filename=data_link.split('/')[-1]\n    print('Uploading data {}...'.format(filename))\n    with urlopen(data_link) as data:\n        bucket_obj.upload_fileobj(data, filename)\n        print('{} is uploaded.'.format(filename))"
        }, 
        {
            "execution_count": 11, 
            "cell_type": "code", 
            "metadata": {}, 
            "outputs": [
                {
                    "output_type": "stream", 
                    "name": "stdout", 
                    "text": "training-data-b142d891-5901-4cd0-a83c-9dbe9a19c6ac\n  File: data.csv, 81.51kB\ntraining-results-b142d891-5901-4cd0-a83c-9dbe9a19c6ac\n"
                }
            ], 
            "source": "for bucket_name in buckets:\n    print(bucket_name)\n    bucket_obj = cos.Bucket(bucket_name)\n    for obj in bucket_obj.objects.all():\n        print(\"  File: {}, {:4.2f}kB\".format(obj.key, obj.size/1024))"
        }, 
        {
            "execution_count": 14, 
            "cell_type": "code", 
            "metadata": {}, 
            "outputs": [
                {
                    "output_type": "stream", 
                    "name": "stdout", 
                    "text": "Collecting wget\n  Downloading https://files.pythonhosted.org/packages/47/6a/62e288da7bcda82b935ff0c6cfe542970f04e29c756b0e147251b2fb251f/wget-3.2.zip\nBuilding wheels for collected packages: wget\n  Running setup.py bdist_wheel for wget ... \u001b[?25ldone\n\u001b[?25h  Stored in directory: /home/dsxuser/.cache/pip/wheels/40/15/30/7d8f7cea2902b4db79e3fea550d7d7b85ecb27ef992b618f3f\nSuccessfully built wget\nInstalling collected packages: wget\nSuccessfully installed wget-3.2\n"
                }
            ], 
            "source": "!pip install wget"
        }, 
        {
            "execution_count": 15, 
            "cell_type": "code", 
            "metadata": {}, 
            "outputs": [], 
            "source": "import urllib3, requests, json, base64, time, os, wget"
        }, 
        {
            "execution_count": 16, 
            "cell_type": "code", 
            "metadata": {}, 
            "outputs": [], 
            "source": "wml_credentials={\n  \"apikey\": \"EKdQXYsbnxwU6q87GcWNmsc4LT9YS-vpfRo3SBZrOajK\",\n  \"iam_apikey_description\": \"Auto generated apikey during resource-key operation for Instance - crn:v1:bluemix:public:pm-20:us-south:a/2c303e22de2b34062121bab41b176b1b:e7e44faf-ff8d-4183-9f37-434e2dcd6852::\",\n  \"iam_apikey_name\": \"auto-generated-apikey-b04151e7-5925-4d4e-b486-c27a83dd42cf\",\n  \"iam_role_crn\": \"crn:v1:bluemix:public:iam::::serviceRole:Writer\",\n  \"iam_serviceid_crn\": \"crn:v1:bluemix:public:iam-identity::a/2c303e22de2b34062121bab41b176b1b::serviceid:ServiceId-7d76e768-9772-4db4-b0c7-8fcfbd2bb05a\",\n  \"instance_id\": \"e7e44faf-ff8d-4183-9f37-434e2dcd6852\",\n  \"password\": \"a415f1a4-38a3-4c74-9815-09cfc7791339\",\n  \"url\": \"https://ibm-watson-ml.mybluemix.net\",\n  \"username\": \"b04151e7-5925-4d4e-b486-c27a83dd42cf\"\n}"
        }, 
        {
            "execution_count": 17, 
            "cell_type": "code", 
            "metadata": {}, 
            "outputs": [], 
            "source": "!rm -rf $PIP_BUILD/watson-machine-learning-client"
        }, 
        {
            "execution_count": 18, 
            "cell_type": "code", 
            "metadata": {}, 
            "outputs": [
                {
                    "output_type": "stream", 
                    "name": "stdout", 
                    "text": "Collecting watson-machine-learning-client\n  Downloading https://files.pythonhosted.org/packages/c7/3d/c4e19567fcac15e6aec032b0e1113634793f90081ccd6d6e0a5329fbbc6a/watson_machine_learning_client-1.0.283-py3-none-any.whl (1.0MB)\n\u001b[K    100% |\u2588\u2588\u2588\u2588\u2588\u2588\u2588\u2588\u2588\u2588\u2588\u2588\u2588\u2588\u2588\u2588\u2588\u2588\u2588\u2588\u2588\u2588\u2588\u2588\u2588\u2588\u2588\u2588\u2588\u2588\u2588\u2588| 1.0MB 1.0MB/s eta 0:00:01\n\u001b[?25hRequirement not upgraded as not directly required: tqdm in /opt/conda/envs/DSX-Python35/lib/python3.5/site-packages (from watson-machine-learning-client)\nRequirement not upgraded as not directly required: urllib3 in /opt/conda/envs/DSX-Python35/lib/python3.5/site-packages (from watson-machine-learning-client)\nRequirement not upgraded as not directly required: certifi in /opt/conda/envs/DSX-Python35/lib/python3.5/site-packages (from watson-machine-learning-client)\nRequirement not upgraded as not directly required: tabulate in /opt/conda/envs/DSX-Python35/lib/python3.5/site-packages (from watson-machine-learning-client)\nRequirement not upgraded as not directly required: ibm-cos-sdk in /opt/conda/envs/DSX-Python35/lib/python3.5/site-packages (from watson-machine-learning-client)\nRequirement not upgraded as not directly required: lomond in /opt/conda/envs/DSX-Python35/lib/python3.5/site-packages (from watson-machine-learning-client)\nRequirement not upgraded as not directly required: pandas in /opt/conda/envs/DSX-Python35/lib/python3.5/site-packages (from watson-machine-learning-client)\nRequirement not upgraded as not directly required: requests in /opt/conda/envs/DSX-Python35/lib/python3.5/site-packages (from watson-machine-learning-client)\nRequirement not upgraded as not directly required: ibm-cos-sdk-core==2.*,>=2.0.0 in /opt/conda/envs/DSX-Python35/lib/python3.5/site-packages (from ibm-cos-sdk->watson-machine-learning-client)\nRequirement not upgraded as not directly required: ibm-cos-sdk-s3transfer==2.*,>=2.0.0 in /opt/conda/envs/DSX-Python35/lib/python3.5/site-packages (from ibm-cos-sdk->watson-machine-learning-client)\nRequirement not upgraded as not directly required: six>=1.10.0 in /opt/conda/envs/DSX-Python35/lib/python3.5/site-packages (from lomond->watson-machine-learning-client)\nRequirement not upgraded as not directly required: python-dateutil>=2 in /opt/conda/envs/DSX-Python35/lib/python3.5/site-packages (from pandas->watson-machine-learning-client)\nRequirement not upgraded as not directly required: pytz>=2011k in /opt/conda/envs/DSX-Python35/lib/python3.5/site-packages (from pandas->watson-machine-learning-client)\nRequirement not upgraded as not directly required: numpy>=1.9.0 in /opt/conda/envs/DSX-Python35/lib/python3.5/site-packages (from pandas->watson-machine-learning-client)\nRequirement not upgraded as not directly required: chardet<3.1.0,>=3.0.2 in /opt/conda/envs/DSX-Python35/lib/python3.5/site-packages (from requests->watson-machine-learning-client)\nRequirement not upgraded as not directly required: idna<2.7,>=2.5 in /opt/conda/envs/DSX-Python35/lib/python3.5/site-packages (from requests->watson-machine-learning-client)\nRequirement not upgraded as not directly required: docutils>=0.10 in /opt/conda/envs/DSX-Python35/lib/python3.5/site-packages (from ibm-cos-sdk-core==2.*,>=2.0.0->ibm-cos-sdk->watson-machine-learning-client)\nRequirement not upgraded as not directly required: jmespath<1.0.0,>=0.7.1 in /opt/conda/envs/DSX-Python35/lib/python3.5/site-packages (from ibm-cos-sdk-core==2.*,>=2.0.0->ibm-cos-sdk->watson-machine-learning-client)\nInstalling collected packages: watson-machine-learning-client\n  Found existing installation: watson-machine-learning-client 1.0.241\n    Uninstalling watson-machine-learning-client-1.0.241:\n      Successfully uninstalled watson-machine-learning-client-1.0.241\nSuccessfully installed watson-machine-learning-client-1.0.283\n"
                }
            ], 
            "source": "!pip install watson-machine-learning-client --upgrade"
        }, 
        {
            "execution_count": 19, 
            "cell_type": "code", 
            "metadata": {}, 
            "outputs": [
                {
                    "output_type": "stream", 
                    "name": "stderr", 
                    "text": "2018-07-28 13:02:26,090 - watson_machine_learning_client.metanames - WARNING - 'AUTHOR_EMAIL' meta prop is deprecated. It will be ignored.\n2018-07-28 13:02:39,600 - watson_machine_learning_client.metanames - WARNING - 'AUTHOR_EMAIL' meta prop is deprecated. It will be ignored.\n2018-07-28 13:11:16,658 - watson_machine_learning_client.metanames - WARNING - 'AUTHOR_EMAIL' meta prop is deprecated. It will be ignored.\n2018-07-28 13:11:27,833 - watson_machine_learning_client.metanames - WARNING - 'AUTHOR_EMAIL' meta prop is deprecated. It will be ignored.\n2018-07-28 13:13:38,235 - lomond - WARNING - disconnecting websocket\n2018-07-28 13:13:38,236 - lomond - ERROR - error in websocket loop\nTraceback (most recent call last):\n  File \"/opt/conda/envs/DSX-Python35/lib/python3.5/site-packages/lomond/session.py\", line 344, in run\n    close_timeout):\n  File \"/opt/conda/envs/DSX-Python35/lib/python3.5/site-packages/lomond/session.py\", line 261, in _feed\n    poll, ping_rate, ping_timeout, close_timeout):\n  File \"/opt/conda/envs/DSX-Python35/lib/python3.5/site-packages/lomond/session.py\", line 241, in _regular\n    if self._check_poll(poll):\n  File \"/opt/conda/envs/DSX-Python35/lib/python3.5/site-packages/lomond/session.py\", line 178, in _check_poll\n    current_time = self._time\n  File \"/opt/conda/envs/DSX-Python35/lib/python3.5/site-packages/lomond/session.py\", line 49, in _time\n    return time.time() - self._start_time\nTypeError: unsupported operand type(s) for -: 'float' and 'NoneType'\n2018-07-28 13:15:30,359 - lomond - WARNING - disconnecting websocket\n2018-07-28 13:15:30,360 - lomond - ERROR - error in websocket loop\nTraceback (most recent call last):\n  File \"/opt/conda/envs/DSX-Python35/lib/python3.5/site-packages/lomond/session.py\", line 344, in run\n    close_timeout):\n  File \"/opt/conda/envs/DSX-Python35/lib/python3.5/site-packages/lomond/session.py\", line 261, in _feed\n    poll, ping_rate, ping_timeout, close_timeout):\n  File \"/opt/conda/envs/DSX-Python35/lib/python3.5/site-packages/lomond/session.py\", line 241, in _regular\n    if self._check_poll(poll):\n  File \"/opt/conda/envs/DSX-Python35/lib/python3.5/site-packages/lomond/session.py\", line 178, in _check_poll\n    current_time = self._time\n  File \"/opt/conda/envs/DSX-Python35/lib/python3.5/site-packages/lomond/session.py\", line 49, in _time\n    return time.time() - self._start_time\nTypeError: unsupported operand type(s) for -: 'float' and 'NoneType'\n2018-07-28 13:15:59,258 - lomond - WARNING - disconnecting websocket\n2018-07-28 13:15:59,258 - lomond - ERROR - error in websocket loop\nTraceback (most recent call last):\n  File \"/opt/conda/envs/DSX-Python35/lib/python3.5/site-packages/lomond/session.py\", line 344, in run\n    close_timeout):\n  File \"/opt/conda/envs/DSX-Python35/lib/python3.5/site-packages/lomond/session.py\", line 261, in _feed\n    poll, ping_rate, ping_timeout, close_timeout):\n  File \"/opt/conda/envs/DSX-Python35/lib/python3.5/site-packages/lomond/session.py\", line 241, in _regular\n    if self._check_poll(poll):\n  File \"/opt/conda/envs/DSX-Python35/lib/python3.5/site-packages/lomond/session.py\", line 178, in _check_poll\n    current_time = self._time\n  File \"/opt/conda/envs/DSX-Python35/lib/python3.5/site-packages/lomond/session.py\", line 49, in _time\n    return time.time() - self._start_time\nTypeError: unsupported operand type(s) for -: 'float' and 'NoneType'\n2018-07-28 13:17:34,547 - watson_machine_learning_client.metanames - WARNING - 'AUTHOR_EMAIL' meta prop is deprecated. It will be ignored.\n"
                }
            ], 
            "source": "from watson_machine_learning_client import WatsonMachineLearningAPIClient"
        }, 
        {
            "execution_count": 20, 
            "cell_type": "code", 
            "metadata": {}, 
            "outputs": [], 
            "source": "client = WatsonMachineLearningAPIClient(wml_credentials)"
        }, 
        {
            "execution_count": 21, 
            "cell_type": "code", 
            "metadata": {}, 
            "outputs": [
                {
                    "output_type": "stream", 
                    "name": "stdout", 
                    "text": "1.0.241\n"
                }
            ], 
            "source": "# Display the client version number.\nprint(client.version)"
        }, 
        {
            "execution_count": 22, 
            "cell_type": "code", 
            "metadata": {}, 
            "outputs": [], 
            "source": "model_definition_metadata = {\n            client.repository.DefinitionMetaNames.NAME: \"My NLC Model definition name\",\n            client.repository.DefinitionMetaNames.DESCRIPTION: \"My NLC Model description\",\n            client.repository.DefinitionMetaNames.AUTHOR_NAME: \"Gurvinder Singh\",\n            client.repository.DefinitionMetaNames.FRAMEWORK_NAME: \"tensorflow\",\n            client.repository.DefinitionMetaNames.FRAMEWORK_VERSION: \"1.5\",\n            client.repository.DefinitionMetaNames.RUNTIME_NAME: \"python\",\n            client.repository.DefinitionMetaNames.RUNTIME_VERSION: \"3.5\",\n            client.repository.DefinitionMetaNames.EXECUTION_COMMAND: \"python3 tf-nlc-model/tensorflow_nlc_softmax.py --training_iters 200\"\n            }"
        }, 
        {
            "execution_count": 37, 
            "cell_type": "code", 
            "metadata": {}, 
            "outputs": [], 
            "source": "!rm -rf tf-nlc-model.zip"
        }, 
        {
            "execution_count": 38, 
            "cell_type": "code", 
            "metadata": {}, 
            "outputs": [
                {
                    "output_type": "stream", 
                    "name": "stdout", 
                    "text": "tf-nlc-model.zip\n"
                }
            ], 
            "source": "filename='tf-nlc-model.zip'\n\nif not os.path.isfile(filename):\n    filename = wget.download('https://github.com/sinny777/hukam/raw/master/machinelearning/tf-nlc-model.zip')\n    \nprint(filename)"
        }, 
        {
            "execution_count": 39, 
            "cell_type": "code", 
            "metadata": {}, 
            "outputs": [], 
            "source": "definition_details = client.repository.store_definition(filename, model_definition_metadata)"
        }, 
        {
            "execution_count": 40, 
            "cell_type": "code", 
            "metadata": {}, 
            "outputs": [], 
            "source": "definition_uid = client.repository.get_definition_uid(definition_details)"
        }, 
        {
            "execution_count": 41, 
            "cell_type": "code", 
            "metadata": {}, 
            "outputs": [
                {
                    "output_type": "stream", 
                    "name": "stdout", 
                    "text": "84ff932c-5976-4dd8-8e7c-95cd7d687849\n"
                }
            ], 
            "source": "# Display the training definition uid.\nprint(definition_uid)"
        }, 
        {
            "execution_count": 42, 
            "cell_type": "code", 
            "metadata": {}, 
            "outputs": [], 
            "source": "# Configure the training metadata for the TRAINING_DATA_REFERENCE and TRAINING_RESULTS_REFERENCE.\ntraining_configuration_metadata = {\n            client.training.ConfigurationMetaNames.NAME: \"My Custom NLC Model\", \n            client.training.ConfigurationMetaNames.AUTHOR_NAME: \"Gurvinder Singh\",              \n            client.training.ConfigurationMetaNames.DESCRIPTION: \"My Custom NLC Mode training\",\n            client.training.ConfigurationMetaNames.COMPUTE_CONFIGURATION: {\"name\": \"k80\"},\n            client.training.ConfigurationMetaNames.TRAINING_DATA_REFERENCE: {\n                    \"connection\": {\n                        \"endpoint_url\": service_endpoint,\n                        \"aws_access_key_id\": cos_credentials['cos_hmac_keys']['access_key_id'],\n                        \"aws_secret_access_key\": cos_credentials['cos_hmac_keys']['secret_access_key']\n                    },\n                    \"source\": {\n                        \"bucket\": buckets[0],\n                    },\n                    \"type\": \"s3\"\n                },\n            client.training.ConfigurationMetaNames.TRAINING_RESULTS_REFERENCE: {\n                \"connection\": {\n                    \"endpoint_url\": service_endpoint,\n                    \"aws_access_key_id\": cos_credentials['cos_hmac_keys']['access_key_id'],\n                    \"aws_secret_access_key\": cos_credentials['cos_hmac_keys']['secret_access_key']\n                },\n                \"target\": {\n                    \"bucket\": buckets[1],\n                },\n                \"type\": \"s3\"\n            },\n        }"
        }, 
        {
            "execution_count": 43, 
            "cell_type": "code", 
            "metadata": {}, 
            "outputs": [], 
            "source": "training_run_details = client.training.run(definition_uid, training_configuration_metadata)"
        }, 
        {
            "execution_count": 44, 
            "cell_type": "code", 
            "metadata": {}, 
            "outputs": [], 
            "source": "training_run_guid_async = client.training.get_run_uid(training_run_details)"
        }, 
        {
            "execution_count": 52, 
            "cell_type": "code", 
            "metadata": {}, 
            "outputs": [
                {
                    "output_type": "stream", 
                    "name": "stdout", 
                    "text": "{\n  \"current_at\": \"2018-07-28T13:15:34Z\",\n  \"finished_at\": \"2018-07-28T13:15:33Z\",\n  \"state\": \"completed\",\n  \"running_at\": \"2018-07-28T13:12:33Z\",\n  \"metrics\": [],\n  \"submitted_at\": \"2018-07-28T13:11:30Z\"\n}\n"
                }
            ], 
            "source": "# Get training run status.\nstatus = client.training.get_status(training_run_guid_async)\nprint(json.dumps(status, indent=2))"
        }, 
        {
            "execution_count": 53, 
            "cell_type": "code", 
            "metadata": {}, 
            "outputs": [
                {
                    "output_type": "stream", 
                    "name": "stdout", 
                    "text": "\n\n########################################################\n\nLog monitor started for training run: training-w8G0HaFig\n\n########################################################\n\n\n\n\n-----------------\nLog monitor done.\n-----------------\n\n\n"
                }
            ], 
            "source": "client.training.monitor_logs(training_run_guid_async)"
        }, 
        {
            "execution_count": null, 
            "cell_type": "code", 
            "metadata": {}, 
            "outputs": [], 
            "source": "# client.training.cancel(training_run_guid_async)"
        }, 
        {
            "execution_count": 54, 
            "cell_type": "code", 
            "metadata": {}, 
            "outputs": [], 
            "source": "saved_model_details = client.repository.store_model(training_run_guid_async, {\"name\": \"My NLC Car Model\"})"
        }, 
        {
            "execution_count": 55, 
            "cell_type": "code", 
            "metadata": {}, 
            "outputs": [
                {
                    "output_type": "stream", 
                    "name": "stdout", 
                    "text": "Url: https://us-south.ml.cloud.ibm.com/v3/ml_assets/models/22b2c2f4-7041-4d50-a3f1-6a4bde68c3c1\n"
                }
            ], 
            "source": "# Display location of saved model.\nprint(\"Url: \" + client.repository.get_model_url(saved_model_details))"
        }, 
        {
            "execution_count": 56, 
            "cell_type": "code", 
            "metadata": {}, 
            "outputs": [
                {
                    "output_type": "stream", 
                    "name": "stdout", 
                    "text": "Saved model uid: 22b2c2f4-7041-4d50-a3f1-6a4bde68c3c1\n"
                }
            ], 
            "source": "# Get and display model uid.\nmodel_uid = client.repository.get_model_uid(saved_model_details)\nprint(\"Saved model uid: \" + model_uid)"
        }, 
        {
            "execution_count": 57, 
            "cell_type": "code", 
            "metadata": {}, 
            "outputs": [
                {
                    "output_type": "stream", 
                    "name": "stdout", 
                    "text": "------------------------------------  ----------------  ------------------------  --------------\nGUID                                  NAME              CREATED                   FRAMEWORK\n22b2c2f4-7041-4d50-a3f1-6a4bde68c3c1  My NLC Car Model  2018-07-28T13:17:35.312Z  tensorflow-1.5\n------------------------------------  ----------------  ------------------------  --------------\n"
                }
            ], 
            "source": "client.repository.list_models()"
        }, 
        {
            "execution_count": 58, 
            "cell_type": "code", 
            "metadata": {}, 
            "outputs": [
                {
                    "output_type": "stream", 
                    "name": "stdout", 
                    "text": "\n\n#######################################################################################\n\nSynchronous deployment creation for uid: '22b2c2f4-7041-4d50-a3f1-6a4bde68c3c1' started\n\n#######################################################################################\n\n\nINITIALIZING\nDEPLOY_IN_PROGRESS.\nDEPLOY_SUCCESS\n\n\n------------------------------------------------------------------------------------------------\nSuccessfully finished deployment creation, deployment_uid='9ed7fe34-d927-4111-8b95-0e72a3bde6f8'\n------------------------------------------------------------------------------------------------\n\n\n"
                }
            ], 
            "source": "# Create online deployment.\ndeployment_details = client.deployments.create(model_uid, \"My NLC Car model deployment\")"
        }, 
        {
            "execution_count": 59, 
            "cell_type": "code", 
            "metadata": {}, 
            "outputs": [
                {
                    "output_type": "stream", 
                    "name": "stdout", 
                    "text": "https://ibm-watson-ml.mybluemix.net/v3/wml_instances/e7e44faf-ff8d-4183-9f37-434e2dcd6852/deployments/9ed7fe34-d927-4111-8b95-0e72a3bde6f8/online\n"
                }
            ], 
            "source": "#  Extract endpoint url and display it.\nscoring_url = client.deployments.get_scoring_url(deployment_details)\nprint(scoring_url)"
        }
    ], 
    "metadata": {
        "kernelspec": {
            "display_name": "Python 3.5", 
            "name": "python3", 
            "language": "python"
        }, 
        "language_info": {
            "mimetype": "text/x-python", 
            "nbconvert_exporter": "python", 
            "version": "3.5.5", 
            "name": "python", 
            "file_extension": ".py", 
            "pygments_lexer": "ipython3", 
            "codemirror_mode": {
                "version": 3, 
                "name": "ipython"
            }
        }
    }, 
    "nbformat": 4
}