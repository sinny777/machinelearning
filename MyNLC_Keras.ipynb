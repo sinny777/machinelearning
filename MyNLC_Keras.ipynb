{
    "nbformat_minor": 2, 
    "cells": [
        {
            "source": "#### Useful Links: \n  * [Watson Nao Robot Notebook](https://github.com/IBM/watson-nao-robot/blob/master/Notebook/Robo_Notebook.ipynb)\n  * [Watson Document Co-Relation](https://github.com/IBM/watson-document-co-relation)\n    ", 
            "cell_type": "markdown", 
            "metadata": {}
        }, 
        {
            "execution_count": 98, 
            "cell_type": "code", 
            "metadata": {}, 
            "outputs": [
                {
                    "output_type": "stream", 
                    "name": "stdout", 
                    "text": "1.3.0\n"
                }
            ], 
            "source": "import tensorflow as tf\nprint(tf.__version__)"
        }, 
        {
            "execution_count": 99, 
            "cell_type": "code", 
            "metadata": {}, 
            "outputs": [
                {
                    "output_type": "stream", 
                    "name": "stdout", 
                    "text": "Requirement not upgraded as not directly required: keras in /opt/conda/envs/DSX-Python35/lib/python3.5/site-packages\nRequirement not upgraded as not directly required: pyyaml in /opt/conda/envs/DSX-Python35/lib/python3.5/site-packages (from keras)\nRequirement not upgraded as not directly required: numpy>=1.9.1 in /opt/conda/envs/DSX-Python35/lib/python3.5/site-packages (from keras)\nRequirement not upgraded as not directly required: six>=1.9.0 in /opt/conda/envs/DSX-Python35/lib/python3.5/site-packages (from keras)\nRequirement not upgraded as not directly required: scipy>=0.14 in /opt/conda/envs/DSX-Python35/lib/python3.5/site-packages (from keras)\nRequirement already up-to-date: ibm-cos-sdk in /opt/conda/envs/DSX-Python35/lib/python3.5/site-packages\nRequirement not upgraded as not directly required: ibm-cos-sdk-core==2.*,>=2.0.0 in /opt/conda/envs/DSX-Python35/lib/python3.5/site-packages (from ibm-cos-sdk)\nRequirement not upgraded as not directly required: ibm-cos-sdk-s3transfer==2.*,>=2.0.0 in /opt/conda/envs/DSX-Python35/lib/python3.5/site-packages (from ibm-cos-sdk)\nRequirement not upgraded as not directly required: docutils>=0.10 in /opt/conda/envs/DSX-Python35/lib/python3.5/site-packages (from ibm-cos-sdk-core==2.*,>=2.0.0->ibm-cos-sdk)\nRequirement not upgraded as not directly required: jmespath<1.0.0,>=0.7.1 in /opt/conda/envs/DSX-Python35/lib/python3.5/site-packages (from ibm-cos-sdk-core==2.*,>=2.0.0->ibm-cos-sdk)\nRequirement not upgraded as not directly required: python-dateutil<3.0.0,>=2.1 in /opt/conda/envs/DSX-Python35/lib/python3.5/site-packages (from ibm-cos-sdk-core==2.*,>=2.0.0->ibm-cos-sdk)\nRequirement not upgraded as not directly required: six>=1.5 in /opt/conda/envs/DSX-Python35/lib/python3.5/site-packages (from python-dateutil<3.0.0,>=2.1->ibm-cos-sdk-core==2.*,>=2.0.0->ibm-cos-sdk)\nRequirement not upgraded as not directly required: tflearn in /opt/conda/envs/DSX-Python35/lib/python3.5/site-packages\nRequirement not upgraded as not directly required: six in /opt/conda/envs/DSX-Python35/lib/python3.5/site-packages (from tflearn)\nRequirement not upgraded as not directly required: numpy in /opt/conda/envs/DSX-Python35/lib/python3.5/site-packages (from tflearn)\nRequirement not upgraded as not directly required: Pillow in /opt/conda/envs/DSX-Python35/lib/python3.5/site-packages (from tflearn)\nRequirement not upgraded as not directly required: olefile in /opt/conda/envs/DSX-Python35/lib/python3.5/site-packages (from Pillow->tflearn)\nRequirement already up-to-date: nltk in /opt/conda/envs/DSX-Python35/lib/python3.5/site-packages\nRequirement not upgraded as not directly required: six in /opt/conda/envs/DSX-Python35/lib/python3.5/site-packages (from nltk)\n[nltk_data] Downloading package stopwords to\n[nltk_data]     /home/dsxuser/nltk_data...\n[nltk_data]   Package stopwords is already up-to-date!\n[nltk_data] Downloading package punkt to /home/dsxuser/nltk_data...\n[nltk_data]   Package punkt is already up-to-date!\n[nltk_data] Downloading package averaged_perceptron_tagger to\n[nltk_data]     /home/dsxuser/nltk_data...\n[nltk_data]   Package averaged_perceptron_tagger is already up-to-\n[nltk_data]       date!\n[nltk_data] Downloading package maxent_ne_chunker to\n[nltk_data]     /home/dsxuser/nltk_data...\n[nltk_data]   Package maxent_ne_chunker is already up-to-date!\n[nltk_data] Downloading package words to /home/dsxuser/nltk_data...\n[nltk_data]   Package words is already up-to-date!\nRequirement already up-to-date: socketIO_client_nexus in /opt/conda/envs/DSX-Python35/lib/python3.5/site-packages\nRequirement not upgraded as not directly required: websocket-client in /opt/conda/envs/DSX-Python35/lib/python3.5/site-packages (from socketIO_client_nexus)\nRequirement not upgraded as not directly required: requests>=2.7.0 in /opt/conda/envs/DSX-Python35/lib/python3.5/site-packages (from socketIO_client_nexus)\nRequirement not upgraded as not directly required: six in /opt/conda/envs/DSX-Python35/lib/python3.5/site-packages (from socketIO_client_nexus)\nRequirement not upgraded as not directly required: chardet<3.1.0,>=3.0.2 in /opt/conda/envs/DSX-Python35/lib/python3.5/site-packages (from requests>=2.7.0->socketIO_client_nexus)\nRequirement not upgraded as not directly required: idna<2.7,>=2.5 in /opt/conda/envs/DSX-Python35/lib/python3.5/site-packages (from requests>=2.7.0->socketIO_client_nexus)\nRequirement not upgraded as not directly required: urllib3<1.23,>=1.21.1 in /opt/conda/envs/DSX-Python35/lib/python3.5/site-packages (from requests>=2.7.0->socketIO_client_nexus)\nRequirement not upgraded as not directly required: certifi>=2017.4.17 in /opt/conda/envs/DSX-Python35/lib/python3.5/site-packages (from requests>=2.7.0->socketIO_client_nexus)\n"
                }
            ], 
            "source": "\n# INSTALL DEPENDENCIES\n# if(tf.__version__ == '1.9.0'):\n#     print(tf.__version__)\n# else:\n#     !pip install --upgrade tensorflow\n#     print(tf.__version__)\n\n!pip install keras\n!pip install -U ibm-cos-sdk\n!pip install tflearn\n!pip install --upgrade nltk\nimport nltk\nnltk.download('stopwords')\nnltk.download('punkt')\nnltk.download('averaged_perceptron_tagger')\nnltk.download('maxent_ne_chunker')\nnltk.download('words')\n\n!pip install -U socketIO_client_nexus\n  \nimport pandas as pd\nimport numpy as np\nimport random\n\nimport os.path\nfrom os import path\n\nfrom io import  StringIO\nimport requests\nimport json\nfrom datetime import datetime\nimport time\n\n# things we need for NLP\nimport nltk\nfrom nltk.cluster.util import cosine_distance\nfrom nltk import word_tokenize,sent_tokenize,ne_chunk\nfrom nltk.corpus import stopwords\nfrom nltk.stem.lancaster import LancasterStemmer\nstemmer = LancasterStemmer()\n\nimport sys\nimport types\nfrom botocore.client import Config\nimport ibm_boto3"
        }, 
        {
            "execution_count": 100, 
            "cell_type": "code", 
            "metadata": {}, 
            "outputs": [], 
            "source": "REMOTE = True"
        }, 
        {
            "execution_count": 101, 
            "cell_type": "code", 
            "metadata": {}, 
            "outputs": [], 
            "source": "# The code was removed by DSX for sharing."
        }, 
        {
            "execution_count": 102, 
            "cell_type": "code", 
            "metadata": {}, 
            "outputs": [], 
            "source": "# The following code contains the credentials for a file in your IBM Cloud Object Storage.\n# You might want to remove those credentials before you share your notebook.\ndef update_configuration(conf):\n    global config\n    config = conf\n    print(config[\"cos_credentials\"])\n    print(config[\"cos_data\"])\n"
        }, 
        {
            "execution_count": 103, 
            "cell_type": "code", 
            "metadata": {}, 
            "outputs": [], 
            "source": "def multi_part_upload(bucket_name, item_name, file_path):\n    try:\n        print(\"Starting file transfer for {0} to bucket: {1}\\n\".format(item_name, bucket_name))\n        cos = ibm_boto3.resource(service_name='s3',\n            ibm_api_key_id=config[\"cos_credentials\"]['IBM_API_KEY_ID'],\n            ibm_auth_endpoint=config[\"cos_credentials\"]['IBM_AUTH_ENDPOINT'],\n            config=Config(signature_version='oauth'),\n            endpoint_url=config[\"cos_credentials\"]['ENDPOINT'])\n        # set 5 MB chunks\n        part_size = 1024 * 1024 * 5\n\n        # set threadhold to 15 MB\n        file_threshold = 1024 * 1024 * 15\n\n        # set the transfer threshold and chunk size\n        transfer_config = ibm_boto3.s3.transfer.TransferConfig(\n            multipart_threshold=file_threshold,\n            multipart_chunksize=part_size\n        )\n\n        # the upload_fileobj method will automatically execute a multi-part upload \n        # in 5 MB chunks for all files over 15 MB\n        with open(file_path, \"rb\") as file_data:\n            cos.Object(bucket_name, item_name).upload_fileobj(\n                Fileobj=file_data,\n                Config=transfer_config\n            )\n\n        print(\"Transfer for {0} Complete!\\n\".format(item_name))\n    except Exception as e:\n        print(\"Unable to complete multi-part upload: {0}\".format(e))\n"
        }, 
        {
            "execution_count": 104, 
            "cell_type": "code", 
            "metadata": {}, 
            "outputs": [], 
            "source": "def get_object_cos(bucket_name, item_name, path_to_download):\n    try:\n        print(\"Fetching file {0} from bucket: {1}\\n\".format(item_name, bucket_name))\n        cos = ibm_boto3.resource(service_name='s3',\n            ibm_api_key_id=config[\"cos_credentials\"]['IBM_API_KEY_ID'],\n            ibm_auth_endpoint=config[\"cos_credentials\"]['IBM_AUTH_ENDPOINT'],\n            config=Config(signature_version='oauth'),\n            endpoint_url=config[\"cos_credentials\"]['ENDPOINT'])\n        \n        cos.Object(bucket_name, item_name).download_file(path_to_download)\n\n        print(\"Download for {0} Complete!\\n\".format(item_name))\n    except Exception as e:\n        print(\"Unable to download file: {0}\".format(e))\n"
        }, 
        {
            "execution_count": 105, 
            "cell_type": "code", 
            "metadata": {}, 
            "outputs": [], 
            "source": "# LOAD DATA\ndef load_data():\n    global df\n    global cos\n    def __iter__(self): return 0\n\n    # The following code accesses a file in your IBM Cloud Object Storage. It includes your credentials.\n    cos = ibm_boto3.client(service_name='s3',\n        ibm_api_key_id=config[\"cos_credentials\"]['IBM_API_KEY_ID'],\n        ibm_auth_endpoint=config[\"cos_credentials\"]['IBM_AUTH_ENDPOINT'],\n        config=Config(signature_version='oauth'),\n        endpoint_url=config[\"cos_credentials\"]['ENDPOINT'])\n\n    body = cos.get_object(Bucket=config[\"cos_data\"]['BUCKET'],Key=config[\"cos_data\"]['FILE'])['Body']\n    # add missing __iter__ method, so pandas accepts body as file-like object\n    if not hasattr(body, \"__iter__\"): body.__iter__ = types.MethodType( __iter__, body )\n\n    df = pd.read_csv(body)\n    df.head()   \n"
        }, 
        {
            "execution_count": 106, 
            "cell_type": "code", 
            "metadata": {}, 
            "outputs": [], 
            "source": "def prepare_documents():\n    global classes\n    global documents\n    global words\n    classes = []\n    documents = []\n    words = []\n    ignore_words = ['?']    \n    \n    # loop through each sentence in our intents patterns\n    for i in range(len(df)):\n        # tokenize each word in the sentence\n        w = nltk.word_tokenize(df[\"utterances\"][i])\n        # add to our words list\n        words.extend(w)\n        # add to documents in our corpus\n        documents.append((w, df[\"intent\"][i]))\n        # add to our classes list\n        if df[\"intent\"][i] not in classes:\n            classes.append(df[\"intent\"][i])\n\n    # stem and lower each word and remove duplicates\n    words = [stemmer.stem(w.lower()) for w in words if w not in ignore_words]\n    words = sorted(list(set(words)))\n\n    # remove duplicates\n    classes = sorted(list(set(classes)))\n\n    print (len(documents), \"documents\")\n    print (len(classes), \"classes\", classes)\n    # print (len(words), \"unique stemmed words\", words)\n"
        }, 
        {
            "execution_count": 107, 
            "cell_type": "code", 
            "metadata": {}, 
            "outputs": [], 
            "source": "# create our training data\ndef prepare_for_training():\n    training = []\n    output = []\n    global train_x\n    global train_y\n    # create an empty array for our output\n    output_empty = [0] * len(classes)\n    # training set, bag of words for each sentence\n    for doc in documents:\n        # initialize our bag of words\n        bag = []\n        # list of tokenized words for the pattern\n        pattern_words = doc[0]\n        # stem each word\n        pattern_words = [stemmer.stem(word.lower()) for word in pattern_words]\n        # create our bag of words array\n        for w in words:\n            bag.append(1) if w in pattern_words else bag.append(0)\n\n        # output is a '0' for each tag and '1' for current tag\n        output_row = list(output_empty)\n        output_row[classes.index(doc[1])] = 1\n\n        training.append([bag, output_row])\n        \n    # shuffle our features and turn into np.array\n    random.shuffle(training)\n    training = np.array(training)\n    \n    # create train and test lists\n    train_x = list(training[:,0])\n    train_y = list(training[:,1])\n"
        }, 
        {
            "execution_count": 108, 
            "cell_type": "code", 
            "metadata": {}, 
            "outputs": [
                {
                    "output_type": "stream", 
                    "name": "stdout", 
                    "text": "2.1.4\n"
                }
            ], 
            "source": "import keras\nprint(keras.__version__)"
        }, 
        {
            "execution_count": 109, 
            "cell_type": "code", 
            "metadata": {}, 
            "outputs": [], 
            "source": "from keras.models import Sequential\nfrom keras.layers import Dense, Input, concatenate, Activation\n# from tf.keras.layers.pooling import GlobalMaxPooling1D, MaxPooling1D\n# from tf.keras.layers.core import Dropout\nfrom keras import backend as K\n\n# CREATE ML MODEL\ndef create_model():\n    K.clear_session()\n    # tf.global_variables_initializer()\n    tf.reset_default_graph()\n    global model\n    model = Sequential()\n    # model.add(Dense(output_dim=8,init ='uniform',activation='relu', input_dim=len(train_x[0])))\n    model.add(Dense(8, activation='relu', input_shape=(np.asarray(train_x[0]).shape)))\n    # model.add(Dense(8, activation='relu', input_dim=(len(train_x))))\n    # model.add(Activation('relu'))\n    # model.add(Dropout(0.3))\n    model.add(Dense(8, activation='relu'))\n    # model.add(Activation('relu'))\n    # model.add(Dropout(0.3))\n    model.add(Dense(8, activation='relu'))\n    # model.add(Activation('relu'))\n    # model.add(Dropout(0.3))\n    model.add(Dense(np.asarray(train_y[0]).shape[0], activation='softmax'))\n    model.summary()\n    \n    tbCallBack = keras.callbacks.TensorBoard(log_dir='keras_logs', write_graph=True)\n    \n    # model.compile(loss='categorical_crossentropy', optimizer='adam', metrics=['accuracy'])\n    model.compile(loss='categorical_crossentropy', optimizer='rmsprop', metrics=['accuracy'])\n    model.fit(np.asarray(train_x), np.asarray(train_y), epochs=200, batch_size=8,  verbose=1, validation_split=0.1, callbacks=[tbCallBack])\n    scores = model.evaluate(np.asarray(train_x), np.asarray(train_y))\n    print(\"\\n%s: %.2f%%\" % (model.metrics_names[1], scores[1]*100))\n    model.save('nlc_keras_model2.h5')\n    print(\"<<<<<<<< ML MODEL CREATED AND SAVED >>>>>>>>>>>\\n\\n\")"
        }, 
        {
            "execution_count": 110, 
            "cell_type": "code", 
            "metadata": {}, 
            "outputs": [], 
            "source": "def save_model_COS():\n    if(REMOTE):\n        multi_part_upload(config[\"cos_data\"]['BUCKET'], \"model/nlc_keras_model2.h5\", \"nlc_keras_model2.h5\")\n    "
        }, 
        {
            "execution_count": 111, 
            "cell_type": "code", 
            "metadata": {}, 
            "outputs": [], 
            "source": "def reset_all():\n    update_configuration(conf)\n    load_data()\n    prepare_documents()\n    prepare_for_training()\n    create_model()\n    save_model_COS()\n"
        }, 
        {
            "source": "# Code to Classify text using the ML Model created", 
            "cell_type": "markdown", 
            "metadata": {}
        }, 
        {
            "execution_count": 112, 
            "cell_type": "code", 
            "metadata": {}, 
            "outputs": [], 
            "source": "def fetch_ml_model_cos():\n    if(path.exists('nlc_keras_model2.h5') == False):\n        get_object_cos(config[\"cos_data\"]['BUCKET'], \"model/nlc_keras_model2.h5\", \"nlc_keras_model2.h5\")    \n"
        }, 
        {
            "execution_count": 113, 
            "cell_type": "code", 
            "metadata": {}, 
            "outputs": [], 
            "source": "from keras.models import load_model\ndef load_ml_model():\n    global model\n    try:\n        model\n    except NameError:\n        print(\"<<< ML Model Needs to be loaded >>>>>\")\n        # load our saved model\n        fetch_ml_model_cos()\n        model = load_model('nlc_keras_model2.h5')        \n    else:\n        print(\"<<< ML Model Already Exists >>>>>\")        \n"
        }, 
        {
            "execution_count": 114, 
            "cell_type": "code", 
            "metadata": {}, 
            "outputs": [], 
            "source": "def clean_up_sentence(sentence):\n    # tokenize the pattern\n    sentence_words = nltk.word_tokenize(sentence)\n    # stem each word\n    sentence_words = [stemmer.stem(word.lower()) for word in sentence_words]\n    return sentence_words\n\n# return bag of words array: 0 or 1 for each word in the bag that exists in the sentence\ndef bow(sentence, words, show_details=False):\n    # tokenize the pattern\n    sentence_words = clean_up_sentence(sentence)\n    # bag of words\n    bag = [0]*len(words)  \n    for s in sentence_words:\n        for i,w in enumerate(words):\n            if w == s: \n                bag[i] = 1\n                if show_details:\n                    print (\"found in bag: %s\" % w)\n\n    return(np.array(bag))"
        }, 
        {
            "execution_count": 115, 
            "cell_type": "code", 
            "metadata": {}, 
            "outputs": [], 
            "source": "# create a data structure to hold user context\ncontext = {}\n\nERROR_THRESHOLD = 0.25\ndef classify(sentence):\n    # generate probabilities from the model\n    load_ml_model()\n    to_predict = bow(sentence, words)\n    if (to_predict.ndim == 1):\n        to_predict = np.array([to_predict])\n    \n    results = model.predict([to_predict])[0]\n    # filter out predictions below a threshold\n    results = [[i,r] for i,r in enumerate(results) if r>ERROR_THRESHOLD]\n    # sort by strength of probability\n    results.sort(key=lambda x: x[1], reverse=True)\n    return_list = []\n    for r in results:\n        return_list.append((classes[r[0]], r[1]))\n    # return tuple of intent and probability\n    return return_list"
        }, 
        {
            "execution_count": 116, 
            "cell_type": "code", 
            "metadata": {}, 
            "outputs": [], 
            "source": "def reset_for_classification():\n    update_configuration(conf)\n    load_data()\n    prepare_documents()\n    prepare_for_training()"
        }, 
        {
            "execution_count": 117, 
            "cell_type": "code", 
            "metadata": {}, 
            "outputs": [], 
            "source": "from socketIO_client_nexus import SocketIO, BaseNamespace, LoggingNamespace\n\ndef on_connect():\n    print('on_connect')\n\ndef on_disconnect():\n    print('on_disconnect')\n\ndef on_reconnect():\n    print('on_reconnect')\n\ndef on_response(*message):\n    msg = json.loads(json.dumps(message))\n    print(type(msg))\n    print('\\n\\non_response: >> ', msg[0])\n    command = msg[0][\"command\"]\n    params = msg[0][\"params\"]\n    if command == \"reset_all\":\n        reset_all()\n    elif command == \"classify\":\n        results = classify(params[\"text\"])\n        print(results)\n    else:\n        print(\"Command not recognized....\")\n\ndef connectSocketIO():\n#     SocketIO('https://localhost', verify=False)\n    with SocketIO('https://my-watson-assistant-api.mybluemix.net', verify=False) as socketIO:\n        # with SocketIO('localhost', verify=False) as socketIO:\n        socketIO.on('connect', on_connect)\n        socketIO.on('disconnect', on_disconnect)\n        socketIO.on('reconnect', on_reconnect)\n        socketIO.on('/ml', on_response)\n        socketIO.wait()\n"
        }, 
        {
            "execution_count": 118, 
            "cell_type": "code", 
            "metadata": {}, 
            "outputs": [
                {
                    "output_type": "stream", 
                    "name": "stdout", 
                    "text": "{'ENDPOINT': 'https://s3-api.us-geo.objectstorage.service.networklayer.com', 'IBM_AUTH_ENDPOINT': 'https://iam.ng.bluemix.net/oidc/token', 'IBM_API_KEY_ID': 'jDLQvkwwo3h77B5MWgqOTUq25D94Xr6CGrb_6dYmVcj-'}\n{'FILE': 'raw_car_dashboard_ml.csv', 'BUCKET': 'myml-donotdelete-pr-zhsoop3fasxh7h'}\n2532 documents\n26 classes ['about_VA', 'capabilites', 'capabilities', 'compound_questions', 'decision_replies', 'goodbyes', 'greetings', 'improving_system', 'information_request', 'interface_interactions', 'interface_issues', 'locate_amenity', 'navigation', 'negative_reaction', 'not_specified', 'out_of_scope', 'phone', 'positive_reaction', 'selections', 'system_reliance', 'traffic_update', 'turn_down', 'turn_off', 'turn_on', 'turn_up', 'weather']\n_________________________________________________________________\nLayer (type)                 Output Shape              Param #   \n=================================================================\ndense_1 (Dense)              (None, 8)                 10656     \n_________________________________________________________________\ndense_2 (Dense)              (None, 8)                 72        \n_________________________________________________________________\ndense_3 (Dense)              (None, 8)                 72        \n_________________________________________________________________\ndense_4 (Dense)              (None, 26)                234       \n=================================================================\nTotal params: 11,034\nTrainable params: 11,034\nNon-trainable params: 0\n_________________________________________________________________\nTrain on 2278 samples, validate on 254 samples\nEpoch 1/200\n2278/2278 [==============================] - 1s 504us/step - loss: 2.6974 - acc: 0.3108 - val_loss: 2.1712 - val_acc: 0.3346\nEpoch 2/200\n2278/2278 [==============================] - 1s 508us/step - loss: 1.8717 - acc: 0.5351 - val_loss: 1.7550 - val_acc: 0.5236\nEpoch 3/200\n2278/2278 [==============================] - 1s 485us/step - loss: 1.5338 - acc: 0.5593 - val_loss: 1.5872 - val_acc: 0.5315\nEpoch 4/200\n2278/2278 [==============================] - 1s 484us/step - loss: 1.3884 - acc: 0.5641 - val_loss: 1.5110 - val_acc: 0.5512\nEpoch 5/200\n2278/2278 [==============================] - 1s 480us/step - loss: 1.2947 - acc: 0.5768 - val_loss: 1.4698 - val_acc: 0.5787\nEpoch 6/200\n2278/2278 [==============================] - 1s 483us/step - loss: 1.2102 - acc: 0.6361 - val_loss: 1.4373 - val_acc: 0.6417\nEpoch 7/200\n2278/2278 [==============================] - 1s 485us/step - loss: 1.1335 - acc: 0.6725 - val_loss: 1.4331 - val_acc: 0.6614\nEpoch 8/200\n2278/2278 [==============================] - 1s 481us/step - loss: 1.0708 - acc: 0.6940 - val_loss: 1.4080 - val_acc: 0.6890\nEpoch 9/200\n2278/2278 [==============================] - 1s 483us/step - loss: 1.0137 - acc: 0.7248 - val_loss: 1.3917 - val_acc: 0.6969\nEpoch 10/200\n2278/2278 [==============================] - 1s 512us/step - loss: 0.9617 - acc: 0.7445 - val_loss: 1.3755 - val_acc: 0.7126\nEpoch 11/200\n2278/2278 [==============================] - 1s 478us/step - loss: 0.9169 - acc: 0.7581 - val_loss: 1.3412 - val_acc: 0.7205\nEpoch 12/200\n2278/2278 [==============================] - 1s 456us/step - loss: 0.8703 - acc: 0.7730 - val_loss: 1.3287 - val_acc: 0.7402\nEpoch 13/200\n2278/2278 [==============================] - 1s 482us/step - loss: 0.8336 - acc: 0.7801 - val_loss: 1.2994 - val_acc: 0.7402\nEpoch 14/200\n2278/2278 [==============================] - 1s 489us/step - loss: 0.7982 - acc: 0.7867 - val_loss: 1.2798 - val_acc: 0.7362\nEpoch 15/200\n2278/2278 [==============================] - 1s 481us/step - loss: 0.7701 - acc: 0.7968 - val_loss: 1.2837 - val_acc: 0.7480\nEpoch 16/200\n2278/2278 [==============================] - 1s 481us/step - loss: 0.7425 - acc: 0.8112 - val_loss: 1.2487 - val_acc: 0.7559\nEpoch 17/200\n2278/2278 [==============================] - 1s 479us/step - loss: 0.7207 - acc: 0.8187 - val_loss: 1.2438 - val_acc: 0.7520\nEpoch 18/200\n2278/2278 [==============================] - 1s 480us/step - loss: 0.6991 - acc: 0.8248 - val_loss: 1.2492 - val_acc: 0.7520\nEpoch 19/200\n2278/2278 [==============================] - 1s 493us/step - loss: 0.6804 - acc: 0.8319 - val_loss: 1.2431 - val_acc: 0.7638\nEpoch 20/200\n2278/2278 [==============================] - 1s 488us/step - loss: 0.6632 - acc: 0.8371 - val_loss: 1.2119 - val_acc: 0.7441\nEpoch 21/200\n2278/2278 [==============================] - 1s 517us/step - loss: 0.6465 - acc: 0.8420 - val_loss: 1.2251 - val_acc: 0.7638\nEpoch 22/200\n2278/2278 [==============================] - 1s 479us/step - loss: 0.6338 - acc: 0.8433 - val_loss: 1.2044 - val_acc: 0.7598\nEpoch 23/200\n2278/2278 [==============================] - 1s 487us/step - loss: 0.6170 - acc: 0.8494 - val_loss: 1.2236 - val_acc: 0.7717\nEpoch 24/200\n2278/2278 [==============================] - 1s 513us/step - loss: 0.6049 - acc: 0.8538 - val_loss: 1.1912 - val_acc: 0.7677\nEpoch 25/200\n2278/2278 [==============================] - 1s 493us/step - loss: 0.5922 - acc: 0.8569 - val_loss: 1.1878 - val_acc: 0.7717\nEpoch 26/200\n2278/2278 [==============================] - 1s 488us/step - loss: 0.5781 - acc: 0.8652 - val_loss: 1.1836 - val_acc: 0.7677\nEpoch 27/200\n2278/2278 [==============================] - 1s 512us/step - loss: 0.5668 - acc: 0.8652 - val_loss: 1.1814 - val_acc: 0.7717\nEpoch 28/200\n2278/2278 [==============================] - 1s 484us/step - loss: 0.5527 - acc: 0.8665 - val_loss: 1.1822 - val_acc: 0.7717\nEpoch 29/200\n2278/2278 [==============================] - 1s 484us/step - loss: 0.5423 - acc: 0.8696 - val_loss: 1.1836 - val_acc: 0.7717\nEpoch 30/200\n2278/2278 [==============================] - 1s 488us/step - loss: 0.5316 - acc: 0.8727 - val_loss: 1.1778 - val_acc: 0.7756\nEpoch 31/200\n2278/2278 [==============================] - 1s 488us/step - loss: 0.5174 - acc: 0.8723 - val_loss: 1.1854 - val_acc: 0.7559\nEpoch 32/200\n2278/2278 [==============================] - 1s 516us/step - loss: 0.5093 - acc: 0.8749 - val_loss: 1.1699 - val_acc: 0.7717\nEpoch 33/200\n2278/2278 [==============================] - 1s 484us/step - loss: 0.5036 - acc: 0.8766 - val_loss: 1.1674 - val_acc: 0.7835\nEpoch 34/200\n2278/2278 [==============================] - 1s 475us/step - loss: 0.4923 - acc: 0.8784 - val_loss: 1.1758 - val_acc: 0.7677\nEpoch 35/200\n2278/2278 [==============================] - 1s 454us/step - loss: 0.4811 - acc: 0.8810 - val_loss: 1.1792 - val_acc: 0.7756\nEpoch 36/200\n2278/2278 [==============================] - 1s 505us/step - loss: 0.4728 - acc: 0.8819 - val_loss: 1.2026 - val_acc: 0.7795\nEpoch 37/200\n2278/2278 [==============================] - 1s 485us/step - loss: 0.4635 - acc: 0.8815 - val_loss: 1.1871 - val_acc: 0.7717\nEpoch 38/200\n2278/2278 [==============================] - 1s 487us/step - loss: 0.4567 - acc: 0.8854 - val_loss: 1.2123 - val_acc: 0.7638\nEpoch 39/200\n2278/2278 [==============================] - 1s 478us/step - loss: 0.4473 - acc: 0.8859 - val_loss: 1.2057 - val_acc: 0.7677\nEpoch 40/200\n2278/2278 [==============================] - 1s 491us/step - loss: 0.4358 - acc: 0.8898 - val_loss: 1.2037 - val_acc: 0.7638\nEpoch 41/200\n2278/2278 [==============================] - 1s 487us/step - loss: 0.4298 - acc: 0.8894 - val_loss: 1.1991 - val_acc: 0.7756\nEpoch 42/200\n2278/2278 [==============================] - 1s 508us/step - loss: 0.4218 - acc: 0.8938 - val_loss: 1.2131 - val_acc: 0.7638\nEpoch 43/200\n2278/2278 [==============================] - 1s 486us/step - loss: 0.4114 - acc: 0.8938 - val_loss: 1.1969 - val_acc: 0.7835\nEpoch 44/200\n2278/2278 [==============================] - 1s 488us/step - loss: 0.4063 - acc: 0.8990 - val_loss: 1.2139 - val_acc: 0.7717\nEpoch 45/200\n2278/2278 [==============================] - 1s 480us/step - loss: 0.3975 - acc: 0.9008 - val_loss: 1.2099 - val_acc: 0.7795\nEpoch 46/200\n2278/2278 [==============================] - 1s 490us/step - loss: 0.3916 - acc: 0.8999 - val_loss: 1.2246 - val_acc: 0.7677\nEpoch 47/200\n2278/2278 [==============================] - 1s 511us/step - loss: 0.3849 - acc: 0.9017 - val_loss: 1.2272 - val_acc: 0.7677\nEpoch 48/200\n2278/2278 [==============================] - 1s 486us/step - loss: 0.3742 - acc: 0.9047 - val_loss: 1.2266 - val_acc: 0.7638\nEpoch 49/200\n2278/2278 [==============================] - 1s 484us/step - loss: 0.3700 - acc: 0.9061 - val_loss: 1.2327 - val_acc: 0.7638\nEpoch 50/200\n2278/2278 [==============================] - 1s 484us/step - loss: 0.3667 - acc: 0.9083 - val_loss: 1.2508 - val_acc: 0.7677\nEpoch 51/200\n2278/2278 [==============================] - 1s 478us/step - loss: 0.3589 - acc: 0.9100 - val_loss: 1.2524 - val_acc: 0.7638\nEpoch 52/200\n2278/2278 [==============================] - 1s 493us/step - loss: 0.3518 - acc: 0.9144 - val_loss: 1.2621 - val_acc: 0.7638\nEpoch 53/200\n2278/2278 [==============================] - 1s 516us/step - loss: 0.3467 - acc: 0.9100 - val_loss: 1.2555 - val_acc: 0.7598\nEpoch 54/200\n2278/2278 [==============================] - 1s 486us/step - loss: 0.3419 - acc: 0.9157 - val_loss: 1.2625 - val_acc: 0.7638\nEpoch 55/200\n2278/2278 [==============================] - 1s 485us/step - loss: 0.3353 - acc: 0.9183 - val_loss: 1.2789 - val_acc: 0.7717\nEpoch 56/200\n2278/2278 [==============================] - 1s 482us/step - loss: 0.3287 - acc: 0.9188 - val_loss: 1.2820 - val_acc: 0.7677\nEpoch 57/200\n2278/2278 [==============================] - 1s 482us/step - loss: 0.3213 - acc: 0.9227 - val_loss: 1.2708 - val_acc: 0.7520\nEpoch 58/200\n2278/2278 [==============================] - 1s 480us/step - loss: 0.3163 - acc: 0.9192 - val_loss: 1.2714 - val_acc: 0.7598\nEpoch 59/200\n2278/2278 [==============================] - 1s 483us/step - loss: 0.3074 - acc: 0.9245 - val_loss: 1.2858 - val_acc: 0.7717\nEpoch 60/200\n2278/2278 [==============================] - 1s 479us/step - loss: 0.3072 - acc: 0.9227 - val_loss: 1.2679 - val_acc: 0.7638\nEpoch 61/200\n2278/2278 [==============================] - 1s 487us/step - loss: 0.3006 - acc: 0.9227 - val_loss: 1.2845 - val_acc: 0.7677\nEpoch 62/200\n2278/2278 [==============================] - 1s 485us/step - loss: 0.2932 - acc: 0.9223 - val_loss: 1.2740 - val_acc: 0.7756\nEpoch 63/200\n2278/2278 [==============================] - 1s 515us/step - loss: 0.2877 - acc: 0.9258 - val_loss: 1.2630 - val_acc: 0.7835\nEpoch 64/200\n2278/2278 [==============================] - 1s 486us/step - loss: 0.2819 - acc: 0.9293 - val_loss: 1.2879 - val_acc: 0.7717\nEpoch 65/200\n2278/2278 [==============================] - 1s 513us/step - loss: 0.2761 - acc: 0.9298 - val_loss: 1.3032 - val_acc: 0.7638\nEpoch 66/200\n2278/2278 [==============================] - 1s 480us/step - loss: 0.2728 - acc: 0.9293 - val_loss: 1.2848 - val_acc: 0.7756\nEpoch 67/200\n2278/2278 [==============================] - 1s 482us/step - loss: 0.2654 - acc: 0.9280 - val_loss: 1.3062 - val_acc: 0.7677\nEpoch 68/200\n2278/2278 [==============================] - 1s 488us/step - loss: 0.2639 - acc: 0.9306 - val_loss: 1.2934 - val_acc: 0.7559\nEpoch 69/200\n2278/2278 [==============================] - 1s 486us/step - loss: 0.2583 - acc: 0.9315 - val_loss: 1.3062 - val_acc: 0.7598\nEpoch 70/200\n2278/2278 [==============================] - 1s 486us/step - loss: 0.2514 - acc: 0.9355 - val_loss: 1.3358 - val_acc: 0.7638\nEpoch 71/200\n2278/2278 [==============================] - 1s 482us/step - loss: 0.2520 - acc: 0.9355 - val_loss: 1.3499 - val_acc: 0.7717\nEpoch 72/200\n2278/2278 [==============================] - 1s 484us/step - loss: 0.2451 - acc: 0.9359 - val_loss: 1.3440 - val_acc: 0.7559\nEpoch 73/200\n2278/2278 [==============================] - 1s 507us/step - loss: 0.2405 - acc: 0.9346 - val_loss: 1.3572 - val_acc: 0.7598\nEpoch 74/200\n2278/2278 [==============================] - 1s 491us/step - loss: 0.2384 - acc: 0.9368 - val_loss: 1.3493 - val_acc: 0.7638\nEpoch 75/200\n2278/2278 [==============================] - 1s 482us/step - loss: 0.2324 - acc: 0.9394 - val_loss: 1.3751 - val_acc: 0.7756\nEpoch 76/200\n2278/2278 [==============================] - 1s 485us/step - loss: 0.2285 - acc: 0.9403 - val_loss: 1.3933 - val_acc: 0.7638\nEpoch 77/200\n2278/2278 [==============================] - 1s 513us/step - loss: 0.2230 - acc: 0.9412 - val_loss: 1.3796 - val_acc: 0.7795\nEpoch 78/200\n2278/2278 [==============================] - 1s 484us/step - loss: 0.2226 - acc: 0.9399 - val_loss: 1.3980 - val_acc: 0.7559\nEpoch 79/200\n2278/2278 [==============================] - 1s 492us/step - loss: 0.2220 - acc: 0.9421 - val_loss: 1.4130 - val_acc: 0.7677\nEpoch 80/200\n2278/2278 [==============================] - 1s 514us/step - loss: 0.2152 - acc: 0.9412 - val_loss: 1.4210 - val_acc: 0.7677\nEpoch 81/200\n2278/2278 [==============================] - 1s 491us/step - loss: 0.2114 - acc: 0.9425 - val_loss: 1.4185 - val_acc: 0.7638\nEpoch 82/200\n2278/2278 [==============================] - 1s 482us/step - loss: 0.2068 - acc: 0.9438 - val_loss: 1.4223 - val_acc: 0.7677\nEpoch 83/200\n2278/2278 [==============================] - 1s 490us/step - loss: 0.2064 - acc: 0.9456 - val_loss: 1.4180 - val_acc: 0.7677\nEpoch 84/200\n2278/2278 [==============================] - 1s 512us/step - loss: 0.2030 - acc: 0.9447 - val_loss: 1.4269 - val_acc: 0.7677\nEpoch 85/200\n2278/2278 [==============================] - 1s 481us/step - loss: 0.1999 - acc: 0.9464 - val_loss: 1.4473 - val_acc: 0.7717\nEpoch 86/200\n2278/2278 [==============================] - 1s 483us/step - loss: 0.1982 - acc: 0.9473 - val_loss: 1.4379 - val_acc: 0.7638\nEpoch 87/200\n2278/2278 [==============================] - 1s 487us/step - loss: 0.1942 - acc: 0.9486 - val_loss: 1.4144 - val_acc: 0.7717\nEpoch 88/200\n2278/2278 [==============================] - 1s 489us/step - loss: 0.1930 - acc: 0.9500 - val_loss: 1.4194 - val_acc: 0.7717\nEpoch 89/200\n2278/2278 [==============================] - 1s 482us/step - loss: 0.1936 - acc: 0.9464 - val_loss: 1.4104 - val_acc: 0.7677\nEpoch 90/200\n2278/2278 [==============================] - 1s 483us/step - loss: 0.1920 - acc: 0.9486 - val_loss: 1.4125 - val_acc: 0.7677\nEpoch 91/200\n2278/2278 [==============================] - 1s 480us/step - loss: 0.1857 - acc: 0.9478 - val_loss: 1.4162 - val_acc: 0.7677\nEpoch 92/200\n2278/2278 [==============================] - 1s 484us/step - loss: 0.1815 - acc: 0.9535 - val_loss: 1.4301 - val_acc: 0.7795\nEpoch 93/200\n2278/2278 [==============================] - 1s 480us/step - loss: 0.1807 - acc: 0.9495 - val_loss: 1.4212 - val_acc: 0.7677\nEpoch 94/200\n2278/2278 [==============================] - 1s 485us/step - loss: 0.1766 - acc: 0.9548 - val_loss: 1.4235 - val_acc: 0.7795\nEpoch 95/200\n2278/2278 [==============================] - 1s 509us/step - loss: 0.1737 - acc: 0.9543 - val_loss: 1.4318 - val_acc: 0.7638\nEpoch 96/200\n2278/2278 [==============================] - 1s 480us/step - loss: 0.1733 - acc: 0.9530 - val_loss: 1.4470 - val_acc: 0.7717\nEpoch 97/200\n2278/2278 [==============================] - 1s 488us/step - loss: 0.1733 - acc: 0.9548 - val_loss: 1.4571 - val_acc: 0.7717\nEpoch 98/200\n2278/2278 [==============================] - 1s 480us/step - loss: 0.1683 - acc: 0.9543 - val_loss: 1.4459 - val_acc: 0.7638\nEpoch 99/200\n2278/2278 [==============================] - 1s 492us/step - loss: 0.1657 - acc: 0.9539 - val_loss: 1.4475 - val_acc: 0.7795\nEpoch 100/200\n2278/2278 [==============================] - 1s 509us/step - loss: 0.1654 - acc: 0.9552 - val_loss: 1.4743 - val_acc: 0.7795\nEpoch 101/200\n2278/2278 [==============================] - 1s 484us/step - loss: 0.1622 - acc: 0.9583 - val_loss: 1.4901 - val_acc: 0.7717\nEpoch 102/200\n2278/2278 [==============================] - 1s 487us/step - loss: 0.1576 - acc: 0.9579 - val_loss: 1.4847 - val_acc: 0.7677\nEpoch 103/200\n2278/2278 [==============================] - 1s 487us/step - loss: 0.1596 - acc: 0.9570 - val_loss: 1.4724 - val_acc: 0.7677\nEpoch 104/200\n2278/2278 [==============================] - 1s 513us/step - loss: 0.1577 - acc: 0.9574 - val_loss: 1.4948 - val_acc: 0.7638\nEpoch 105/200\n2278/2278 [==============================] - 1s 493us/step - loss: 0.1554 - acc: 0.9574 - val_loss: 1.5046 - val_acc: 0.7677\nEpoch 106/200\n2278/2278 [==============================] - 1s 484us/step - loss: 0.1539 - acc: 0.9601 - val_loss: 1.5090 - val_acc: 0.7677\nEpoch 107/200\n2278/2278 [==============================] - 1s 485us/step - loss: 0.1494 - acc: 0.9609 - val_loss: 1.5246 - val_acc: 0.7717\nEpoch 108/200\n2278/2278 [==============================] - 1s 512us/step - loss: 0.1493 - acc: 0.9605 - val_loss: 1.5141 - val_acc: 0.7795\nEpoch 109/200\n2278/2278 [==============================] - 1s 482us/step - loss: 0.1511 - acc: 0.9605 - val_loss: 1.5380 - val_acc: 0.7638\nEpoch 110/200\n2278/2278 [==============================] - 1s 485us/step - loss: 0.1447 - acc: 0.9601 - val_loss: 1.5515 - val_acc: 0.7756\nEpoch 111/200\n2278/2278 [==============================] - 1s 485us/step - loss: 0.1446 - acc: 0.9614 - val_loss: 1.5419 - val_acc: 0.7677\nEpoch 112/200\n2278/2278 [==============================] - 1s 515us/step - loss: 0.1424 - acc: 0.9627 - val_loss: 1.5539 - val_acc: 0.7677\nEpoch 113/200\n2278/2278 [==============================] - 1s 492us/step - loss: 0.1437 - acc: 0.9658 - val_loss: 1.5651 - val_acc: 0.7756\nEpoch 114/200\n2278/2278 [==============================] - 1s 487us/step - loss: 0.1418 - acc: 0.9627 - val_loss: 1.5881 - val_acc: 0.7638\nEpoch 115/200\n2278/2278 [==============================] - 1s 485us/step - loss: 0.1438 - acc: 0.9627 - val_loss: 1.5785 - val_acc: 0.7717\nEpoch 116/200\n2278/2278 [==============================] - 1s 480us/step - loss: 0.1391 - acc: 0.9622 - val_loss: 1.5838 - val_acc: 0.7835\nEpoch 117/200\n2278/2278 [==============================] - 1s 484us/step - loss: 0.1374 - acc: 0.9671 - val_loss: 1.5819 - val_acc: 0.7756\nEpoch 118/200\n2278/2278 [==============================] - 1s 507us/step - loss: 0.1363 - acc: 0.9666 - val_loss: 1.6084 - val_acc: 0.7835\nEpoch 119/200\n2278/2278 [==============================] - 1s 482us/step - loss: 0.1367 - acc: 0.9662 - val_loss: 1.6315 - val_acc: 0.7717\nEpoch 120/200\n2278/2278 [==============================] - 1s 489us/step - loss: 0.1353 - acc: 0.9627 - val_loss: 1.6147 - val_acc: 0.7835\nEpoch 121/200\n2278/2278 [==============================] - 1s 484us/step - loss: 0.1305 - acc: 0.9680 - val_loss: 1.6089 - val_acc: 0.7756\nEpoch 122/200\n2278/2278 [==============================] - 1s 488us/step - loss: 0.1330 - acc: 0.9688 - val_loss: 1.6350 - val_acc: 0.7795\nEpoch 123/200\n2278/2278 [==============================] - 1s 511us/step - loss: 0.1340 - acc: 0.9693 - val_loss: 1.6418 - val_acc: 0.7717\nEpoch 124/200\n2278/2278 [==============================] - 1s 488us/step - loss: 0.1299 - acc: 0.9680 - val_loss: 1.6249 - val_acc: 0.7756\nEpoch 125/200\n2278/2278 [==============================] - 1s 479us/step - loss: 0.1274 - acc: 0.9701 - val_loss: 1.6199 - val_acc: 0.7677\nEpoch 126/200\n2278/2278 [==============================] - 1s 486us/step - loss: 0.1278 - acc: 0.9684 - val_loss: 1.6303 - val_acc: 0.7677\nEpoch 127/200\n2278/2278 [==============================] - 1s 487us/step - loss: 0.1246 - acc: 0.9675 - val_loss: 1.6541 - val_acc: 0.7717\nEpoch 128/200\n2278/2278 [==============================] - 1s 485us/step - loss: 0.1245 - acc: 0.9697 - val_loss: 1.6363 - val_acc: 0.7795\nEpoch 129/200\n2278/2278 [==============================] - 1s 505us/step - loss: 0.1231 - acc: 0.9715 - val_loss: 1.6537 - val_acc: 0.7677\nEpoch 130/200\n2278/2278 [==============================] - 1s 456us/step - loss: 0.1199 - acc: 0.9710 - val_loss: 1.6954 - val_acc: 0.7677\nEpoch 131/200\n2278/2278 [==============================] - 1s 520us/step - loss: 0.1163 - acc: 0.9697 - val_loss: 1.6797 - val_acc: 0.7717\nEpoch 132/200\n2278/2278 [==============================] - 1s 485us/step - loss: 0.1172 - acc: 0.9728 - val_loss: 1.6708 - val_acc: 0.7756\nEpoch 133/200\n2278/2278 [==============================] - 1s 516us/step - loss: 0.1182 - acc: 0.9706 - val_loss: 1.6859 - val_acc: 0.7795\nEpoch 134/200\n2278/2278 [==============================] - 1s 480us/step - loss: 0.1168 - acc: 0.9710 - val_loss: 1.6811 - val_acc: 0.7638\nEpoch 135/200\n2278/2278 [==============================] - 1s 484us/step - loss: 0.1137 - acc: 0.9715 - val_loss: 1.6744 - val_acc: 0.7795\nEpoch 136/200\n2278/2278 [==============================] - 1s 477us/step - loss: 0.1128 - acc: 0.9737 - val_loss: 1.6872 - val_acc: 0.7598\nEpoch 137/200\n2278/2278 [==============================] - 1s 456us/step - loss: 0.1103 - acc: 0.9750 - val_loss: 1.7016 - val_acc: 0.7756\nEpoch 138/200\n2278/2278 [==============================] - 1s 475us/step - loss: 0.1105 - acc: 0.9741 - val_loss: 1.7205 - val_acc: 0.7756\nEpoch 139/200\n2278/2278 [==============================] - 1s 479us/step - loss: 0.1079 - acc: 0.9741 - val_loss: 1.7106 - val_acc: 0.7638\nEpoch 140/200\n2278/2278 [==============================] - 1s 486us/step - loss: 0.1047 - acc: 0.9754 - val_loss: 1.7185 - val_acc: 0.7598\nEpoch 141/200\n2278/2278 [==============================] - 1s 521us/step - loss: 0.1080 - acc: 0.9723 - val_loss: 1.7015 - val_acc: 0.7638\nEpoch 142/200\n2278/2278 [==============================] - 1s 485us/step - loss: 0.1049 - acc: 0.9737 - val_loss: 1.7187 - val_acc: 0.7835\nEpoch 143/200\n2278/2278 [==============================] - 1s 480us/step - loss: 0.1026 - acc: 0.9741 - val_loss: 1.7117 - val_acc: 0.7717\nEpoch 144/200\n2278/2278 [==============================] - 1s 484us/step - loss: 0.1022 - acc: 0.9750 - val_loss: 1.7258 - val_acc: 0.7795\nEpoch 145/200\n2278/2278 [==============================] - 1s 484us/step - loss: 0.1025 - acc: 0.9728 - val_loss: 1.7182 - val_acc: 0.7756\nEpoch 146/200\n2278/2278 [==============================] - 1s 515us/step - loss: 0.1027 - acc: 0.9732 - val_loss: 1.7426 - val_acc: 0.7598\nEpoch 147/200\n2278/2278 [==============================] - 1s 487us/step - loss: 0.1008 - acc: 0.9728 - val_loss: 1.7385 - val_acc: 0.7835\nEpoch 148/200\n2278/2278 [==============================] - 1s 485us/step - loss: 0.1004 - acc: 0.9763 - val_loss: 1.7492 - val_acc: 0.7717\nEpoch 149/200\n2278/2278 [==============================] - 1s 514us/step - loss: 0.0971 - acc: 0.9776 - val_loss: 1.7528 - val_acc: 0.7795\nEpoch 150/200\n2278/2278 [==============================] - 1s 489us/step - loss: 0.0972 - acc: 0.9750 - val_loss: 1.7308 - val_acc: 0.7756\nEpoch 151/200\n2278/2278 [==============================] - 1s 478us/step - loss: 0.0956 - acc: 0.9772 - val_loss: 1.7610 - val_acc: 0.7717\nEpoch 152/200\n2278/2278 [==============================] - 1s 480us/step - loss: 0.0958 - acc: 0.9781 - val_loss: 1.7692 - val_acc: 0.7756\nEpoch 153/200\n2278/2278 [==============================] - 1s 456us/step - loss: 0.0957 - acc: 0.9772 - val_loss: 1.7651 - val_acc: 0.7677\nEpoch 154/200\n2278/2278 [==============================] - 1s 482us/step - loss: 0.0906 - acc: 0.9767 - val_loss: 1.7918 - val_acc: 0.7756\nEpoch 155/200\n2278/2278 [==============================] - 1s 482us/step - loss: 0.0919 - acc: 0.9794 - val_loss: 1.8148 - val_acc: 0.7598\nEpoch 156/200\n2278/2278 [==============================] - 1s 507us/step - loss: 0.0882 - acc: 0.9776 - val_loss: 1.7768 - val_acc: 0.7795\nEpoch 157/200\n2278/2278 [==============================] - 1s 456us/step - loss: 0.0874 - acc: 0.9829 - val_loss: 1.8146 - val_acc: 0.7638\nEpoch 158/200\n2278/2278 [==============================] - 1s 513us/step - loss: 0.0906 - acc: 0.9767 - val_loss: 1.7771 - val_acc: 0.7717\nEpoch 159/200\n2278/2278 [==============================] - 1s 486us/step - loss: 0.0868 - acc: 0.9794 - val_loss: 1.7946 - val_acc: 0.7756\nEpoch 160/200\n2278/2278 [==============================] - 1s 489us/step - loss: 0.0860 - acc: 0.9794 - val_loss: 1.8134 - val_acc: 0.7638\nEpoch 161/200\n2278/2278 [==============================] - 1s 507us/step - loss: 0.0880 - acc: 0.9789 - val_loss: 1.8222 - val_acc: 0.7717\nEpoch 162/200\n2278/2278 [==============================] - 1s 492us/step - loss: 0.0831 - acc: 0.9802 - val_loss: 1.8674 - val_acc: 0.7559\nEpoch 163/200\n2278/2278 [==============================] - 1s 483us/step - loss: 0.0859 - acc: 0.9785 - val_loss: 1.8279 - val_acc: 0.7717\nEpoch 164/200\n2278/2278 [==============================] - 1s 480us/step - loss: 0.0831 - acc: 0.9802 - val_loss: 1.8504 - val_acc: 0.7677\nEpoch 165/200\n2278/2278 [==============================] - 1s 477us/step - loss: 0.0859 - acc: 0.9820 - val_loss: 1.8581 - val_acc: 0.7756\nEpoch 166/200\n2278/2278 [==============================] - 1s 483us/step - loss: 0.0793 - acc: 0.9833 - val_loss: 1.8707 - val_acc: 0.7717\nEpoch 167/200\n2278/2278 [==============================] - 1s 491us/step - loss: 0.0826 - acc: 0.9811 - val_loss: 1.8575 - val_acc: 0.7677\nEpoch 168/200\n2278/2278 [==============================] - 1s 477us/step - loss: 0.0800 - acc: 0.9816 - val_loss: 1.8491 - val_acc: 0.7756\nEpoch 169/200\n2278/2278 [==============================] - 1s 482us/step - loss: 0.0802 - acc: 0.9811 - val_loss: 1.8845 - val_acc: 0.7756\nEpoch 170/200\n2278/2278 [==============================] - 1s 476us/step - loss: 0.0811 - acc: 0.9829 - val_loss: 1.8708 - val_acc: 0.7795\nEpoch 171/200\n2278/2278 [==============================] - 1s 484us/step - loss: 0.0780 - acc: 0.9824 - val_loss: 1.9047 - val_acc: 0.7677\nEpoch 172/200\n2278/2278 [==============================] - 1s 483us/step - loss: 0.0777 - acc: 0.9820 - val_loss: 1.8776 - val_acc: 0.7795\nEpoch 173/200\n2278/2278 [==============================] - 1s 480us/step - loss: 0.0779 - acc: 0.9855 - val_loss: 1.9159 - val_acc: 0.7795\nEpoch 174/200\n2278/2278 [==============================] - 1s 485us/step - loss: 0.0784 - acc: 0.9838 - val_loss: 1.9171 - val_acc: 0.7717\nEpoch 175/200\n2278/2278 [==============================] - 1s 478us/step - loss: 0.0746 - acc: 0.9846 - val_loss: 1.9271 - val_acc: 0.7717\nEpoch 176/200\n2278/2278 [==============================] - 1s 483us/step - loss: 0.0763 - acc: 0.9838 - val_loss: 1.9016 - val_acc: 0.7717\nEpoch 177/200\n2278/2278 [==============================] - 1s 489us/step - loss: 0.0738 - acc: 0.9833 - val_loss: 1.9191 - val_acc: 0.7795\nEpoch 178/200\n2278/2278 [==============================] - 1s 483us/step - loss: 0.0743 - acc: 0.9842 - val_loss: 1.9245 - val_acc: 0.7756\nEpoch 179/200\n2278/2278 [==============================] - 1s 482us/step - loss: 0.0727 - acc: 0.9846 - val_loss: 1.9338 - val_acc: 0.7756\nEpoch 180/200\n2278/2278 [==============================] - 1s 509us/step - loss: 0.0725 - acc: 0.9829 - val_loss: 1.9443 - val_acc: 0.7638\nEpoch 181/200\n2278/2278 [==============================] - 1s 493us/step - loss: 0.0729 - acc: 0.9846 - val_loss: 1.9737 - val_acc: 0.7677\nEpoch 182/200\n2278/2278 [==============================] - 1s 483us/step - loss: 0.0715 - acc: 0.9860 - val_loss: 1.9457 - val_acc: 0.7835\nEpoch 183/200\n2278/2278 [==============================] - 1s 486us/step - loss: 0.0712 - acc: 0.9833 - val_loss: 1.9719 - val_acc: 0.7756\nEpoch 184/200\n2278/2278 [==============================] - 1s 484us/step - loss: 0.0735 - acc: 0.9838 - val_loss: 2.0007 - val_acc: 0.7677\nEpoch 185/200\n2278/2278 [==============================] - 1s 494us/step - loss: 0.0696 - acc: 0.9855 - val_loss: 2.0087 - val_acc: 0.7717\nEpoch 186/200\n2278/2278 [==============================] - 1s 489us/step - loss: 0.0727 - acc: 0.9851 - val_loss: 2.0319 - val_acc: 0.7677\nEpoch 187/200\n2278/2278 [==============================] - 1s 481us/step - loss: 0.0714 - acc: 0.9833 - val_loss: 2.0328 - val_acc: 0.7598\nEpoch 188/200\n2278/2278 [==============================] - 1s 482us/step - loss: 0.0693 - acc: 0.9846 - val_loss: 2.0071 - val_acc: 0.7520\nEpoch 189/200\n2278/2278 [==============================] - 1s 483us/step - loss: 0.0691 - acc: 0.9846 - val_loss: 2.0225 - val_acc: 0.7559\nEpoch 190/200\n2278/2278 [==============================] - 1s 484us/step - loss: 0.0686 - acc: 0.9873 - val_loss: 2.0566 - val_acc: 0.7559\nEpoch 191/200\n2278/2278 [==============================] - 1s 476us/step - loss: 0.0692 - acc: 0.9868 - val_loss: 2.0449 - val_acc: 0.7598\nEpoch 192/200\n2278/2278 [==============================] - 1s 485us/step - loss: 0.0703 - acc: 0.9868 - val_loss: 2.0655 - val_acc: 0.7638\nEpoch 193/200\n2278/2278 [==============================] - 1s 481us/step - loss: 0.0688 - acc: 0.9855 - val_loss: 2.0808 - val_acc: 0.7598\nEpoch 194/200\n2278/2278 [==============================] - 1s 513us/step - loss: 0.0670 - acc: 0.9864 - val_loss: 2.0725 - val_acc: 0.7677\nEpoch 195/200\n2278/2278 [==============================] - 1s 487us/step - loss: 0.0671 - acc: 0.9860 - val_loss: 2.0847 - val_acc: 0.7756\nEpoch 196/200\n2278/2278 [==============================] - 1s 488us/step - loss: 0.0669 - acc: 0.9877 - val_loss: 2.0724 - val_acc: 0.7559\nEpoch 197/200\n2278/2278 [==============================] - 1s 484us/step - loss: 0.0661 - acc: 0.9868 - val_loss: 2.1006 - val_acc: 0.7520\nEpoch 198/200\n2278/2278 [==============================] - 1s 482us/step - loss: 0.0652 - acc: 0.9881 - val_loss: 2.0849 - val_acc: 0.7598\nEpoch 199/200\n2278/2278 [==============================] - 1s 510us/step - loss: 0.0656 - acc: 0.9886 - val_loss: 2.0765 - val_acc: 0.7638\nEpoch 200/200\n2278/2278 [==============================] - 1s 493us/step - loss: 0.0659 - acc: 0.9873 - val_loss: 2.1047 - val_acc: 0.7677\n2532/2532 [==============================] - 0s 44us/step\n\nacc: 96.60%\n<<<<<<<< ML MODEL CREATED AND SAVED >>>>>>>>>>>\n\n\nStarting file transfer for model/nlc_keras_model2.h5 to bucket: myml-donotdelete-pr-zhsoop3fasxh7h\n\nTransfer for model/nlc_keras_model2.h5 Complete!\n\n"
                }
            ], 
            "source": "reset_all()"
        }, 
        {
            "execution_count": 119, 
            "cell_type": "code", 
            "metadata": {}, 
            "outputs": [
                {
                    "output_type": "stream", 
                    "name": "stdout", 
                    "text": "{'ENDPOINT': 'https://s3-api.us-geo.objectstorage.service.networklayer.com', 'IBM_AUTH_ENDPOINT': 'https://iam.ng.bluemix.net/oidc/token', 'IBM_API_KEY_ID': 'jDLQvkwwo3h77B5MWgqOTUq25D94Xr6CGrb_6dYmVcj-'}\n{'FILE': 'raw_car_dashboard_ml.csv', 'BUCKET': 'myml-donotdelete-pr-zhsoop3fasxh7h'}\n2532 documents\n26 classes ['about_VA', 'capabilites', 'capabilities', 'compound_questions', 'decision_replies', 'goodbyes', 'greetings', 'improving_system', 'information_request', 'interface_interactions', 'interface_issues', 'locate_amenity', 'navigation', 'negative_reaction', 'not_specified', 'out_of_scope', 'phone', 'positive_reaction', 'selections', 'system_reliance', 'traffic_update', 'turn_down', 'turn_off', 'turn_on', 'turn_up', 'weather']\n"
                }
            ], 
            "source": "reset_for_classification()"
        }, 
        {
            "execution_count": 124, 
            "cell_type": "code", 
            "metadata": {}, 
            "outputs": [
                {
                    "output_type": "stream", 
                    "name": "stdout", 
                    "text": "<<< ML Model Already Exists >>>>>\n"
                }, 
                {
                    "execution_count": 124, 
                    "metadata": {}, 
                    "data": {
                        "text/plain": "[('weather', 1.0)]"
                    }, 
                    "output_type": "execute_result"
                }
            ], 
            "source": "classify('is it going to rain next friday')"
        }, 
        {
            "execution_count": null, 
            "cell_type": "code", 
            "metadata": {}, 
            "outputs": [], 
            "source": "# connectSocketIO()"
        }, 
        {
            "execution_count": null, 
            "cell_type": "code", 
            "metadata": {}, 
            "outputs": [], 
            "source": "!pip install wget --upgrade\n!pip install watson-machine-learning-client --upgrade"
        }, 
        {
            "execution_count": null, 
            "cell_type": "code", 
            "metadata": {}, 
            "outputs": [], 
            "source": "from watson_machine_learning_client import WatsonMachineLearningAPIClient"
        }, 
        {
            "execution_count": null, 
            "cell_type": "code", 
            "metadata": {}, 
            "outputs": [], 
            "source": "# The code was removed by DSX for sharing."
        }, 
        {
            "execution_count": null, 
            "cell_type": "code", 
            "metadata": {}, 
            "outputs": [], 
            "source": "client = WatsonMachineLearningAPIClient(wml_credentials)"
        }, 
        {
            "execution_count": null, 
            "cell_type": "code", 
            "metadata": {}, 
            "outputs": [], 
            "source": "instance_details = client.service_instance.get_details()\n\nprint(json.dumps(instance_details, indent=2))"
        }, 
        {
            "execution_count": null, 
            "cell_type": "code", 
            "metadata": {}, 
            "outputs": [], 
            "source": "model_props = {client.repository.ModelMetaNames.AUTHOR_NAME: \"Gurvinder Singh\", \n               client.repository.ModelMetaNames.AUTHOR_EMAIL: \"gurvsin3@in.ibm.com\", \n               client.repository.ModelMetaNames.NAME: \"My Custom NLC With Keras\",\n               client.repository.ModelMetaNames.RUNTIME_NAME: \"python\",\n               client.repository.ModelMetaNames.RUNTIME_VERSION: \"3.5\"}\npublished_model = client.repository.store_model(model=model, meta_props=model_props)"
        }
    ], 
    "metadata": {
        "kernelspec": {
            "display_name": "Python 3.5", 
            "name": "python3", 
            "language": "python"
        }, 
        "language_info": {
            "mimetype": "text/x-python", 
            "nbconvert_exporter": "python", 
            "version": "3.5.5", 
            "name": "python", 
            "file_extension": ".py", 
            "pygments_lexer": "ipython3", 
            "codemirror_mode": {
                "version": 3, 
                "name": "ipython"
            }
        }
    }, 
    "nbformat": 4
}